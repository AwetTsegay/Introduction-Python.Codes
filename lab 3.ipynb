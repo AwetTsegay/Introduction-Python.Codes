{
 "cells": [
  {
   "cell_type": "markdown",
   "metadata": {},
   "source": [
    "# Lab 3\n",
    "\n",
    "# Python -- Basic Codes"
   ]
  },
  {
   "cell_type": "markdown",
   "metadata": {},
   "source": [
    "### 1. Strings and loops over strings"
   ]
  },
  {
   "cell_type": "markdown",
   "metadata": {},
   "source": [
    "#### Exercise 1. \n",
    "\n",
    "Write a program that asks the user for a string and prints its first and last character. If the string has length one, it should just print one character. If the string is empty, is should just print a new line.\n",
    "\n",
    "Hints:\n",
    "- Use the built-in function len to determine the length of a string. For example, len('abc') evaluates to 3.\n",
    "- To determine whether a string is empty, you can either compare its length with 0, or compare it directly against '', which represents the empty string.\n"
   ]
  },
  {
   "cell_type": "code",
   "execution_count": 1,
   "metadata": {},
   "outputs": [
    {
     "name": "stdout",
     "output_type": "stream",
     "text": [
      "type in a string: AWET\n",
      "AT\n"
     ]
    }
   ],
   "source": [
    "s = input(\"type in a string: \")\n",
    "if len(s) ==1:\n",
    "    print(s)\n",
    "elif len(s) == 0:\n",
    "    print(\"\")\n",
    "else:\n",
    "    start = s[0]\n",
    "    end = s[-1]\n",
    "    print(start + end)"
   ]
  },
  {
   "cell_type": "code",
   "execution_count": 2,
   "metadata": {},
   "outputs": [
    {
     "name": "stdout",
     "output_type": "stream",
     "text": [
      "Enter a string: AWET\n",
      "A T\n"
     ]
    }
   ],
   "source": [
    "s = str(input(\"Enter a string: \"))\n",
    "l = len(s)\n",
    "if l > 1:\n",
    "    print(s[0], s[l-1])\n",
    "elif l == 1:\n",
    "    print(s[0])\n",
    "else:\n",
    "    print('/n')"
   ]
  },
  {
   "cell_type": "markdown",
   "metadata": {},
   "source": [
    "#### Exercise 2.\n",
    "\n",
    "Write a program that asks the user to enter a string. If the string contains at least one of every vowel (a, e, i, o, u), print 'All vowels are there!'. Additionally, if the string starts with the letter a and ends with the letter z, print 'And it could be alphabetical!'.\n",
    "\n",
    "Hint: use in to determine if a given string is contained in another string. \n",
    "\n",
    "For example, 'a' in 'xyab' evaluates to True."
   ]
  },
  {
   "cell_type": "code",
   "execution_count": 3,
   "metadata": {},
   "outputs": [
    {
     "name": "stdout",
     "output_type": "stream",
     "text": [
      "Enter a string: I love python\n",
      "All vowels are there!\n"
     ]
    }
   ],
   "source": [
    "n = input(\"Enter a string: \")\n",
    "n = n.lower()\n",
    "vowels = 'aeiou'\n",
    "foundVowel = True\n",
    "\n",
    "for c in vowels:\n",
    "    foundVowel and c in n\n",
    "    \n",
    "if foundVowel:\n",
    "    print(\"All vowels are there!\")\n",
    "    firstLetter = n[0] == 'a'\n",
    "    lastLetter = n[-1] == 'z'\n",
    "    if firstLetter and lastLetter:\n",
    "        print('And it could be alphabetical!')"
   ]
  },
  {
   "cell_type": "code",
   "execution_count": 4,
   "metadata": {},
   "outputs": [
    {
     "name": "stdout",
     "output_type": "stream",
     "text": [
      "Enter a string: AWET\n"
     ]
    },
    {
     "data": {
      "text/plain": [
       "'awet'"
      ]
     },
     "execution_count": 4,
     "metadata": {},
     "output_type": "execute_result"
    }
   ],
   "source": [
    "s = str(input(\"Enter a string: \"))\n",
    "s = s.lower()\n",
    "s"
   ]
  },
  {
   "cell_type": "code",
   "execution_count": 5,
   "metadata": {},
   "outputs": [
    {
     "name": "stdout",
     "output_type": "stream",
     "text": [
      "Enter a string: AWET\n",
      "a\n",
      "w\n",
      "e\n",
      "t\n"
     ]
    }
   ],
   "source": [
    "s = str(input(\"Enter a string: \"))\n",
    "s = s.lower()\n",
    "for i in s:\n",
    "    print(i)"
   ]
  },
  {
   "cell_type": "code",
   "execution_count": 6,
   "metadata": {},
   "outputs": [
    {
     "name": "stdout",
     "output_type": "stream",
     "text": [
      "Enter a string: AWET\n",
      "a\n",
      "e\n"
     ]
    }
   ],
   "source": [
    "s = input(\"Enter a string: \")\n",
    "s = s.lower()\n",
    "vowels = 'aeiou'\n",
    "for i in s:\n",
    "    if i in vowels:\n",
    "        print(i)"
   ]
  },
  {
   "cell_type": "code",
   "execution_count": 7,
   "metadata": {},
   "outputs": [
    {
     "name": "stdout",
     "output_type": "stream",
     "text": [
      "Enter a string: AWET\n",
      "All vowels are there!\n",
      "All vowels are there!\n"
     ]
    }
   ],
   "source": [
    "s = str(input(\"Enter a string: \"))\n",
    "s = s.lower()\n",
    "vowels = 'aeiou'\n",
    "for i in s:\n",
    "    if i in vowels:\n",
    "        print('All vowels are there!')\n",
    "        if s[0]=='a' and s[-1]=='z':\n",
    "            print('And it could be alphabetical!')\n",
    "        "
   ]
  },
  {
   "cell_type": "code",
   "execution_count": 8,
   "metadata": {},
   "outputs": [
    {
     "name": "stdout",
     "output_type": "stream",
     "text": [
      "Enter a string: AWET\n",
      "All vowels are there!\n",
      "All vowels are there!\n"
     ]
    }
   ],
   "source": [
    "s = input(\"Enter a string: \")\n",
    "s = s.lower()\n",
    "vowels = 'aeiou'\n",
    "for i in s:\n",
    "    if i in vowels:\n",
    "        print('All vowels are there!')\n",
    "        if s[0]=='a' and s[-1]=='z':\n",
    "            print('And it could be alphabetical!')"
   ]
  },
  {
   "cell_type": "markdown",
   "metadata": {},
   "source": [
    "#### Exercise 3. \n",
    "\n",
    "Write a program that asks the user to enter a string, and returns the number of vowels\n",
    "(a, e, i, o, u) appearing at all odd indices. \n",
    "\n",
    "For example, if the user enters 'eggs over easy', then your program must output 3"
   ]
  },
  {
   "cell_type": "code",
   "execution_count": 9,
   "metadata": {},
   "outputs": [
    {
     "name": "stdout",
     "output_type": "stream",
     "text": [
      "Enter a string: eggs over easy\n",
      "2\n"
     ]
    }
   ],
   "source": [
    "n = input(\"Enter a string: \")\n",
    "n = n.lower()\n",
    "vowels = 'aeiou'\n",
    "\n",
    "nodd = n[0::2]\n",
    "\n",
    "n_vowels = 0\n",
    "for c in nodd:\n",
    "    if c in vowels:\n",
    "        n_vowels += 1\n",
    "print(n_vowels)"
   ]
  },
  {
   "cell_type": "markdown",
   "metadata": {},
   "source": [
    "#### Exercise 4. \n",
    "\n",
    "Write a program that asks the user to enter a string, and using string slicing determines whether the string is a concatenation of three identical strings. \n",
    "\n",
    "If so, print 'string is a triple concat of ' followed by the relevant substring; \n",
    "\n",
    "otherwise, print 'string is not a triple concat'. \n",
    "\n",
    "For example, if the user enters 'hello,hello,hello,', the output must be 'string is a triple concat of hello,'."
   ]
  },
  {
   "cell_type": "code",
   "execution_count": null,
   "metadata": {},
   "outputs": [],
   "source": []
  },
  {
   "cell_type": "markdown",
   "metadata": {},
   "source": [
    "#### Exercise 5. \n",
    "Write a program that asks the user to enter a string s, and outputs the number of times the string 'tart' appears in s. \n",
    "\n",
    "For example, if the input is iliketartartandmoretart,\n",
    "the output must be 3. \n",
    "\n",
    "Note that simply calling s.count('tart') may not produce a correct answer as it only counts the number of non-overlapping substrings. \n",
    "\n",
    "That is, in the above example, 'iliketartartandmoretart'.count('tart') evaluates to 2 since the second occurrence of tart overlaps the first one."
   ]
  },
  {
   "cell_type": "code",
   "execution_count": 10,
   "metadata": {},
   "outputs": [
    {
     "name": "stdout",
     "output_type": "stream",
     "text": [
      "Enter a string: iliketartartandmoretart\n",
      "3\n"
     ]
    }
   ],
   "source": [
    "s = input(\"Enter a string: \")\n",
    "n = len(s)\n",
    "ntart = 0\n",
    "for i in range(n-3):\n",
    "    substring = s[i:i+4]\n",
    "    if substring == 'tart':\n",
    "        ntart += 1\n",
    "        \n",
    "print(ntart)"
   ]
  },
  {
   "cell_type": "markdown",
   "metadata": {},
   "source": [
    "### 2. Simple functions"
   ]
  },
  {
   "cell_type": "markdown",
   "metadata": {},
   "source": [
    "#### Exercise 6.\n",
    "Write a function max3() that takes three integers as input arguments and returns the\n",
    "largest of them. \n",
    "\n",
    "Include a docstring describing the inputs, outputs, and what is being computed."
   ]
  },
  {
   "cell_type": "code",
   "execution_count": 11,
   "metadata": {},
   "outputs": [
    {
     "name": "stdout",
     "output_type": "stream",
     "text": [
      "Largest element is: 10\n"
     ]
    }
   ],
   "source": [
    "def max3(i1, i2, i3):\n",
    "    '''\n",
    "    Input: i1, i2, i3 are integers\n",
    "    Output: The largest one\n",
    "    '''\n",
    "    l = [i1, i2, i3]\n",
    "    l.sort()\n",
    "    print(\"Largest element is:\", l[-1])\n",
    "max3(10, 4, 7)  "
   ]
  },
  {
   "cell_type": "code",
   "execution_count": 12,
   "metadata": {},
   "outputs": [
    {
     "data": {
      "text/plain": [
       "10"
      ]
     },
     "execution_count": 12,
     "metadata": {},
     "output_type": "execute_result"
    }
   ],
   "source": [
    "def max3(n1,n2,n3):\n",
    "    \n",
    "    l = [n1,n2,n3]\n",
    "    l.sort()\n",
    "    return(l[2])\n",
    "max3(10, 4, 7) "
   ]
  },
  {
   "cell_type": "markdown",
   "metadata": {},
   "source": [
    "#### Exercise 7. \n",
    "Write a function sort3() that takes three integers as input arguments and returns a\n",
    "tuple consisting of the input numbers sorted in the increasing order of their values. \n",
    "\n",
    "For example, sort3(120, 3, 23) should return (3, 23, 120)."
   ]
  },
  {
   "cell_type": "code",
   "execution_count": 13,
   "metadata": {},
   "outputs": [
    {
     "data": {
      "text/plain": [
       "(3, 23, 120)"
      ]
     },
     "execution_count": 13,
     "metadata": {},
     "output_type": "execute_result"
    }
   ],
   "source": [
    "def sort3(t):\n",
    "    \"\"\"\n",
    "    Input: tuple of numbers\n",
    "    Output: tuple of integers in t sorted\n",
    "    \"\"\"\n",
    "    l = []\n",
    "    for e in t:\n",
    "        l.append(e)\n",
    "    l.sort()\n",
    "    nt = (l[0], l[1], l[2])\n",
    "    return (nt) \n",
    "\n",
    "sort3((120, 3, 23))"
   ]
  },
  {
   "cell_type": "code",
   "execution_count": 14,
   "metadata": {},
   "outputs": [
    {
     "data": {
      "text/plain": [
       "(3, 23, 120)"
      ]
     },
     "execution_count": 14,
     "metadata": {},
     "output_type": "execute_result"
    }
   ],
   "source": [
    "def sort3(t):\n",
    "    '''\n",
    "     t : tuple\n",
    "        tuple of numbers\n",
    "    '''\n",
    "    l = []\n",
    "    for e in t:\n",
    "        l.append(e)\n",
    "    l.sort()\n",
    "    \n",
    "    nt = ()\n",
    "    for e in l:\n",
    "        nt = nt + (e,)\n",
    "    return(nt)\n",
    "sort3((120, 3, 23))"
   ]
  },
  {
   "cell_type": "code",
   "execution_count": 15,
   "metadata": {},
   "outputs": [
    {
     "data": {
      "text/plain": [
       "(3, 23, 120)"
      ]
     },
     "execution_count": 15,
     "metadata": {},
     "output_type": "execute_result"
    }
   ],
   "source": [
    "def sort3(i1, i2, i3):\n",
    "    \"\"\"\n",
    "    input: three integers\n",
    "    output: tuple consisting of the input numbers sorted in the \n",
    "    increasing order of their values\n",
    "    \"\"\"\n",
    "    l = [i1, i2, i3]\n",
    "    l.sort()\n",
    "    nt = (l[0], l[1], l[2])\n",
    "    return (nt)\n",
    "sort3(120, 3, 23) "
   ]
  },
  {
   "cell_type": "markdown",
   "metadata": {},
   "source": [
    "#### Exercise 8. \n",
    "Write a function min_max() that takes a string of digits as input and returns a string consisting of the smallest and the largest integers in the input string. \n",
    "\n",
    "Do this by iterating over the elements of the string using the for...in loop. \n",
    "\n",
    "Do not use the built-in min() and max() functions.\n",
    "\n",
    "For example, min_max(\"31805\") should return \"08\"."
   ]
  },
  {
   "cell_type": "code",
   "execution_count": 16,
   "metadata": {},
   "outputs": [
    {
     "name": "stdout",
     "output_type": "stream",
     "text": [
      "3\n",
      "1\n",
      "8\n",
      "0\n",
      "5\n"
     ]
    }
   ],
   "source": [
    "a = (\"31805\")\n",
    "for i in a:\n",
    "    print (str(i))"
   ]
  },
  {
   "cell_type": "code",
   "execution_count": 17,
   "metadata": {},
   "outputs": [
    {
     "name": "stdout",
     "output_type": "stream",
     "text": [
      "50813 \n"
     ]
    }
   ],
   "source": [
    "a = (\"31805\")\n",
    "l = \" \"\n",
    "for i in a:\n",
    "    l = i + l\n",
    "print (l)"
   ]
  },
  {
   "cell_type": "code",
   "execution_count": 18,
   "metadata": {},
   "outputs": [
    {
     "data": {
      "text/plain": [
       "\"['0', '1', '3', '5', '8']\""
      ]
     },
     "execution_count": 18,
     "metadata": {},
     "output_type": "execute_result"
    }
   ],
   "source": [
    "def min_max(t):\n",
    "    T = []\n",
    "    for i in t:\n",
    "        T.append(i)\n",
    "    T.sort()\n",
    "    return str(T)\n",
    "min_max(\"31805\")"
   ]
  },
  {
   "cell_type": "code",
   "execution_count": 19,
   "metadata": {},
   "outputs": [
    {
     "data": {
      "text/plain": [
       "(6, 45)"
      ]
     },
     "execution_count": 19,
     "metadata": {},
     "output_type": "execute_result"
    }
   ],
   "source": [
    "def min_max(t):\n",
    "    \"\"\"\n",
    "    input: a string of digits\n",
    "    output: a string consisting of the smallest and the largest integers\n",
    "    \"\"\"\n",
    "    min = t[0]\n",
    "    max = t[0]\n",
    "    for e in t:\n",
    "        if e < min:\n",
    "            min = e\n",
    "            \n",
    "        if e > max:\n",
    "            max = e\n",
    "    return((min,max))\n",
    "min_max((29, 45, 6, 19)) "
   ]
  },
  {
   "cell_type": "code",
   "execution_count": 20,
   "metadata": {},
   "outputs": [
    {
     "data": {
      "text/plain": [
       "('0', '8')"
      ]
     },
     "execution_count": 20,
     "metadata": {},
     "output_type": "execute_result"
    }
   ],
   "source": [
    "def min_max(t):\n",
    "    \"\"\"\n",
    "    input: a string of digits\n",
    "    output: a string consisting of the smallest and the largest integers\n",
    "    \"\"\"\n",
    "    T = []\n",
    "    for i in t:\n",
    "        T.append(i)\n",
    "    T.sort()\n",
    "    n=  T[0],T[len(t)-1]\n",
    "    return n\n",
    "min_max(\"31805\")"
   ]
  },
  {
   "cell_type": "code",
   "execution_count": 21,
   "metadata": {},
   "outputs": [
    {
     "data": {
      "text/plain": [
       "('0', '8')"
      ]
     },
     "execution_count": 21,
     "metadata": {},
     "output_type": "execute_result"
    }
   ],
   "source": [
    "def min_max(t):\n",
    "    T = []\n",
    "    for i in t:\n",
    "        T.append(i)\n",
    "    T.sort()\n",
    "    sl = T[0],T[-1]\n",
    "    return (sl) \n",
    "min_max(\"31805\")"
   ]
  },
  {
   "cell_type": "code",
   "execution_count": 22,
   "metadata": {},
   "outputs": [
    {
     "data": {
      "text/plain": [
       "'31805'"
      ]
     },
     "execution_count": 22,
     "metadata": {},
     "output_type": "execute_result"
    }
   ],
   "source": [
    "def min_max(t):\n",
    "    return t\n",
    "min_max(\"31805\")"
   ]
  },
  {
   "cell_type": "markdown",
   "metadata": {},
   "source": [
    "#### Exercise 9. \n",
    "Write a function reverse() that takes one argument that can be either a string or a tuple as\n",
    "input, and returns its reversal. \n",
    "\n",
    "For example, reverse(\"left to right\") should return the string \"thgir ot tfel\".\n"
   ]
  },
  {
   "cell_type": "code",
   "execution_count": 23,
   "metadata": {},
   "outputs": [
    {
     "data": {
      "text/plain": [
       "(8, (5, 7), 'hi', 3)"
      ]
     },
     "execution_count": 23,
     "metadata": {},
     "output_type": "execute_result"
    }
   ],
   "source": [
    "def reverse(x):\n",
    "    if type(x) == str:\n",
    "        r = \"\"\n",
    "    elif type(x) == tuple:\n",
    "        r = ()\n",
    "    else:\n",
    "        print(\"Must be a string or tuples\")\n",
    "        \n",
    "    for i in range(len(x)-1,-1,-1):\n",
    "        if type(x) == str:\n",
    "            r = r + x[i]\n",
    "        else:\n",
    "            r = r + (x[i],)\n",
    "    return(r)\n",
    "reverse((3, 'hi', (5, 7), 8))  "
   ]
  },
  {
   "cell_type": "code",
   "execution_count": 24,
   "metadata": {},
   "outputs": [
    {
     "data": {
      "text/plain": [
       "'thgir ot tfel'"
      ]
     },
     "execution_count": 24,
     "metadata": {},
     "output_type": "execute_result"
    }
   ],
   "source": [
    "def reverse(s):\n",
    "    '''\n",
    "    Input: either a string or a tuple\n",
    "    Output: its reversal\n",
    "    '''\n",
    "    r = s[::-1]\n",
    "    return r\n",
    "reverse(\"left to right\") "
   ]
  },
  {
   "cell_type": "markdown",
   "metadata": {},
   "source": [
    "#### Exercise 10. \n",
    "A palindrome is a string that is the same as its reversal. \n",
    "\n",
    "Using reverse() write the function partialPalindrome that takes a string s and an integer n as input.\n",
    "\n",
    "partialPalindrome returns a boolean that is True is there is a sub-string in s that is a palindrome of length n and False otherwise.\n",
    "\n",
    "For example, partialPalindrome(\"AGTTGCC\",4) will return True and partialPalindrome(\"AGTTGCC\",3), will return False."
   ]
  },
  {
   "cell_type": "code",
   "execution_count": 25,
   "metadata": {},
   "outputs": [],
   "source": [
    "def partialPalindrome(s, n):\n",
    "    \"\"\"\n",
    "    input: a string s and an integer n\n",
    "    output: \n",
    "    \"\"\"\n",
    "    \n",
    "partialPalindrome(\"AGTTGCC\",4)"
   ]
  },
  {
   "cell_type": "markdown",
   "metadata": {},
   "source": [
    "#### Exercise 11. \n",
    "Write a function extract_strings that takes three arguments with arbitrary types, and returns a string with all the arguments that are strings concatenated together. \n",
    "\n",
    "For example, extract_strings(('foo', 5, 'aaa')) should return ('fooaaa').\n",
    "\n",
    "Hints:\n",
    "- Use type(x) to determine the type of variable x.\n",
    "- The keyword to denote the string type in Python is str."
   ]
  },
  {
   "cell_type": "code",
   "execution_count": 26,
   "metadata": {},
   "outputs": [
    {
     "data": {
      "text/plain": [
       "'foo'"
      ]
     },
     "execution_count": 26,
     "metadata": {},
     "output_type": "execute_result"
    }
   ],
   "source": [
    "def extract_strings(r):\n",
    "    \"\"\"\n",
    "    input: takes three arguments with arbitrary types\n",
    "    output: returns a string with all the arguments \n",
    "    that are strings concatenated together.\n",
    "    \"\"\"\n",
    "    s = ()\n",
    "    for i in r:\n",
    "        if type(i) is str:\n",
    "            return i\n",
    "    \n",
    "extract_strings(('foo', 5, 'aaa'))"
   ]
  },
  {
   "cell_type": "code",
   "execution_count": 27,
   "metadata": {},
   "outputs": [
    {
     "data": {
      "text/plain": [
       "'fooaaa'"
      ]
     },
     "execution_count": 27,
     "metadata": {},
     "output_type": "execute_result"
    }
   ],
   "source": [
    "def extract_strings(x):\n",
    "    r = ''\n",
    "    for i in (x):\n",
    "        if type(i) == str:\n",
    "            r = (r + i)\n",
    "    return r\n",
    "extract_strings(('foo', 5, 'aaa'))"
   ]
  },
  {
   "cell_type": "markdown",
   "metadata": {},
   "source": [
    "#### Exercise 12. \n",
    "Rewrite the code you wrote in the first section on strings so that they are functions.\n",
    "\n",
    "Each function should have a single argument which is a string. The function should not read in a string.\n",
    "\n",
    "Write a new function runThis which accepts three arguments, a string s and functions fa and fb.\n",
    "\n",
    "runThis should check if the type fa and fb returns is the same and returns an integer or string. \n",
    "\n",
    "If that is true then it should return fa(s) + fb(s). If it is false then it should return None. \n",
    "\n",
    "Hints:\n",
    "- The keyword to denote the integer type in Python is int.\n"
   ]
  },
  {
   "cell_type": "code",
   "execution_count": null,
   "metadata": {},
   "outputs": [],
   "source": []
  },
  {
   "cell_type": "markdown",
   "metadata": {},
   "source": [
    "### 2. Advanced functions"
   ]
  },
  {
   "cell_type": "markdown",
   "metadata": {},
   "source": [
    "#### Exercise 13. \n",
    "In this exercise, you will practice implementing generic functions by means of passing functions as arguments to other functions. \n",
    "\n",
    "Fill the missing parts as per the text in the comments:\n",
    "\n",
    "Write expressions that use area() to calculate the following quantities:\n",
    "1. the area of a circle with a radius of 10;\n",
    "2. the area of a square with sides of length 5;\n",
    "3. the area of a circle with diameter of length 4."
   ]
  },
  {
   "cell_type": "code",
   "execution_count": 28,
   "metadata": {},
   "outputs": [
    {
     "name": "stdout",
     "output_type": "stream",
     "text": [
      "1. the area of a circle with a radius of 10:  314.0\n",
      "2. the area of a square with sides of length 5:  25\n",
      "3. the area of a circle with diameter of length 4. 12.56\n"
     ]
    }
   ],
   "source": [
    "def area(shape , n):\n",
    "    # replace pass with a line to return the area\n",
    "    # of a generic shape with a parameter of n\n",
    "    return (shape (n))\n",
    "def circle(radius):\n",
    "    \"\"\"\n",
    "    Input: radius , a positive float\n",
    "    Returns the area of a circle with the given radius\n",
    "    \"\"\"\n",
    "    return 3.14*radius**2\n",
    "def square(length):\n",
    "    \"\"\"\n",
    "    Input: length , a positive float\n",
    "    Returns the area of a square with sides of the given length\n",
    "    \"\"\"\n",
    "    return length*length\n",
    "print(\"1. the area of a circle with a radius of 10: \", area(circle ,10))\n",
    "print(\"2. the area of a square with sides of length 5: \", area(square ,5)) \n",
    "print(\"3. the area of a circle with diameter of length 4.\", area(circle ,2))"
   ]
  },
  {
   "cell_type": "code",
   "execution_count": 29,
   "metadata": {},
   "outputs": [
    {
     "name": "stdout",
     "output_type": "stream",
     "text": [
      "Area of circle is =  12.56\n",
      "Area of square is =  4\n",
      "Area of rectangle is =  6\n"
     ]
    }
   ],
   "source": [
    "def area(shape , n):\n",
    "    # replace pass with a line to return the area\n",
    "    # of a generic shape with a parameter of n\n",
    "    return (shape (n))\n",
    "def circle(radius):\n",
    "    \"\"\"\n",
    "    Input: radius , a positive float\n",
    "    Returns the area of a circle with the given radius\n",
    "    \"\"\"\n",
    "    return 3.14*radius[0]**2\n",
    "def square(length):\n",
    "    \"\"\"\n",
    "    Input: length , a positive float\n",
    "    Returns the area of a square with sides of the given length\n",
    "    \"\"\"\n",
    "    return length[0]*length[0]\n",
    "def rectangle(dimensions):\n",
    "    \"\"\"\n",
    "    Input: length , a positive float\n",
    "    Returns the area of a square with sides of the given length\n",
    "    \"\"\"\n",
    "    return (dimensions[0]*dimensions[1])\n",
    "\n",
    "print(\"Area of circle is = \",area(circle ,(2,)))\n",
    "print(\"Area of square is = \", area(square ,(2,))) \n",
    "print(\"Area of rectangle is = \", area(rectangle ,(2, 3)))"
   ]
  },
  {
   "cell_type": "markdown",
   "metadata": {},
   "source": [
    "#### Exercise 14. \n",
    "In this exercise, you will practice function nesting as well as returning a function from\n",
    "another function. Note how nesting functions inside other functions allows you to compartmentalize\n",
    "functionalities that are relevant only in the context of specific tasks, as opposed to the program as\n",
    "a whole. Also, note how the variable visibility is affected by the nesting.\n",
    "\n",
    "Fill the missing parts as per the text in the comments:\n",
    "    \n",
    "______________________________________________________\n",
    "\n",
    "For example, the function call\n",
    "\n",
    "person (12)(\"Math\")(\"beach\") # example function call\n",
    "\n",
    "should print this:\n",
    "\n",
    "I am a person\n",
    "\n",
    "I like learning\n",
    "\n",
    "But I need to take holidays\n",
    "\n",
    "12 | Math | beach\n",
    "1. Write a function call with age of 29, degree of ”Data Science”, and vacation place of ”Japan”.\n",
    "2. Write a function call so that the last line of its printout is as follows:\n",
    "\n",
    "23 | \"Law\" | \"Barbados\""
   ]
  },
  {
   "cell_type": "code",
   "execution_count": 30,
   "metadata": {},
   "outputs": [
    {
     "name": "stdout",
     "output_type": "stream",
     "text": [
      "I am a person\n",
      "I like learning\n",
      "But I need to take holidays\n",
      "12 | Math | beach\n"
     ]
    }
   ],
   "source": [
    "def person(age):\n",
    "    print(\"I am a person\")\n",
    "    \n",
    "    def student(degree):\n",
    "        print(\"I like learning\")\n",
    "        \n",
    "        def holiday(place):\n",
    "            print(\"But I need to take holidays\")\n",
    "            print(age,\"|\",degree ,\"|\",place)\n",
    "        return (holiday)\n",
    "    return (student)\n",
    "# write a line to return the appropriate function\n",
    "# write a line to return the appropriate function\n",
    "#person(12)\n",
    "person(12)(\"Math\")(\"beach\") # example function call"
   ]
  },
  {
   "cell_type": "code",
   "execution_count": 31,
   "metadata": {},
   "outputs": [
    {
     "name": "stdout",
     "output_type": "stream",
     "text": [
      "I am a person\n",
      "I like learning\n",
      "But I need to take holidays\n",
      "29 | Data Science | Japan\n"
     ]
    }
   ],
   "source": [
    "# 1. Write a function call with age of 29, degree of ”Data Science”, and vacation place of ”Japan”.\n",
    "person(29)(\"Data Science\")(\"Japan\")"
   ]
  },
  {
   "cell_type": "code",
   "execution_count": 32,
   "metadata": {},
   "outputs": [
    {
     "name": "stdout",
     "output_type": "stream",
     "text": [
      "I am a person\n",
      "I like learning\n",
      "But I need to take holidays\n",
      "23 | Law | Barbados\n"
     ]
    }
   ],
   "source": [
    "#2. Write a function call so that the last line of its printout is as follows:\n",
    "person(23)(\"Law\")(\"Barbados\")"
   ]
  },
  {
   "cell_type": "code",
   "execution_count": 33,
   "metadata": {},
   "outputs": [
    {
     "name": "stdout",
     "output_type": "stream",
     "text": [
      "I am a person\n",
      "I like learning\n"
     ]
    },
    {
     "data": {
      "text/plain": [
       "<function __main__.person.<locals>.student.<locals>.holiday(place)>"
      ]
     },
     "execution_count": 33,
     "metadata": {},
     "output_type": "execute_result"
    }
   ],
   "source": [
    "person(12)(\"Math\")"
   ]
  }
 ],
 "metadata": {
  "kernelspec": {
   "display_name": "Python 3",
   "language": "python",
   "name": "python3"
  },
  "language_info": {
   "codemirror_mode": {
    "name": "ipython",
    "version": 3
   },
   "file_extension": ".py",
   "mimetype": "text/x-python",
   "name": "python",
   "nbconvert_exporter": "python",
   "pygments_lexer": "ipython3",
   "version": "3.8.5"
  }
 },
 "nbformat": 4,
 "nbformat_minor": 4
}
