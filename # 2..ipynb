{
 "cells": [
  {
   "cell_type": "markdown",
   "metadata": {},
   "source": [
    "# # 2.\n",
    "\n",
    "# Python -- Basic Codes"
   ]
  },
  {
   "cell_type": "markdown",
   "metadata": {},
   "source": [
    "# Control flow"
   ]
  },
  {
   "cell_type": "markdown",
   "metadata": {},
   "source": [
    "### 1. Strings\n",
    "\n",
    "- Letters, special characters, spaces, digits\n",
    "- Enclose in quotation marks or single quotes"
   ]
  },
  {
   "cell_type": "code",
   "execution_count": 1,
   "metadata": {},
   "outputs": [
    {
     "name": "stdout",
     "output_type": "stream",
     "text": [
      "hello there\n"
     ]
    }
   ],
   "source": [
    "hi = \"hello there\"\n",
    "print(hi)"
   ]
  },
  {
   "cell_type": "code",
   "execution_count": 2,
   "metadata": {},
   "outputs": [
    {
     "name": "stdout",
     "output_type": "stream",
     "text": [
      "hello there\n"
     ]
    }
   ],
   "source": [
    "hi = 'hello there'\n",
    "print(hi)"
   ]
  },
  {
   "cell_type": "code",
   "execution_count": 3,
   "metadata": {},
   "outputs": [
    {
     "name": "stdout",
     "output_type": "stream",
     "text": [
      "hello thereAwet\n"
     ]
    }
   ],
   "source": [
    "name = \"Awet\" \n",
    "greet = hi + name \n",
    "print(greet)"
   ]
  },
  {
   "cell_type": "markdown",
   "metadata": {},
   "source": [
    "##### Concatenate strings"
   ]
  },
  {
   "cell_type": "code",
   "execution_count": 4,
   "metadata": {},
   "outputs": [
    {
     "name": "stdout",
     "output_type": "stream",
     "text": [
      "hello there Awet\n"
     ]
    }
   ],
   "source": [
    "greeting = hi + \" \" + name\n",
    "print(greeting)"
   ]
  },
  {
   "cell_type": "code",
   "execution_count": 5,
   "metadata": {},
   "outputs": [
    {
     "name": "stdout",
     "output_type": "stream",
     "text": [
      "hello there Awet Awet Awet\n"
     ]
    }
   ],
   "source": [
    "silly = hi + (\" \" + name) * 3\n",
    "print(silly)"
   ]
  },
  {
   "cell_type": "markdown",
   "metadata": {},
   "source": [
    "##### Print"
   ]
  },
  {
   "cell_type": "code",
   "execution_count": 6,
   "metadata": {},
   "outputs": [
    {
     "name": "stdout",
     "output_type": "stream",
     "text": [
      "1\n"
     ]
    }
   ],
   "source": [
    "x = 1\n",
    "print(x)"
   ]
  },
  {
   "cell_type": "code",
   "execution_count": 7,
   "metadata": {},
   "outputs": [
    {
     "name": "stdout",
     "output_type": "stream",
     "text": [
      "my fav num is 1 . x = 1\n"
     ]
    }
   ],
   "source": [
    "x_str = str(x)\n",
    "print(\"my fav num is\", x, \".\", \"x =\", x)"
   ]
  },
  {
   "cell_type": "code",
   "execution_count": 8,
   "metadata": {},
   "outputs": [
    {
     "name": "stdout",
     "output_type": "stream",
     "text": [
      "my fav num is 1. x = 1\n"
     ]
    }
   ],
   "source": [
    "print(\"my fav num is \" + x_str + \". \" + \"x = \" + x_str)"
   ]
  },
  {
   "cell_type": "markdown",
   "metadata": {},
   "source": [
    "+ (\\n - a special character; forces output to go onto new line)"
   ]
  },
  {
   "cell_type": "code",
   "execution_count": 9,
   "metadata": {},
   "outputs": [
    {
     "name": "stdout",
     "output_type": "stream",
     "text": [
      "hello \n",
      "hello again\n"
     ]
    }
   ],
   "source": [
    "print(\"hello \\nhello again\")"
   ]
  },
  {
   "cell_type": "markdown",
   "metadata": {},
   "source": [
    "##### input(\"\")\n",
    "\n",
    "* prints whatever is in the quotes\n",
    "* user types in something and hits enter\n",
    "* binds that value to a variable"
   ]
  },
  {
   "cell_type": "code",
   "execution_count": 10,
   "metadata": {},
   "outputs": [
    {
     "name": "stdout",
     "output_type": "stream",
     "text": [
      "Type anything... Awet\n",
      "AwetAwetAwetAwetAwet\n"
     ]
    }
   ],
   "source": [
    "text = input(\"Type anything... \")\n",
    "print(5*text)"
   ]
  },
  {
   "cell_type": "markdown",
   "metadata": {},
   "source": [
    "##### input gives you a string so must cast if working with numbers"
   ]
  },
  {
   "cell_type": "code",
   "execution_count": 11,
   "metadata": {},
   "outputs": [
    {
     "name": "stdout",
     "output_type": "stream",
     "text": [
      "Type anything... 17\n",
      "85\n"
     ]
    }
   ],
   "source": [
    "num = int(input(\"Type anything... \"))\n",
    "print(5*num)"
   ]
  },
  {
   "cell_type": "markdown",
   "metadata": {},
   "source": [
    "#### Quiz - Strings"
   ]
  },
  {
   "cell_type": "code",
   "execution_count": 12,
   "metadata": {},
   "outputs": [
    {
     "name": "stdout",
     "output_type": "stream",
     "text": [
      "Apple\n",
      "Pie\n"
     ]
    }
   ],
   "source": [
    "# Question 1\n",
    "#If \n",
    "c=\"Apple\"\n",
    "d=\"Pie\"\n",
    "#then which of the following commands is required on the Python shell to generate:\n",
    "#Apple\n",
    "#Pie\n",
    "print(c+\"\\n\"+d)"
   ]
  },
  {
   "cell_type": "code",
   "execution_count": 13,
   "metadata": {},
   "outputs": [
    {
     "name": "stdout",
     "output_type": "stream",
     "text": [
      "What is today's temperature?11.5\n",
      "11.5\n"
     ]
    }
   ],
   "source": [
    "# Question 2\n",
    "# Select the following fragments of python to construct a command that will print out onto the screen \n",
    "# What is today's temperature?\n",
    "# and will then accept input from the user which will be stored as a float in the variable x.\n",
    "x = float (input (\"What is today's temperature?\" ))\n",
    "print(x)"
   ]
  },
  {
   "cell_type": "code",
   "execution_count": 14,
   "metadata": {},
   "outputs": [
    {
     "data": {
      "text/plain": [
       "'TimeTime passes'"
      ]
     },
     "execution_count": 14,
     "metadata": {},
     "output_type": "execute_result"
    }
   ],
   "source": [
    "# Question 3\n",
    "#If \n",
    "t=\"Time\"\n",
    "p=\" passes\"\n",
    "#then what is the output when you run the following from the Python shell\n",
    "t*2 + p"
   ]
  },
  {
   "cell_type": "code",
   "execution_count": 15,
   "metadata": {},
   "outputs": [
    {
     "name": "stdout",
     "output_type": "stream",
     "text": [
      "Goodbye Mr.Chips\n"
     ]
    }
   ],
   "source": [
    "# Question 4\n",
    "# If \n",
    "a=\"Goodbye\"\n",
    "b=\"Mr.Chips\"\n",
    "# then which of the following commands is required on the Python shell to generate:\n",
    "#Goodbye Mr.Chips\n",
    "print(a+\" \"+b)"
   ]
  },
  {
   "cell_type": "markdown",
   "metadata": {},
   "source": [
    "### 2. Boolean\n",
    "\n",
    "- COMPARISON OPERATORS ON int, float, string\n",
    "- i and j are variable names\n",
    "- comparisons below evaluate to a Boolean \n",
    "    \n",
    "- i > j\n",
    "- i >= j\n",
    "- i < j\n",
    "- i <= j\n",
    "- i == j -> equality test, True if i is the same as j\n",
    "- i != j -> inequality test, True if i not the same as j"
   ]
  },
  {
   "cell_type": "markdown",
   "metadata": {},
   "source": [
    "#### COMPARISON ON STRINGS\n",
    "\n",
    "- Lexicographical - Dictionary order"
   ]
  },
  {
   "cell_type": "code",
   "execution_count": 16,
   "metadata": {},
   "outputs": [
    {
     "data": {
      "text/plain": [
       "False"
      ]
     },
     "execution_count": 16,
     "metadata": {},
     "output_type": "execute_result"
    }
   ],
   "source": [
    "'a' > 'b'"
   ]
  },
  {
   "cell_type": "code",
   "execution_count": 17,
   "metadata": {},
   "outputs": [
    {
     "data": {
      "text/plain": [
       "True"
      ]
     },
     "execution_count": 17,
     "metadata": {},
     "output_type": "execute_result"
    }
   ],
   "source": [
    "'zyzzyva' >= 'aardvark'"
   ]
  },
  {
   "cell_type": "code",
   "execution_count": 18,
   "metadata": {},
   "outputs": [
    {
     "data": {
      "text/plain": [
       "True"
      ]
     },
     "execution_count": 18,
     "metadata": {},
     "output_type": "execute_result"
    }
   ],
   "source": [
    "'aardvark' < 'aardwolf'"
   ]
  },
  {
   "cell_type": "code",
   "execution_count": 19,
   "metadata": {},
   "outputs": [
    {
     "data": {
      "text/plain": [
       "False"
      ]
     },
     "execution_count": 19,
     "metadata": {},
     "output_type": "execute_result"
    }
   ],
   "source": [
    "'ab' > 'abc'"
   ]
  },
  {
   "cell_type": "markdown",
   "metadata": {},
   "source": [
    "##### LOGIC OPERATORS ON bools\n",
    "\n",
    "- a and b are variable names (with Boolean values)\n",
    "- not a -> True if a is False\n",
    "- False if a is True\n",
    "- a and b -> True if both are True\n",
    "- a or b -> True if either or both are True"
   ]
  },
  {
   "cell_type": "markdown",
   "metadata": {},
   "source": [
    "#### CONTROL FLOW - BRANCHING\n",
    "\n",
    "condition\n",
    "- <condition> has a value True or False\n",
    "    \n",
    "condition\n",
    "- evaluate expressions in that block if <condition> is True"
   ]
  },
  {
   "cell_type": "markdown",
   "metadata": {},
   "source": [
    "#### INDENTATION"
   ]
  },
  {
   "cell_type": "code",
   "execution_count": 20,
   "metadata": {},
   "outputs": [
    {
     "name": "stdout",
     "output_type": "stream",
     "text": [
      "Enter a number for x: 7\n",
      "Enter a number for y: 10\n",
      "x is smaller\n",
      "thanks!\n"
     ]
    }
   ],
   "source": [
    "x = float(input(\"Enter a number for x: \"))\n",
    "y = float(input(\"Enter a number for y: \"))\n",
    "if x == y:\n",
    "    print(\"x and y are equal\")\n",
    "    if y != 0:\n",
    "        print(\"therefore, x / y is\", x/y)\n",
    "elif x < y:\n",
    "    print(\"x is smaller\")\n",
    "elif x > y:\n",
    "    print(\"y is smaller\")\n",
    "print(\"thanks!\")"
   ]
  },
  {
   "cell_type": "markdown",
   "metadata": {},
   "source": [
    "#### Quiz - Boolean"
   ]
  },
  {
   "cell_type": "code",
   "execution_count": 21,
   "metadata": {},
   "outputs": [],
   "source": [
    "# Question 1\n",
    "# What is wrong with the following code?\n",
    "x=10\n",
    "y=5\n",
    "if x < y: # was if x < y no INDENTATION\n",
    "    print(\"x is greater than y\")\n",
    "    \n",
    "# The if statement is missing a colon. \n",
    "# False"
   ]
  },
  {
   "cell_type": "code",
   "execution_count": 22,
   "metadata": {},
   "outputs": [],
   "source": [
    "# Question 2\n",
    "#What is wrong with the following code?\n",
    "x=10\n",
    "y=5\n",
    "if x == y: # was x = y which, it's an assignment\n",
    "    print(\"x is equal to y\")\n",
    "    \n",
    "#There isn't a comparison going on in the if statement - it's an assignment. It should be x==y\n",
    "#False"
   ]
  },
  {
   "cell_type": "code",
   "execution_count": 23,
   "metadata": {},
   "outputs": [
    {
     "name": "stdout",
     "output_type": "stream",
     "text": [
      "False\n",
      "False\n"
     ]
    }
   ],
   "source": [
    "# Question 3\n",
    "#What does the code below print?\n",
    "\n",
    "pset_time = 15\n",
    "sleep_time = 8\n",
    "print(sleep_time > pset_time)\n",
    "drive = True\n",
    "drink = False\n",
    "both = drink and drive\n",
    "print(both)"
   ]
  },
  {
   "cell_type": "code",
   "execution_count": 24,
   "metadata": {},
   "outputs": [
    {
     "name": "stdout",
     "output_type": "stream",
     "text": [
      "s is before t\n",
      "1\n"
     ]
    }
   ],
   "source": [
    "# Question 4\n",
    "#What is the output of the following code?\n",
    "s='aa'\n",
    "t='aab'\n",
    "if s > t:\n",
    "    print('s is after t')\n",
    "    x = 0\n",
    "elif s < t:\n",
    "    print('s is before t') \n",
    "    x = 1\n",
    "else:\n",
    "    x = 2\n",
    "print(x)"
   ]
  },
  {
   "cell_type": "markdown",
   "metadata": {},
   "source": [
    "#### 3. While loops\n",
    "\n",
    "- iterate through numbers in a sequence"
   ]
  },
  {
   "cell_type": "code",
   "execution_count": 25,
   "metadata": {},
   "outputs": [
    {
     "name": "stdout",
     "output_type": "stream",
     "text": [
      "0\n",
      "1\n",
      "2\n",
      "3\n",
      "4\n"
     ]
    }
   ],
   "source": [
    "n = 0\n",
    "while n < 5:\n",
    "    print(n)\n",
    "    n = n+1"
   ]
  },
  {
   "cell_type": "code",
   "execution_count": 27,
   "metadata": {},
   "outputs": [
    {
     "name": "stdout",
     "output_type": "stream",
     "text": [
      "You are in the Lost Forest\n",
      "****************\n",
      "****************\n",
      " � \n",
      "****************\n",
      "****************\n",
      "Go left or right? right\n",
      "You are in the Lost Forest\n",
      "****************\n",
      "****************\n",
      " � \n",
      "****************\n",
      "****************\n",
      "Go left or right? Right\n",
      "You are in the Lost Forest\n",
      "****************\n",
      "****************\n",
      " � \n",
      "****************\n",
      "****************\n",
      "Go left or right? left\n",
      "\n",
      "You got out of the Lost Forest!\n",
      "� \n"
     ]
    }
   ],
   "source": [
    "n = input(\"You are in the Lost Forest\\n\" + ('****************\\n')*2 + ' � \\n' +\n",
    " ('****************\\n')*2 + \"Go left or right? \")\n",
    "while n == \"right\" or n == \"Right\":\n",
    " n = input(\"You are in the Lost Forest\\n\" + ('****************\\n')*2 + ' � \\n' +\n",
    " ('****************\\n')*2 + \"Go left or right? \")\n",
    "print(\"\\nYou got out of the Lost Forest!\\n� \")"
   ]
  },
  {
   "cell_type": "markdown",
   "metadata": {},
   "source": [
    "#### Quiz - While loops"
   ]
  },
  {
   "cell_type": "code",
   "execution_count": 28,
   "metadata": {},
   "outputs": [
    {
     "name": "stdout",
     "output_type": "stream",
     "text": [
      "You're in the Lost Forest. Go left or right? right\n",
      "You're in the Lost Forest. Go left or right? Right\n",
      "You got out of the Lost Forest!\n"
     ]
    }
   ],
   "source": [
    "# Question 1\n",
    "#In the code below what is printed after you type 'Right'?\n",
    "\n",
    "n = input(\"You're in the Lost Forest. Go left or right? \")\n",
    "while n == \"right\":\n",
    "    n = input(\"You're in the Lost Forest. Go left or right? \")\n",
    "print(\"You got out of the Lost Forest!\")\n",
    "# Answer: You got out of the Lost Forest!"
   ]
  },
  {
   "cell_type": "markdown",
   "metadata": {},
   "source": [
    "#### 4. For loops"
   ]
  },
  {
   "cell_type": "code",
   "execution_count": 29,
   "metadata": {},
   "outputs": [
    {
     "name": "stdout",
     "output_type": "stream",
     "text": [
      "0\n",
      "1\n",
      "2\n",
      "3\n",
      "4\n"
     ]
    }
   ],
   "source": [
    "for n in range(5):\n",
    "    print(n)"
   ]
  },
  {
   "cell_type": "markdown",
   "metadata": {},
   "source": [
    "-  range(start, stop, step)\n",
    "-  start and step are optional\n",
    "-  Defaults: start = 0 and step = 1\n",
    "-  Loop until loop variable's value is step - 1"
   ]
  },
  {
   "cell_type": "code",
   "execution_count": 30,
   "metadata": {},
   "outputs": [
    {
     "name": "stdout",
     "output_type": "stream",
     "text": [
      "24\n"
     ]
    }
   ],
   "source": [
    "mysum = 0\n",
    "for i in range(7, 10):\n",
    "    mysum += i\n",
    "print(mysum)"
   ]
  },
  {
   "cell_type": "code",
   "execution_count": 31,
   "metadata": {},
   "outputs": [
    {
     "name": "stdout",
     "output_type": "stream",
     "text": [
      "5\n"
     ]
    }
   ],
   "source": [
    "mysum = 0\n",
    "for i in range(5, 11, 2):\n",
    "    mysum += i \n",
    "    if mysum == 5:\n",
    "        break\n",
    "        mysum += 1\n",
    "print(mysum)"
   ]
  },
  {
   "cell_type": "markdown",
   "metadata": {},
   "source": [
    "#### break STATEMENT\n",
    "\n",
    "- immediately exits whatever loop it is in\n",
    "- skips remaining expressions in code block\n",
    "- exits only innermost loop!"
   ]
  },
  {
   "cell_type": "code",
   "execution_count": 32,
   "metadata": {},
   "outputs": [
    {
     "name": "stdout",
     "output_type": "stream",
     "text": [
      "8\n"
     ]
    }
   ],
   "source": [
    "mysum = 0\n",
    "for i in range(3, 11, 2):\n",
    "    mysum += i\n",
    "    if mysum == 8:\n",
    "        break\n",
    "        mysum += 1\n",
    "print(mysum)"
   ]
  },
  {
   "cell_type": "markdown",
   "metadata": {},
   "source": [
    "#### Quiz for loops"
   ]
  },
  {
   "cell_type": "code",
   "execution_count": 33,
   "metadata": {},
   "outputs": [],
   "source": [
    "i = 10\n",
    "A = i * 2"
   ]
  },
  {
   "cell_type": "code",
   "execution_count": 34,
   "metadata": {},
   "outputs": [],
   "source": [
    "i = i + 3\n",
    "#After running this piece of Python then\n",
    "#[i is bound to (assigned to) 13.]\n",
    "#[A is bound to (assigned to) 20.]"
   ]
  },
  {
   "cell_type": "code",
   "execution_count": 38,
   "metadata": {},
   "outputs": [
    {
     "name": "stdout",
     "output_type": "stream",
     "text": [
      "i= 13 \n",
      " A= 20\n"
     ]
    }
   ],
   "source": [
    "print('i=',i,\"\\n\",'A=',A)"
   ]
  },
  {
   "cell_type": "code",
   "execution_count": null,
   "metadata": {},
   "outputs": [],
   "source": []
  }
 ],
 "metadata": {
  "kernelspec": {
   "display_name": "Python 3",
   "language": "python",
   "name": "python3"
  },
  "language_info": {
   "codemirror_mode": {
    "name": "ipython",
    "version": 3
   },
   "file_extension": ".py",
   "mimetype": "text/x-python",
   "name": "python",
   "nbconvert_exporter": "python",
   "pygments_lexer": "ipython3",
   "version": "3.8.5"
  }
 },
 "nbformat": 4,
 "nbformat_minor": 4
}
