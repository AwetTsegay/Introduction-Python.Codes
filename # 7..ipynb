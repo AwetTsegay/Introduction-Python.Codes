{
 "cells": [
  {
   "cell_type": "markdown",
   "metadata": {},
   "source": [
    "# 7. Object-oriented programming 1\n",
    "\n",
    "# Python -- Basic Codes"
   ]
  },
  {
   "cell_type": "markdown",
   "metadata": {},
   "source": [
    "#### Learning objectives\n",
    "\n",
    "- OOP concepts \n",
    "- Creating objects \n",
    "- Class attributes, methods \n",
    "- Querying types \n",
    "- Special methods"
   ]
  },
  {
   "cell_type": "markdown",
   "metadata": {},
   "source": [
    "#### Object-oriented programming (OOP)"
   ]
  },
  {
   "cell_type": "markdown",
   "metadata": {},
   "source": [
    "#### Python object types\n",
    "\n",
    "Some object types are built-in in Python: \n",
    "- lists: [1, 2, 3, 4]\n",
    "- tuples: (1, 2, 3, 4)\n",
    "- strings: 'abcd' \n",
    "    \n",
    "Supports creating ourown data types"
   ]
  },
  {
   "cell_type": "markdown",
   "metadata": {},
   "source": [
    "#### Example:"
   ]
  },
  {
   "cell_type": "code",
   "execution_count": 1,
   "metadata": {},
   "outputs": [
    {
     "data": {
      "text/plain": [
       "2"
      ]
     },
     "execution_count": 1,
     "metadata": {},
     "output_type": "execute_result"
    }
   ],
   "source": [
    "L = [1, 2, 3, 4] # is of type list\n",
    "L[1]"
   ]
  },
  {
   "cell_type": "code",
   "execution_count": 2,
   "metadata": {},
   "outputs": [
    {
     "data": {
      "text/plain": [
       "[1, 2]"
      ]
     },
     "execution_count": 2,
     "metadata": {},
     "output_type": "execute_result"
    }
   ],
   "source": [
    "L[0:2]"
   ]
  },
  {
   "cell_type": "code",
   "execution_count": 3,
   "metadata": {},
   "outputs": [
    {
     "data": {
      "text/plain": [
       "4"
      ]
     },
     "execution_count": 3,
     "metadata": {},
     "output_type": "execute_result"
    }
   ],
   "source": [
    "len(L)"
   ]
  },
  {
   "cell_type": "code",
   "execution_count": 4,
   "metadata": {},
   "outputs": [
    {
     "data": {
      "text/plain": [
       "1"
      ]
     },
     "execution_count": 4,
     "metadata": {},
     "output_type": "execute_result"
    }
   ],
   "source": [
    " min(L)"
   ]
  },
  {
   "cell_type": "code",
   "execution_count": 5,
   "metadata": {},
   "outputs": [
    {
     "data": {
      "text/plain": [
       "4"
      ]
     },
     "execution_count": 5,
     "metadata": {},
     "output_type": "execute_result"
    }
   ],
   "source": [
    "max(L)"
   ]
  },
  {
   "cell_type": "code",
   "execution_count": 6,
   "metadata": {},
   "outputs": [
    {
     "data": {
      "text/plain": [
       "[2, 3, 4]"
      ]
     },
     "execution_count": 6,
     "metadata": {},
     "output_type": "execute_result"
    }
   ],
   "source": [
    "del(L[0])\n",
    "L"
   ]
  },
  {
   "cell_type": "markdown",
   "metadata": {},
   "source": [
    "L.append() \n",
    "L.extend()\n",
    "L.count()\n",
    "L.index() \n",
    "L.insert()\n",
    "L.pop()\n",
    "L.remove()\n",
    "L.reverse()\n",
    "L.sort() "
   ]
  },
  {
   "cell_type": "markdown",
   "metadata": {},
   "source": [
    "#### Quiz: Internal interfaces"
   ]
  },
  {
   "cell_type": "markdown",
   "metadata": {},
   "source": [
    "This question is more reflective. There's no right answer here but you should have a look at your notes. \n",
    "\n",
    "At the end of the last micro-lecture we introduced the idea of an interface. In particular we showed some of the interface for the data type list. \n",
    "\n",
    "What do you think is part the interface for the data type string?   "
   ]
  },
  {
   "cell_type": "code",
   "execution_count": 7,
   "metadata": {},
   "outputs": [
    {
     "data": {
      "text/plain": [
       "'W'"
      ]
     },
     "execution_count": 7,
     "metadata": {},
     "output_type": "execute_result"
    }
   ],
   "source": [
    "string = \"AWET\"\n",
    "string[1]"
   ]
  },
  {
   "cell_type": "markdown",
   "metadata": {},
   "source": [
    "#### Creating and using your own data types with classes\n",
    "\n",
    "#### Define your own object type"
   ]
  },
  {
   "cell_type": "code",
   "execution_count": null,
   "metadata": {},
   "outputs": [],
   "source": [
    "class Coordinate(object):"
   ]
  },
  {
   "cell_type": "markdown",
   "metadata": {},
   "source": [
    "#### Quiz: Internal attributes"
   ]
  },
  {
   "cell_type": "markdown",
   "metadata": {},
   "source": [
    "This question is more reflective. There's no right answer here but you should have a look at your notes. \n",
    "\n",
    "At the end of the last micro-lecture we introduced the idea of attributes. In particular we distinguish between data attributes and operational attributes (i.e. methods). \n",
    "\n",
    "Write down some of the data attributes of the data type dictionary. \n",
    "\n",
    "Write down of the methods of the data type dictionary."
   ]
  },
  {
   "cell_type": "markdown",
   "metadata": {},
   "source": [
    "#### Defining how to create an instance of a class"
   ]
  },
  {
   "cell_type": "code",
   "execution_count": 9,
   "metadata": {},
   "outputs": [],
   "source": [
    "class Coordinate(object): \n",
    "    def __init__(self, x, y): \n",
    "        self.x = x \n",
    "        self.y = y"
   ]
  },
  {
   "cell_type": "markdown",
   "metadata": {},
   "source": [
    "#### Creating and using an instance of a class"
   ]
  },
  {
   "cell_type": "code",
   "execution_count": 10,
   "metadata": {},
   "outputs": [
    {
     "name": "stdout",
     "output_type": "stream",
     "text": [
      "3 0\n"
     ]
    }
   ],
   "source": [
    "c = Coordinate(3,4) \n",
    "origin = Coordinate(0,0) \n",
    "print(c.x, origin.x)"
   ]
  },
  {
   "cell_type": "markdown",
   "metadata": {},
   "source": [
    "#### Quiz: Create class\n",
    "\n",
    "Write a class called Student that accepts four argument\n",
    "\n",
    "firstName, surname, ID, age - the first two being strings and the second integers. \n",
    "\n",
    "So if one runs the following line\n",
    "\n",
    "s = Student(\"Pooh\",\"Bear\",01,10)\n",
    "\n",
    "then \n",
    "\n",
    "s.firstName = 'Pooh'\n",
    "\n",
    "s.surname = 'Bear'\n",
    "\n",
    "s.ID = 01\n",
    "\n",
    "s.age = 10"
   ]
  },
  {
   "cell_type": "code",
   "execution_count": 11,
   "metadata": {},
   "outputs": [
    {
     "name": "stdout",
     "output_type": "stream",
     "text": [
      "James\n",
      "Brown\n",
      "10\n",
      "100\n"
     ]
    }
   ],
   "source": [
    "class Student(object):\n",
    "    def __init__(self, firstName, surname, ID, age):\n",
    "        self.firstName = firstName\n",
    "        self.surname = surname\n",
    "        self.ID = ID\n",
    "        self.age = age\n",
    "        \n",
    "s = Student(\"James\",\"Brown\",10,100)\n",
    "print(s.firstName)\n",
    "print(s.surname)\n",
    "print(s.ID)\n",
    "print(s.age)"
   ]
  },
  {
   "cell_type": "markdown",
   "metadata": {},
   "source": [
    "#### Define a method for the Coordinate class"
   ]
  },
  {
   "cell_type": "code",
   "execution_count": 12,
   "metadata": {},
   "outputs": [
    {
     "name": "stdout",
     "output_type": "stream",
     "text": [
      "5.0\n"
     ]
    }
   ],
   "source": [
    "class Coordinate(object): \n",
    "    def __init__(self, x, y): \n",
    "        self.x = x \n",
    "        self.y = y \n",
    "    def distance(self, other): \n",
    "        x_diff_sq = (self.x - other.x)**2 \n",
    "        y_diff_sq = (self.y - other.y)**2 \n",
    "        return (x_diff_sq + y_diff_sq)**0.5\n",
    "    \n",
    "c = Coordinate(3,4) \n",
    "origin = Coordinate(0,0) \n",
    "print(c.distance(origin))"
   ]
  },
  {
   "cell_type": "code",
   "execution_count": 13,
   "metadata": {},
   "outputs": [
    {
     "name": "stdout",
     "output_type": "stream",
     "text": [
      "5.0\n"
     ]
    }
   ],
   "source": [
    "c = Coordinate(3,4) \n",
    "origin = Coordinate(0,0) \n",
    "print(Coordinate.distance(c, origin))"
   ]
  },
  {
   "cell_type": "markdown",
   "metadata": {},
   "source": [
    "#### Quiz: Create method\n",
    "\n",
    "Update the class Student you've developed so that it has a method compareAges.\n",
    "\n",
    "compareAges should accept another instance of the Class student and check if their ages are the same. If it is the method should return True otherwise False.\n",
    "\n",
    "So if one runs the following lines\n",
    "\n",
    "s = Student(\"Pooh\",\"Bear\",01,10)\n",
    "\n",
    "t = Student(\"Christopher\",\"Robin\",02,7)\n",
    "\n",
    "o = Student(\"The\",\"Owl\",03,10)\n",
    "\n",
    "then \n",
    "\n",
    "s.compareAges(t) returns False\n",
    "\n",
    "and\n",
    "\n",
    "s.compareAges(o) returns True\n",
    "\n"
   ]
  },
  {
   "cell_type": "code",
   "execution_count": 14,
   "metadata": {},
   "outputs": [
    {
     "data": {
      "text/plain": [
       "False"
      ]
     },
     "execution_count": 14,
     "metadata": {},
     "output_type": "execute_result"
    }
   ],
   "source": [
    "class Student(object):\n",
    "    def __init__(self, firstName, surname, ID, age):\n",
    "        self.firstName = firstName\n",
    "        self.surname = surname\n",
    "        self.ID = ID\n",
    "        self.age = age\n",
    "        \n",
    "    def compareAges(self, other):\n",
    "        return(self.age == other.age)\n",
    "\n",
    "s = Student(\"Pooh\",\"Bear\",1,10)\n",
    "t = Student(\"Christopher\",\"Robin\",2,7)\n",
    "o = Student(\"The\",\"Owl\",3,10)\n",
    "s.compareAges(t)"
   ]
  },
  {
   "cell_type": "code",
   "execution_count": 15,
   "metadata": {},
   "outputs": [
    {
     "data": {
      "text/plain": [
       "True"
      ]
     },
     "execution_count": 15,
     "metadata": {},
     "output_type": "execute_result"
    }
   ],
   "source": [
    "s.compareAges(o)"
   ]
  },
  {
   "cell_type": "code",
   "execution_count": 16,
   "metadata": {},
   "outputs": [
    {
     "name": "stdout",
     "output_type": "stream",
     "text": [
      "False\n"
     ]
    }
   ],
   "source": [
    "s = Student(\"James\",\"Brown\",10,100)\n",
    "r = Student(\"Keith\",\"Moon\",11,101)\n",
    "print(s.compareAges(r))"
   ]
  },
  {
   "cell_type": "code",
   "execution_count": 17,
   "metadata": {},
   "outputs": [
    {
     "name": "stdout",
     "output_type": "stream",
     "text": [
      "True\n"
     ]
    }
   ],
   "source": [
    "s = Student(\"James\",\"Brown\",10,100)\n",
    "r = Student(\"Jimi\",\"Hendrix\",12,100)\n",
    "print(s.compareAges(r))"
   ]
  },
  {
   "cell_type": "markdown",
   "metadata": {},
   "source": [
    "#### PRINT REPRESENTATION OF AN OBJECT"
   ]
  },
  {
   "cell_type": "code",
   "execution_count": 18,
   "metadata": {},
   "outputs": [
    {
     "name": "stdout",
     "output_type": "stream",
     "text": [
      "<__main__.Coordinate object at 0x000002E8001B5970>\n"
     ]
    }
   ],
   "source": [
    "c = Coordinate(3,4)\n",
    "print(c)"
   ]
  },
  {
   "cell_type": "markdown",
   "metadata": {},
   "source": [
    "#### DEFINING YOUR OWN STRING REPRESENTATION"
   ]
  },
  {
   "cell_type": "code",
   "execution_count": 19,
   "metadata": {},
   "outputs": [
    {
     "name": "stdout",
     "output_type": "stream",
     "text": [
      "<3,4>\n"
     ]
    }
   ],
   "source": [
    "class Coordinate(object): \n",
    "    def __init__(self, x, y): \n",
    "        self.x = x \n",
    "        self.y = y \n",
    "    def distance(self, other): \n",
    "        x_diff_sq = (self.x-other.x)**2 \n",
    "        y_diff_sq = (self.y-other.y)**2 \n",
    "        return (x_diff_sq + y_diff_sq)**0.5 \n",
    "    def __str__(self): \n",
    "        return \"<\" + str(self.x) + \",\" + str(self.y) + \">\"\n",
    "\n",
    "c = Coordinate(3, 4)\n",
    "print(c) "
   ]
  },
  {
   "cell_type": "markdown",
   "metadata": {},
   "source": [
    "#### QUERYING TYPES AND CLASSES"
   ]
  },
  {
   "cell_type": "code",
   "execution_count": 20,
   "metadata": {},
   "outputs": [
    {
     "name": "stdout",
     "output_type": "stream",
     "text": [
      "<class '__main__.Coordinate'>\n",
      "<class '__main__.Coordinate'>\n",
      "<class 'type'>\n",
      "True\n",
      "False\n"
     ]
    }
   ],
   "source": [
    "print(type(c))\n",
    "print(Coordinate)\n",
    "print(type(Coordinate)) \n",
    "print(isinstance(c, Coordinate))\n",
    "print(isinstance(c, float))"
   ]
  },
  {
   "cell_type": "markdown",
   "metadata": {},
   "source": [
    "#### SPECIAL METHODS"
   ]
  },
  {
   "cell_type": "markdown",
   "metadata": {},
   "source": [
    "define them with double underscores before/after\n",
    "\n",
    "__add__(self, other) --> self + other\n",
    "\n",
    "__sub__(self, other) --> self - other\n",
    "\n",
    "__eq__(self, other) --> self == other\n",
    "\n",
    "__lt__(self, other) --> self < other\n",
    "\n",
    "__len__(self) --> len(self)\n",
    "\n",
    "__str__(self) --> print self"
   ]
  },
  {
   "cell_type": "markdown",
   "metadata": {},
   "source": [
    "#### Quiz: Special methods\n",
    "\n",
    "Update the class Student you've developed so that it can make use of the == operator. In particular two Student objects are equal if the ages are equal.\n",
    "\n",
    "So if one runs the following lines\n",
    "\n",
    "s = Student(\"Pooh\",\"Bear\",01,10)\n",
    "\n",
    "t = Student(\"Christopher\",\"Robin\",02,7)\n",
    "\n",
    "o = Student(\"The\",\"Owl\",03,10)\n",
    "\n",
    "then \n",
    "\n",
    "s == t returns False\n",
    "\n",
    "and\n",
    "\n",
    "s == o returns True.\n",
    "\n"
   ]
  },
  {
   "cell_type": "code",
   "execution_count": 21,
   "metadata": {},
   "outputs": [
    {
     "data": {
      "text/plain": [
       "True"
      ]
     },
     "execution_count": 21,
     "metadata": {},
     "output_type": "execute_result"
    }
   ],
   "source": [
    "class Student(object):\n",
    "    \n",
    "    def __init__(self, firstName, surname, ID, age):\n",
    "        \n",
    "        self.firstName = 'firstName'\n",
    "        self.surname = 'surname'\n",
    "        self.ID = ID\n",
    "        self.age = age\n",
    "    def __eq__(self, other):\n",
    "        return(self.age==other.age)\n",
    "    \n",
    "s = Student(\"Pooh\",\"Bear\",1,10)\n",
    "t = Student(\"Christopher\",\"Robin\",2,7)\n",
    "o = Student(\"The\",\"Owl\",3,10)\n",
    "\n",
    "s==o"
   ]
  },
  {
   "cell_type": "code",
   "execution_count": 22,
   "metadata": {},
   "outputs": [
    {
     "data": {
      "text/plain": [
       "False"
      ]
     },
     "execution_count": 22,
     "metadata": {},
     "output_type": "execute_result"
    }
   ],
   "source": [
    "s == t "
   ]
  },
  {
   "cell_type": "code",
   "execution_count": 23,
   "metadata": {},
   "outputs": [
    {
     "name": "stdout",
     "output_type": "stream",
     "text": [
      "False\n"
     ]
    }
   ],
   "source": [
    "s = Student(\"James\",\"Brown\",10,100)\n",
    "r = Student(\"Keith\",\"Moon\",11,101)\n",
    "print(s == r)"
   ]
  },
  {
   "cell_type": "code",
   "execution_count": 24,
   "metadata": {},
   "outputs": [
    {
     "name": "stdout",
     "output_type": "stream",
     "text": [
      "True\n"
     ]
    }
   ],
   "source": [
    "s = Student(\"James\",\"Brown\",10,100)\n",
    "r = Student(\"Jimi\",\"Hendrix\",12,100)\n",
    "print(s == r)"
   ]
  },
  {
   "cell_type": "markdown",
   "metadata": {},
   "source": [
    "#### FRACTIONS"
   ]
  },
  {
   "cell_type": "markdown",
   "metadata": {},
   "source": [
    "#### Quiz: Fractions\n",
    "\n",
    "##### Question 1\n",
    "\n",
    "Write a class to describe fractions. Call this class Fraction. \n",
    "\n",
    "The class should have an initialiser which stores two pieces on information.\n",
    "\n",
    "numerator - which is an integer,\n",
    "\n",
    "denominator - which is also an integer. \n",
    "\n",
    "The following checks should be done \n",
    "\n",
    "1) There should be a check if it is integers are being passed to numerator and denominator. If not then the class should be created with numerator = 0 and denominator = 1.\n",
    "\n",
    "2) If denominator passed to the class is 0 then the class should be created with numerator = 0 and denominator = 1.\n",
    "\n",
    "3 If denominator passed to the class is less than 0 then the fraction created with -numerator and -denominator (i.e. the sign of the overall fraction is preserved but the denominator is always positive). "
   ]
  },
  {
   "cell_type": "code",
   "execution_count": 25,
   "metadata": {},
   "outputs": [
    {
     "name": "stdout",
     "output_type": "stream",
     "text": [
      "0\n",
      "1\n"
     ]
    }
   ],
   "source": [
    "class Fraction(object):\n",
    "    def __init__(self,numerator,denominator):\n",
    "        if type(numerator) != int or type(denominator) != int:\n",
    "            n = 0\n",
    "            d = 1\n",
    "        elif denominator == 0:\n",
    "            n = 0\n",
    "            d = 1\n",
    "        elif denominator < 0:\n",
    "            n = -numerator\n",
    "            d = -denominator\n",
    "        else:\n",
    "            n = numerator\n",
    "            d = denominator\n",
    "        \n",
    "        self.numerator = n\n",
    "        self.denominator = d\n",
    "        \n",
    "f = Fraction(\"0\",1)\n",
    "print(f.numerator)\n",
    "print(f.denominator)"
   ]
  },
  {
   "cell_type": "code",
   "execution_count": 26,
   "metadata": {},
   "outputs": [
    {
     "name": "stdout",
     "output_type": "stream",
     "text": [
      "0\n",
      "1\n"
     ]
    }
   ],
   "source": [
    "f = Fraction(1,0)\n",
    "print(f.numerator)\n",
    "print(f.denominator)"
   ]
  },
  {
   "cell_type": "code",
   "execution_count": 27,
   "metadata": {},
   "outputs": [
    {
     "name": "stdout",
     "output_type": "stream",
     "text": [
      "-1\n",
      "2\n"
     ]
    }
   ],
   "source": [
    "f = Fraction(1,-2)\n",
    "print(f.numerator)\n",
    "print(f.denominator)"
   ]
  },
  {
   "cell_type": "code",
   "execution_count": 28,
   "metadata": {},
   "outputs": [
    {
     "name": "stdout",
     "output_type": "stream",
     "text": [
      "1\n",
      "2\n"
     ]
    }
   ],
   "source": [
    "f = Fraction(-1,-2)\n",
    "print(f.numerator)\n",
    "print(f.denominator)"
   ]
  },
  {
   "cell_type": "code",
   "execution_count": 29,
   "metadata": {},
   "outputs": [
    {
     "name": "stdout",
     "output_type": "stream",
     "text": [
      "1\n",
      "2\n"
     ]
    }
   ],
   "source": [
    "f = Fraction(1,2)\n",
    "print(f.numerator)\n",
    "print(f.denominator)"
   ]
  },
  {
   "cell_type": "markdown",
   "metadata": {},
   "source": [
    "##### Question 2\n",
    "\n",
    "Working with the Fraction class you have developed add another method to it so that the fraction can be printed out in a meaningful way.\n",
    "\n",
    "So if \n",
    "\n",
    "f = Fraction(3,4)\n",
    "\n",
    "then \n",
    "\n",
    "print(f) returns\n",
    "\n",
    "\"3/4\" .\n",
    "\n"
   ]
  },
  {
   "cell_type": "code",
   "execution_count": 30,
   "metadata": {},
   "outputs": [
    {
     "name": "stdout",
     "output_type": "stream",
     "text": [
      "-401/323\n"
     ]
    }
   ],
   "source": [
    "class Fraction(object):\n",
    "    def __init__(self,numerator,denominator):\n",
    "        if type(numerator) != int or type(denominator) != int:\n",
    "            n = 0\n",
    "            d = 1\n",
    "        elif denominator == 0:\n",
    "            n = 0\n",
    "            d = 1\n",
    "        elif denominator < 0:\n",
    "            n = -numerator\n",
    "            d = -denominator\n",
    "        else:\n",
    "            n = numerator\n",
    "            d = denominator\n",
    "        \n",
    "        self.numerator = n\n",
    "        self.denominator = d\n",
    "    def __str__ (self):\n",
    "        return(str(self.numerator)+\"/\"+str(self.denominator))\n",
    "\n",
    "f = Fraction(401,-323)\n",
    "print(f)"
   ]
  },
  {
   "cell_type": "code",
   "execution_count": 31,
   "metadata": {},
   "outputs": [
    {
     "name": "stdout",
     "output_type": "stream",
     "text": [
      "0/1\n"
     ]
    }
   ],
   "source": [
    "f = Fraction(0,1)\n",
    "print(f)"
   ]
  },
  {
   "cell_type": "code",
   "execution_count": 32,
   "metadata": {},
   "outputs": [
    {
     "name": "stdout",
     "output_type": "stream",
     "text": [
      "1/2\n"
     ]
    }
   ],
   "source": [
    "f = Fraction(1,2)\n",
    "print(f)"
   ]
  },
  {
   "cell_type": "markdown",
   "metadata": {},
   "source": [
    "##### Question 3\n",
    "\n",
    "Working with the Fraction class you have developed add a method float that express the fraction as a floating point number.\n",
    "\n",
    "So if \n",
    "\n",
    "f = Fraction(3,4)\n",
    "\n",
    "then \n",
    "\n",
    "print(float(f)) returns\n",
    "\n",
    "0.75"
   ]
  },
  {
   "cell_type": "code",
   "execution_count": 33,
   "metadata": {},
   "outputs": [
    {
     "name": "stdout",
     "output_type": "stream",
     "text": [
      "0.5\n"
     ]
    }
   ],
   "source": [
    "class Fraction(object):\n",
    "    def __init__(self,numerator,denominator):\n",
    "        if type(numerator) != int or type(denominator) != int:\n",
    "            n = 0\n",
    "            d = 1\n",
    "        elif denominator == 0:\n",
    "            n = 0\n",
    "            d = 1\n",
    "        elif denominator < 0:\n",
    "            n = -numerator\n",
    "            d = -denominator\n",
    "        else:\n",
    "            n = numerator\n",
    "            d = denominator\n",
    "        \n",
    "        self.numerator = n\n",
    "        self.denominator = d\n",
    "    def __str__ (self):\n",
    "        return(str(self.numerator)+\"/\"+str(self.denominator))\n",
    "    def __float__ (self):\n",
    "        return(self.numerator/self.denominator)\n",
    "    \n",
    "f = Fraction(1,2)\n",
    "print(float(f))"
   ]
  },
  {
   "cell_type": "code",
   "execution_count": 34,
   "metadata": {},
   "outputs": [
    {
     "name": "stdout",
     "output_type": "stream",
     "text": [
      "0.0\n"
     ]
    }
   ],
   "source": [
    "f = Fraction(0,1)\n",
    "print(float(f))"
   ]
  },
  {
   "cell_type": "code",
   "execution_count": 35,
   "metadata": {},
   "outputs": [
    {
     "name": "stdout",
     "output_type": "stream",
     "text": [
      "-0.11\n"
     ]
    }
   ],
   "source": [
    "f = Fraction(-11,100)\n",
    "print(float(f))"
   ]
  },
  {
   "cell_type": "markdown",
   "metadata": {},
   "source": [
    "##### Question 4\n",
    "\n",
    "Working with the Fraction class you have developed add a method, called inverse to it creates a new instance of Fraction which represents the inverse of the original fraction (if the numerator is 0 then the inverse function should return the fraction 0/1). \n",
    "\n",
    "So if \n",
    "\n",
    "f = Fraction(3,4)\n",
    "\n",
    "and \n",
    "\n",
    "oneOnF = f.inverse()\n",
    "\n",
    "then \n",
    "\n",
    "print(oneOnF) returns\n",
    "\n",
    "4/3\n",
    "\n"
   ]
  },
  {
   "cell_type": "code",
   "execution_count": 36,
   "metadata": {},
   "outputs": [
    {
     "name": "stdout",
     "output_type": "stream",
     "text": [
      "0/1\n"
     ]
    }
   ],
   "source": [
    "class Fraction(object):\n",
    "    def __init__(self,numerator,denominator):\n",
    "        if type(numerator) != int or type(denominator) != int:\n",
    "            n = 0\n",
    "            d = 1\n",
    "        elif denominator == 0:\n",
    "            n = 0\n",
    "            d = 1\n",
    "        elif denominator < 0:\n",
    "            n = -numerator\n",
    "            d = -denominator\n",
    "        else:\n",
    "            n = numerator\n",
    "            d = denominator\n",
    "        \n",
    "        self.numerator = n\n",
    "        self.denominator = d\n",
    "    def __str__ (self):\n",
    "        return(str(self.numerator)+\"/\"+str(self.denominator))\n",
    "    def __float__ (self):\n",
    "        return(self.numerator/self.denominator)\n",
    "    def inverse (self):\n",
    "        return(Fraction(self.denominator,self.numerator))\n",
    "\n",
    "f = Fraction(0,1)\n",
    "print(f.inverse())"
   ]
  },
  {
   "cell_type": "code",
   "execution_count": 37,
   "metadata": {},
   "outputs": [
    {
     "name": "stdout",
     "output_type": "stream",
     "text": [
      "-323/401\n"
     ]
    }
   ],
   "source": [
    "f = Fraction(401,-323)\n",
    "print(f.inverse())"
   ]
  },
  {
   "cell_type": "code",
   "execution_count": 38,
   "metadata": {},
   "outputs": [
    {
     "name": "stdout",
     "output_type": "stream",
     "text": [
      "-2/1\n"
     ]
    }
   ],
   "source": [
    "f = Fraction(1,-2)\n",
    "print(f.inverse())"
   ]
  },
  {
   "cell_type": "markdown",
   "metadata": {},
   "source": [
    "##### Question 5\n",
    "\n",
    "Working with the Fraction class you have developed update so that you can compute the sum of two fractions. You will need to create the function __sum__ within your class so that you can use the + notation. Do not simplify the sum of the fractions.\n",
    "\n",
    "So if \n",
    "\n",
    "f1 = Fraction(3,2)\n",
    "\n",
    "and\n",
    "\n",
    "f2 = Fraction(1,4)\n",
    "\n",
    "and\n",
    "\n",
    "f3 = f1 + f2\n",
    "\n",
    "then \n",
    "\n",
    "print(f) returns\n",
    "\n",
    "\"14/8\""
   ]
  },
  {
   "cell_type": "code",
   "execution_count": 39,
   "metadata": {},
   "outputs": [
    {
     "name": "stdout",
     "output_type": "stream",
     "text": [
      "14/8\n"
     ]
    }
   ],
   "source": [
    "class Fraction(object):\n",
    "    def __init__(self,numerator,denominator):\n",
    "        if type(numerator) != int or type(denominator) != int:\n",
    "            n = 0\n",
    "            d = 1\n",
    "        elif denominator == 0:\n",
    "            n = 0\n",
    "            d = 1\n",
    "        elif denominator < 0:\n",
    "            n = -numerator\n",
    "            d = -denominator\n",
    "        else:\n",
    "            n = numerator\n",
    "            d = denominator\n",
    "        \n",
    "        self.numerator = n\n",
    "        self.denominator = d\n",
    "    def __str__ (self):\n",
    "        return(str(self.numerator)+\"/\"+str(self.denominator))\n",
    "    def __float__ (self):\n",
    "        return(self.numerator/self.denominator)\n",
    "    def inverse (self):\n",
    "        return(Fraction(self.denominator,self.numerator))\n",
    "    def __add__(self,other):\n",
    "        n1 = self.numerator\n",
    "        d1 = self.denominator\n",
    "        n2 = other.numerator\n",
    "        d2 = other.denominator\n",
    "        n3 = n1*d2 + d1*n2\n",
    "        d3 = d1 * d2\n",
    "        return(Fraction(n3,d3))        \n",
    "\n",
    "f1 = Fraction(3,2)\n",
    "f2 = Fraction(1,4)\n",
    "print(f1+f2)"
   ]
  },
  {
   "cell_type": "code",
   "execution_count": 40,
   "metadata": {},
   "outputs": [
    {
     "name": "stdout",
     "output_type": "stream",
     "text": [
      "5/6\n"
     ]
    }
   ],
   "source": [
    "f1 = Fraction(1,2)\n",
    "f2 = Fraction(1,3)\n",
    "print(f1+f2)"
   ]
  },
  {
   "cell_type": "code",
   "execution_count": 41,
   "metadata": {},
   "outputs": [
    {
     "name": "stdout",
     "output_type": "stream",
     "text": [
      "-1/6\n"
     ]
    }
   ],
   "source": [
    "f1 = Fraction(-1,2)\n",
    "f2 = Fraction(1,3)\n",
    "print(f1+f2)"
   ]
  },
  {
   "cell_type": "markdown",
   "metadata": {},
   "source": [
    "##### Question 6\n",
    "\n",
    "Working with the Fraction class you have developed update it so that you can compute the difference of two fractions. You will need to create the function __sub__ within your class so that you can use the - notation. Do not simplify the sum of the fractions.\n",
    "\n",
    "So if \n",
    "\n",
    "f1 = Fraction(3,2)\n",
    "\n",
    "and\n",
    "\n",
    "f2 = Fraction(1,4)\n",
    "\n",
    "and\n",
    "\n",
    "f3 = f1 - f2\n",
    "\n",
    "then \n",
    "\n",
    "print(f3) returns\n",
    "\n",
    "\"10/8\""
   ]
  },
  {
   "cell_type": "code",
   "execution_count": 42,
   "metadata": {},
   "outputs": [
    {
     "name": "stdout",
     "output_type": "stream",
     "text": [
      "10/8\n"
     ]
    }
   ],
   "source": [
    "class Fraction(object):\n",
    "    def __init__(self,numerator,denominator):\n",
    "        if type(numerator) != int or type(denominator) != int:\n",
    "            n = 0\n",
    "            d = 1\n",
    "        elif denominator == 0:\n",
    "            n = 0\n",
    "            d = 1\n",
    "        elif denominator < 0:\n",
    "            n = -numerator\n",
    "            d = -denominator\n",
    "        else:\n",
    "            n = numerator\n",
    "            d = denominator\n",
    "        \n",
    "        self.numerator = n\n",
    "        self.denominator = d\n",
    "    def __str__ (self):\n",
    "        return(str(self.numerator)+\"/\"+str(self.denominator))\n",
    "    def __float__ (self):\n",
    "        return(self.numerator/self.denominator)\n",
    "    def inverse (self):\n",
    "        return(Fraction(self.denominator,self.numerator))\n",
    "    def __add__(self,other):\n",
    "        n1 = self.numerator\n",
    "        d1 = self.denominator\n",
    "        n2 = other.numerator\n",
    "        d2 = other.denominator\n",
    "        n3 = n1*d2 + d1*n2\n",
    "        d3 = d1 * d2\n",
    "        return(Fraction(n3,d3))      \n",
    "    def __sub__(self,other):\n",
    "        mOther= Fraction(-other.numerator,other.denominator)\n",
    "        return(self + mOther)\n",
    "\n",
    "f1 = Fraction(3,2)\n",
    "f2 = Fraction(1,4)\n",
    "print(f1-f2)\n",
    "\n"
   ]
  }
 ],
 "metadata": {
  "kernelspec": {
   "display_name": "Python 3",
   "language": "python",
   "name": "python3"
  },
  "language_info": {
   "codemirror_mode": {
    "name": "ipython",
    "version": 3
   },
   "file_extension": ".py",
   "mimetype": "text/x-python",
   "name": "python",
   "nbconvert_exporter": "python",
   "pygments_lexer": "ipython3",
   "version": "3.8.5"
  }
 },
 "nbformat": 4,
 "nbformat_minor": 4
}
