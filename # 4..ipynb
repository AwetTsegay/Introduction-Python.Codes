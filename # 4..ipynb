{
 "cells": [
  {
   "cell_type": "markdown",
   "metadata": {},
   "source": [
    "# # 4. Decomposition with functions\n",
    "\n",
    "# Python -- Basic Codes"
   ]
  },
  {
   "cell_type": "markdown",
   "metadata": {},
   "source": [
    "decomposition with functions\n",
    "\n",
    "Learning objectives\n",
    "\n",
    "- Structuring programs\n",
    "- Abstraction, decomposition, reuse\n",
    "- Functions\n",
    "- return keyword\n",
    "- Scopes\n",
    "\n",
    "What we know so far?\n",
    "- ◦ Numbers, booleans, strings, assignments, \n",
    "- ◦ input/output, \n",
    "- ◦ comparisons, conditionals, \n",
    "- ◦ and loops"
   ]
  },
  {
   "cell_type": "markdown",
   "metadata": {},
   "source": [
    "#### Quiz -- # Decomposition and abstraction"
   ]
  },
  {
   "cell_type": "markdown",
   "metadata": {},
   "source": [
    "Think of a piece of code as a black box\n",
    "- cannot see details\n",
    "- do not need to see details\n",
    "- do not want to see details \n",
    "- hide tedious coding details \n",
    "\n",
    "Divide code into modules \n",
    "- are self-contained\n",
    "- used to break up code\n",
    "- intended to be reusable \n",
    "- keep code organised\n",
    "- keep code coherent \n",
    "\n",
    "\n",
    "The correct answer is:\n",
    "    \n",
    "We abstract code so that \n",
    "\n",
    "[we cannot see the details of the code.]\n",
    "\n",
    "We apply decomposition in code by \n",
    "\n",
    "[dividing the code into modules.]"
   ]
  },
  {
   "cell_type": "markdown",
   "metadata": {},
   "source": [
    "#### Function properties:\n",
    "    \n",
    "- has a name\n",
    "- has parameters (0 or more)\n",
    "- has a docstring (optional but recommended)\n",
    "- has a body\n",
    "- returns something "
   ]
  },
  {
   "cell_type": "code",
   "execution_count": 2,
   "metadata": {},
   "outputs": [
    {
     "name": "stdout",
     "output_type": "stream",
     "text": [
      "inside is_even\n"
     ]
    },
    {
     "data": {
      "text/plain": [
       "False"
      ]
     },
     "execution_count": 2,
     "metadata": {},
     "output_type": "execute_result"
    }
   ],
   "source": [
    "def is_even( i ): \n",
    "    \"\"\" \n",
    "    Input: i, a positive int \n",
    "    Returns True if i is even, otherwise False \n",
    "    \"\"\" \n",
    "    print('inside is_even') \n",
    "    return i%2 == 0 \n",
    "is_even(3)"
   ]
  },
  {
   "cell_type": "markdown",
   "metadata": {},
   "source": [
    "#### Variable scope\n",
    "\n",
    "- Formal parameters gets bound to the value of \n",
    "actual parameters when function is called\n",
    "- New scope/frame/environment created when \n",
    "enter a function \n",
    "- Scope is mapping of names to objects "
   ]
  },
  {
   "cell_type": "code",
   "execution_count": 3,
   "metadata": {},
   "outputs": [
    {
     "name": "stdout",
     "output_type": "stream",
     "text": [
      "in f(x): x = 4\n"
     ]
    }
   ],
   "source": [
    "def f(x): \n",
    "    x = x + 1 \n",
    "    print('in f(x): x =', x) \n",
    "    return x \n",
    "x = 3 \n",
    "z = f(x)"
   ]
  },
  {
   "cell_type": "markdown",
   "metadata": {},
   "source": [
    "#### Quiz -- Functions"
   ]
  },
  {
   "cell_type": "code",
   "execution_count": 6,
   "metadata": {},
   "outputs": [
    {
     "name": "stdout",
     "output_type": "stream",
     "text": [
      "Pie and this\n"
     ]
    }
   ],
   "source": [
    "#Question 1\n",
    "#Write a function andThis that accepts an argument s that is a string and returns a string with \" and this\" added to the end of s.\n",
    "def andThis(s):\n",
    "    \"\"\"\n",
    "        input s string\n",
    "        output s + \" and this\"\n",
    "    \"\"\"\n",
    "    return(s+\" and this\")\n",
    "s=\"Pie\"\n",
    "print(andThis(s))"
   ]
  },
  {
   "cell_type": "code",
   "execution_count": 8,
   "metadata": {},
   "outputs": [
    {
     "name": "stdout",
     "output_type": "stream",
     "text": [
      "True\n"
     ]
    }
   ],
   "source": [
    "#Question 2\n",
    "#Write a function is_odd that accepts a single argument i, and integer and returns True if it is odd and False if it is not.\n",
    "def is_odd(i):\n",
    "    \"\"\"\n",
    "        i - integer\n",
    "        return True if i is odd, False if not\n",
    "    \"\"\"\n",
    "    return (i % 2 == 1)\n",
    "i=10001\n",
    "print(is_odd(i))"
   ]
  },
  {
   "cell_type": "code",
   "execution_count": 9,
   "metadata": {},
   "outputs": [
    {
     "name": "stdout",
     "output_type": "stream",
     "text": [
      "False\n"
     ]
    }
   ],
   "source": [
    "i=200\n",
    "print(is_odd(2))"
   ]
  },
  {
   "cell_type": "code",
   "execution_count": 10,
   "metadata": {},
   "outputs": [
    {
     "name": "stdout",
     "output_type": "stream",
     "text": [
      "0\n"
     ]
    }
   ],
   "source": [
    "#Question 3\n",
    "# Write a function sumThese that accepts two arguments i and j, both integers and returns their sum.\n",
    "def sumThese(i,j):\n",
    "    \"\"\"\n",
    "        i,j - integers\n",
    "        return i+j\n",
    "    \"\"\"\n",
    "    return(i+j)\n",
    "i=10\n",
    "print(sumThese(i,-i))"
   ]
  },
  {
   "cell_type": "code",
   "execution_count": 11,
   "metadata": {},
   "outputs": [
    {
     "name": "stdout",
     "output_type": "stream",
     "text": [
      "223\n"
     ]
    }
   ],
   "source": [
    "i=200\n",
    "j=23\n",
    "print(sumThese(i,j))"
   ]
  },
  {
   "cell_type": "code",
   "execution_count": 12,
   "metadata": {},
   "outputs": [
    {
     "name": "stdout",
     "output_type": "stream",
     "text": [
      "Awet\n"
     ]
    },
    {
     "data": {
      "text/plain": [
       "4"
      ]
     },
     "execution_count": 12,
     "metadata": {},
     "output_type": "execute_result"
    }
   ],
   "source": [
    "#Question 4\n",
    "#What is wrong with the following function?\n",
    "def printAndReturnLength(s):\n",
    "    print(s)\n",
    "    return(len(s))\n",
    "printAndReturnLength('Awet')\n",
    "#No docstring"
   ]
  },
  {
   "cell_type": "code",
   "execution_count": 13,
   "metadata": {},
   "outputs": [
    {
     "name": "stdout",
     "output_type": "stream",
     "text": [
      "in f(x): x = 6\n",
      "6\n"
     ]
    }
   ],
   "source": [
    "#Question 5\n",
    "# If the function f is defined as \n",
    "# Then what is the output that you will get if you run\n",
    "def f(x):\n",
    "    \"\"\"\n",
    "       input x - integer\n",
    "       output - ?\n",
    "    \"\"\"\n",
    "    x = x * 2\n",
    "    print('in f(x): x =', x)\n",
    "    return(x)\n",
    "x = 3\n",
    "x = f(x)\n",
    "print(x)"
   ]
  },
  {
   "cell_type": "markdown",
   "metadata": {},
   "source": [
    "#### Function as parameters (arguments)"
   ]
  },
  {
   "cell_type": "code",
   "execution_count": 14,
   "metadata": {},
   "outputs": [
    {
     "name": "stdout",
     "output_type": "stream",
     "text": [
      "inside func_a\n",
      "None\n",
      "inside func_b\n",
      "7\n",
      "inside func_c\n",
      "inside func_a\n",
      "None\n"
     ]
    }
   ],
   "source": [
    "def func_a(): \n",
    "    print('inside func_a') \n",
    "def func_b(y): \n",
    "    print('inside func_b') \n",
    "    return y \n",
    "def func_c(z): \n",
    "    print('inside func_c') \n",
    "    return z() \n",
    "print(func_a()) \n",
    "print(5+func_b(2)) \n",
    "print(func_c(func_a))"
   ]
  },
  {
   "cell_type": "markdown",
   "metadata": {},
   "source": [
    "#### Variable visibility\n",
    "\n",
    "- Inside a function, can access variable defined \n",
    "outside\n",
    "- Inside a function, cannot modify a variable \n",
    "defined outside, unless it is marked as global"
   ]
  },
  {
   "cell_type": "code",
   "execution_count": 15,
   "metadata": {},
   "outputs": [
    {
     "name": "stdout",
     "output_type": "stream",
     "text": [
      "2\n",
      "5\n"
     ]
    }
   ],
   "source": [
    "def f(y): \n",
    "    x = 1 \n",
    "    x += 1 \n",
    "    print(x) \n",
    "x = 5 \n",
    "f(x) \n",
    "print(x)"
   ]
  },
  {
   "cell_type": "code",
   "execution_count": 16,
   "metadata": {},
   "outputs": [
    {
     "name": "stdout",
     "output_type": "stream",
     "text": [
      "5\n",
      "6\n",
      "5\n"
     ]
    }
   ],
   "source": [
    "def g(y): \n",
    "    print(x) \n",
    "    print(x+1) \n",
    "x = 5 \n",
    "g(x) \n",
    "print(x)"
   ]
  },
  {
   "cell_type": "code",
   "execution_count": 17,
   "metadata": {},
   "outputs": [
    {
     "ename": "UnboundLocalError",
     "evalue": "local variable 'x' referenced before assignment",
     "output_type": "error",
     "traceback": [
      "\u001b[1;31m---------------------------------------------------------------------------\u001b[0m",
      "\u001b[1;31mUnboundLocalError\u001b[0m                         Traceback (most recent call last)",
      "\u001b[1;32m<ipython-input-17-91d91a088cc2>\u001b[0m in \u001b[0;36m<module>\u001b[1;34m\u001b[0m\n\u001b[0;32m      2\u001b[0m     \u001b[0mx\u001b[0m \u001b[1;33m+=\u001b[0m \u001b[1;36m1\u001b[0m\u001b[1;33m\u001b[0m\u001b[1;33m\u001b[0m\u001b[0m\n\u001b[0;32m      3\u001b[0m \u001b[0mx\u001b[0m \u001b[1;33m=\u001b[0m \u001b[1;36m5\u001b[0m\u001b[1;33m\u001b[0m\u001b[1;33m\u001b[0m\u001b[0m\n\u001b[1;32m----> 4\u001b[1;33m \u001b[0mh\u001b[0m\u001b[1;33m(\u001b[0m\u001b[0mx\u001b[0m\u001b[1;33m)\u001b[0m\u001b[1;33m\u001b[0m\u001b[1;33m\u001b[0m\u001b[0m\n\u001b[0m\u001b[0;32m      5\u001b[0m \u001b[0mprint\u001b[0m\u001b[1;33m(\u001b[0m\u001b[0mx\u001b[0m\u001b[1;33m)\u001b[0m\u001b[1;33m\u001b[0m\u001b[1;33m\u001b[0m\u001b[0m\n",
      "\u001b[1;32m<ipython-input-17-91d91a088cc2>\u001b[0m in \u001b[0;36mh\u001b[1;34m(y)\u001b[0m\n\u001b[0;32m      1\u001b[0m \u001b[1;32mdef\u001b[0m \u001b[0mh\u001b[0m\u001b[1;33m(\u001b[0m\u001b[0my\u001b[0m\u001b[1;33m)\u001b[0m\u001b[1;33m:\u001b[0m\u001b[1;33m\u001b[0m\u001b[1;33m\u001b[0m\u001b[0m\n\u001b[1;32m----> 2\u001b[1;33m     \u001b[0mx\u001b[0m \u001b[1;33m+=\u001b[0m \u001b[1;36m1\u001b[0m\u001b[1;33m\u001b[0m\u001b[1;33m\u001b[0m\u001b[0m\n\u001b[0m\u001b[0;32m      3\u001b[0m \u001b[0mx\u001b[0m \u001b[1;33m=\u001b[0m \u001b[1;36m5\u001b[0m\u001b[1;33m\u001b[0m\u001b[1;33m\u001b[0m\u001b[0m\n\u001b[0;32m      4\u001b[0m \u001b[0mh\u001b[0m\u001b[1;33m(\u001b[0m\u001b[0mx\u001b[0m\u001b[1;33m)\u001b[0m\u001b[1;33m\u001b[0m\u001b[1;33m\u001b[0m\u001b[0m\n\u001b[0;32m      5\u001b[0m \u001b[0mprint\u001b[0m\u001b[1;33m(\u001b[0m\u001b[0mx\u001b[0m\u001b[1;33m)\u001b[0m\u001b[1;33m\u001b[0m\u001b[1;33m\u001b[0m\u001b[0m\n",
      "\u001b[1;31mUnboundLocalError\u001b[0m: local variable 'x' referenced before assignment"
     ]
    }
   ],
   "source": [
    "def h(y):\n",
    "    x += 1\n",
    "x = 5\n",
    "h(x)\n",
    "print(x)"
   ]
  },
  {
   "cell_type": "markdown",
   "metadata": {},
   "source": [
    "- Variables defined outside must be explicitly\n",
    "designated as global before they can be modified \n",
    "inside a function\n",
    "- May not be a good idea: breaks functional \n",
    "abstraction"
   ]
  },
  {
   "cell_type": "code",
   "execution_count": 18,
   "metadata": {},
   "outputs": [
    {
     "name": "stdout",
     "output_type": "stream",
     "text": [
      "6\n"
     ]
    }
   ],
   "source": [
    "def h(y): \n",
    "    global x\n",
    "    x += 1 \n",
    "x = 5 \n",
    "h(x) \n",
    "print(x)"
   ]
  },
  {
   "cell_type": "markdown",
   "metadata": {},
   "source": [
    "#### Quiz -- Functions as parameters"
   ]
  },
  {
   "cell_type": "code",
   "execution_count": 19,
   "metadata": {},
   "outputs": [
    {
     "name": "stdout",
     "output_type": "stream",
     "text": [
      "I am in addThis\n",
      "5\n"
     ]
    }
   ],
   "source": [
    "# If the following python is executed \n",
    "def squareThis( n ):\n",
    "    \"\"\"\n",
    "    input integer n\n",
    "    output n^2\n",
    "    \"\"\"\n",
    "    return(n*n)\n",
    "def addThis(f1,f2):\n",
    "    \"\"\"\n",
    "    input f1,f2 functions\n",
    "    output sum of f1(1),f2(2)\n",
    "    \"\"\"\n",
    "    print(\"I am in addThis\")\n",
    "    return(f1(1) + f2(2))\n",
    "print(addThis(squareThis,squareThis))\n",
    "\n",
    "# Then  2 lines are printed.\n",
    "# On the first line I am in addThis is printed (select \"nothing\" if no line is printed).\n",
    "# On the second line 5 is printed (select \"nothing\" if no second line is printed).\n",
    "# On the third line nothing is printed (select \"nothing\" if no third line is printed)."
   ]
  },
  {
   "cell_type": "markdown",
   "metadata": {},
   "source": [
    "#### Nested scopes"
   ]
  },
  {
   "cell_type": "code",
   "execution_count": 20,
   "metadata": {},
   "outputs": [
    {
     "name": "stdout",
     "output_type": "stream",
     "text": [
      "in g(x): x = 4\n"
     ]
    }
   ],
   "source": [
    "def g(x): \n",
    "    def h(): \n",
    "        x = 'abc' \n",
    "    x = x + 1 \n",
    "    print('in g(x): x =', x) \n",
    "    h() \n",
    "    return x \n",
    "x = 3 \n",
    "z = g(x)"
   ]
  },
  {
   "cell_type": "markdown",
   "metadata": {},
   "source": [
    "#### Quiz -- Nested scopes"
   ]
  },
  {
   "cell_type": "code",
   "execution_count": 21,
   "metadata": {
    "scrolled": true
   },
   "outputs": [
    {
     "name": "stdout",
     "output_type": "stream",
     "text": [
      "5\n",
      "12\n",
      "20\n",
      "None\n"
     ]
    }
   ],
   "source": [
    "# Question 1\n",
    "#If the following is defined\n",
    "#Then the number of lines that will be printed out are\n",
    "def add(x, y):\n",
    "    return x+y\n",
    "def mult(x, y):\n",
    "    print(x*y)\n",
    "    \n",
    "add(1,2)\n",
    "print(add(2,3))\n",
    "mult(3,4)\n",
    "print(mult(4,5))"
   ]
  },
  {
   "cell_type": "code",
   "execution_count": 22,
   "metadata": {},
   "outputs": [
    {
     "name": "stdout",
     "output_type": "stream",
     "text": [
      "16\n"
     ]
    }
   ],
   "source": [
    "# Question 2\n",
    "# What does this code print?\n",
    "def sq(func, x):\n",
    "    y = x**2\n",
    "    return(func( y ))\n",
    "def f(x):\n",
    "    return( x**2 )\n",
    "\n",
    "calc = sq(f, 2)\n",
    "print(calc)\n",
    "\n",
    "# The first line calls sq(f,2). \n",
    "#In sq then x is then set to 2, and func set to f. Hence y is then 4 and then calls func(4) which is f(4). f(4) returns 16 \n",
    "# which is then returned to the main part of the code. 16  (=calc) is then printed out."
   ]
  },
  {
   "cell_type": "code",
   "execution_count": null,
   "metadata": {},
   "outputs": [],
   "source": []
  }
 ],
 "metadata": {
  "kernelspec": {
   "display_name": "Python 3",
   "language": "python",
   "name": "python3"
  },
  "language_info": {
   "codemirror_mode": {
    "name": "ipython",
    "version": 3
   },
   "file_extension": ".py",
   "mimetype": "text/x-python",
   "name": "python",
   "nbconvert_exporter": "python",
   "pygments_lexer": "ipython3",
   "version": "3.8.5"
  }
 },
 "nbformat": 4,
 "nbformat_minor": 4
}
