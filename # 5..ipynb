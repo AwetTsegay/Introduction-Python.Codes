{
 "cells": [
  {
   "cell_type": "markdown",
   "metadata": {},
   "source": [
    "# 5. Data type\n",
    "\n",
    "# Python -- Basic Codes"
   ]
  },
  {
   "cell_type": "markdown",
   "metadata": {},
   "source": [
    "### Learning objectives\n",
    "\n",
    "1. Understand Tuples\n",
    "2. Understand Lists\n",
    "3. Contrast Tuples and Lists \n",
    "4. Dictionaries; defining, keys, values, iterating, operations"
   ]
  },
  {
   "cell_type": "markdown",
   "metadata": {},
   "source": [
    "#### Compound data types\n",
    "\n",
    "Have seen simple data types:\n",
    "- int, float, bool, string\n",
    "\n",
    "Compound data types\n",
    "- Tuples, lists, ...\n",
    "- Made up of other data types: e.g., ints, floats, bools, strings\n",
    "- Can be arbitrary data types\n",
    "- Can mix and match different data types in the same compound data type"
   ]
  },
  {
   "cell_type": "markdown",
   "metadata": {},
   "source": [
    "### 1. Tuples\n",
    "\n",
    "- An ordered sequence of elements of arbitrary type\n",
    "- Cannot change element values: immutable\n",
    "- Represented with parentheses (can be omitted)"
   ]
  },
  {
   "cell_type": "code",
   "execution_count": 1,
   "metadata": {},
   "outputs": [],
   "source": [
    "# assign t to empty tuple\n",
    "t = ()"
   ]
  },
  {
   "cell_type": "code",
   "execution_count": 2,
   "metadata": {},
   "outputs": [
    {
     "data": {
      "text/plain": [
       "2"
      ]
     },
     "execution_count": 2,
     "metadata": {},
     "output_type": "execute_result"
    }
   ],
   "source": [
    "t = (2, \"Awet\", 3)\n",
    "t[0]"
   ]
  },
  {
   "cell_type": "code",
   "execution_count": 3,
   "metadata": {},
   "outputs": [
    {
     "data": {
      "text/plain": [
       "(2, 'Awet', 3, 5, 6)"
      ]
     },
     "execution_count": 3,
     "metadata": {},
     "output_type": "execute_result"
    }
   ],
   "source": [
    "(2, \"Awet\", 3) + (5, 6)"
   ]
  },
  {
   "cell_type": "code",
   "execution_count": 4,
   "metadata": {},
   "outputs": [
    {
     "data": {
      "text/plain": [
       "('Awet',)"
      ]
     },
     "execution_count": 4,
     "metadata": {},
     "output_type": "execute_result"
    }
   ],
   "source": [
    "t[1:2]\n",
    "# extra comma means a tuple with one element"
   ]
  },
  {
   "cell_type": "code",
   "execution_count": 5,
   "metadata": {},
   "outputs": [
    {
     "data": {
      "text/plain": [
       "('Awet', 3)"
      ]
     },
     "execution_count": 5,
     "metadata": {},
     "output_type": "execute_result"
    }
   ],
   "source": [
    "t[1:3]"
   ]
  },
  {
   "cell_type": "code",
   "execution_count": 6,
   "metadata": {},
   "outputs": [
    {
     "data": {
      "text/plain": [
       "3"
      ]
     },
     "execution_count": 6,
     "metadata": {},
     "output_type": "execute_result"
    }
   ],
   "source": [
    "len(t)"
   ]
  },
  {
   "cell_type": "code",
   "execution_count": 7,
   "metadata": {},
   "outputs": [
    {
     "ename": "TypeError",
     "evalue": "'tuple' object does not support item assignment",
     "output_type": "error",
     "traceback": [
      "\u001b[1;31m---------------------------------------------------------------------------\u001b[0m",
      "\u001b[1;31mTypeError\u001b[0m                                 Traceback (most recent call last)",
      "\u001b[1;32m<ipython-input-7-2d8a3683c846>\u001b[0m in \u001b[0;36m<module>\u001b[1;34m\u001b[0m\n\u001b[1;32m----> 1\u001b[1;33m \u001b[0mt\u001b[0m\u001b[1;33m[\u001b[0m\u001b[1;36m1\u001b[0m\u001b[1;33m]\u001b[0m \u001b[1;33m=\u001b[0m \u001b[1;36m4\u001b[0m\u001b[1;33m\u001b[0m\u001b[1;33m\u001b[0m\u001b[0m\n\u001b[0m\u001b[0;32m      2\u001b[0m \u001b[1;31m# error - tuples are immutable\u001b[0m\u001b[1;33m\u001b[0m\u001b[1;33m\u001b[0m\u001b[1;33m\u001b[0m\u001b[0m\n",
      "\u001b[1;31mTypeError\u001b[0m: 'tuple' object does not support item assignment"
     ]
    }
   ],
   "source": [
    "t[1] = 4\n",
    "# error - tuples are immutable"
   ]
  },
  {
   "cell_type": "markdown",
   "metadata": {},
   "source": [
    "#### Tuple unpacking\n",
    "\n",
    "Feature supporting simultaneous assignment of \n",
    "variables \n",
    "- LHS: tuple of variables\n",
    "- RHS: any iterable type\n",
    "- LHS and RHS must have the same length\n",
    "\n",
    "Particularly useful for swapping variable values"
   ]
  },
  {
   "cell_type": "code",
   "execution_count": 8,
   "metadata": {},
   "outputs": [],
   "source": [
    "x = 4\n",
    "y = 6"
   ]
  },
  {
   "cell_type": "code",
   "execution_count": 9,
   "metadata": {},
   "outputs": [],
   "source": [
    "x = y\n",
    "y = x\n",
    "# Error"
   ]
  },
  {
   "cell_type": "code",
   "execution_count": 10,
   "metadata": {},
   "outputs": [],
   "source": [
    "tep = x\n",
    "x = y \n",
    "y = tep"
   ]
  },
  {
   "cell_type": "code",
   "execution_count": 11,
   "metadata": {},
   "outputs": [],
   "source": [
    "(x, y) = (y, x)"
   ]
  },
  {
   "cell_type": "code",
   "execution_count": 12,
   "metadata": {},
   "outputs": [],
   "source": [
    "x, y = y, x"
   ]
  },
  {
   "cell_type": "code",
   "execution_count": 13,
   "metadata": {},
   "outputs": [
    {
     "data": {
      "text/plain": [
       "6"
      ]
     },
     "execution_count": 13,
     "metadata": {},
     "output_type": "execute_result"
    }
   ],
   "source": [
    "x"
   ]
  },
  {
   "cell_type": "code",
   "execution_count": 14,
   "metadata": {},
   "outputs": [
    {
     "data": {
      "text/plain": [
       "6"
      ]
     },
     "execution_count": 14,
     "metadata": {},
     "output_type": "execute_result"
    }
   ],
   "source": [
    "y"
   ]
  },
  {
   "cell_type": "markdown",
   "metadata": {},
   "source": [
    "#### Multiple return values\n",
    "\n",
    "- Can be used to return more than one value from a function"
   ]
  },
  {
   "cell_type": "code",
   "execution_count": 15,
   "metadata": {},
   "outputs": [
    {
     "name": "stdout",
     "output_type": "stream",
     "text": [
      "1\n",
      "2\n"
     ]
    }
   ],
   "source": [
    "def quotient_and_remainder(x, y):\n",
    "    q = x // y\n",
    "    r = x % y\n",
    "    return (q, r)\n",
    "(quot, rem) = quotient_and_remainder(5,3)\n",
    "print(quot)\n",
    "print(rem)"
   ]
  },
  {
   "cell_type": "markdown",
   "metadata": {},
   "source": [
    "#### Manipulating tuples\n",
    "\n",
    "aTuple = ((1,\"a\"),(2, \"b\"), ... )"
   ]
  },
  {
   "cell_type": "code",
   "execution_count": 16,
   "metadata": {},
   "outputs": [
    {
     "data": {
      "text/plain": [
       "(1, 5, 3)"
      ]
     },
     "execution_count": 16,
     "metadata": {},
     "output_type": "execute_result"
    }
   ],
   "source": [
    "def get_data(aTuple): \n",
    "    nums = () # empty tuple \n",
    "    words = () \n",
    "    for t in aTuple: \n",
    "        # concatenating with a singleton tuple \n",
    "        nums = nums + (t[0],) \n",
    "        # only add words haven't added before \n",
    "        if t[1] not in words: \n",
    "            words = words + (t[1],) \n",
    "    min_n = min(nums) \n",
    "    max_n = max(nums) \n",
    "    unique_words = len(words) \n",
    "    return (min_n, max_n, unique_words)\n",
    "a = ((1,\"a\"),(2, \"b\"), (5, 'c'))\n",
    "get_data(a)"
   ]
  },
  {
   "cell_type": "markdown",
   "metadata": {},
   "source": [
    "What does always_sunny(('cloudy'), ('cold',)) evaluate to?"
   ]
  },
  {
   "cell_type": "code",
   "execution_count": 17,
   "metadata": {},
   "outputs": [
    {
     "data": {
      "text/plain": [
       "('sunny', 'ccold')"
      ]
     },
     "execution_count": 17,
     "metadata": {},
     "output_type": "execute_result"
    }
   ],
   "source": [
    "def always_sunny(t1, t2): \n",
    "    \"\"\" \n",
    "    t1, t2 are non empty \n",
    "    \"\"\" \n",
    "    sun = (\"sunny\",\"sun\") \n",
    "    first = t1[0] + t2[0] \n",
    "    return (sun[0], first)\n",
    "always_sunny(('cloudy'), ('cold',))"
   ]
  },
  {
   "cell_type": "markdown",
   "metadata": {},
   "source": [
    "### Quiz -- Tuples"
   ]
  },
  {
   "cell_type": "code",
   "execution_count": 18,
   "metadata": {},
   "outputs": [
    {
     "data": {
      "text/plain": [
       "('sunny', 'ccold')"
      ]
     },
     "execution_count": 18,
     "metadata": {},
     "output_type": "execute_result"
    }
   ],
   "source": [
    "# Question 1\n",
    "# If the following function is defined\n",
    "# then what is the output that you get from \n",
    "def always_sunny(t1, t2):\n",
    "    \"\"\"    \n",
    "       t1, t2 are non empty     \n",
    "    \"\"\"\n",
    "    sun = (\"sunny\",\"sun\")\n",
    "    first = t1[0] + t2[0]\n",
    "    return (sun[0], first)\n",
    "always_sunny(('cloudy'), ('cold',))"
   ]
  },
  {
   "cell_type": "code",
   "execution_count": 19,
   "metadata": {},
   "outputs": [
    {
     "name": "stdout",
     "output_type": "stream",
     "text": [
      "(1.0, 0.0)\n",
      "1.0\n",
      "<class 'tuple'>\n",
      "2\n"
     ]
    }
   ],
   "source": [
    "# Question 2\n",
    "#Write a function decompose that accepts a single floating point number x \n",
    "#(don't worry about checking if it's a float) \n",
    "#and returns a tuple (cos(x), sinx(x)). You can use the functions math.cos and math.sin - \n",
    "#you do not have to import the math library.\n",
    "\n",
    "import math\n",
    "def decompose(x):\n",
    "    \"\"\"\n",
    "       input x float\n",
    "       output (cos(x),sin(x))\n",
    "    \"\"\"   \n",
    "    return((math.cos(x),math.sin(x)))\n",
    "decompose(0.0)\n",
    "print(decompose(0.0))\n",
    "print(decompose(math.pi/2.0)[1])\n",
    "print(type(decompose(0.0)))\n",
    "print(len(decompose(0.0)))"
   ]
  },
  {
   "cell_type": "code",
   "execution_count": 20,
   "metadata": {},
   "outputs": [
    {
     "name": "stdout",
     "output_type": "stream",
     "text": [
      "(30, 10, 20)\n",
      "3\n",
      "<class 'tuple'>\n"
     ]
    }
   ],
   "source": [
    "# Question 3\n",
    "#Write a function tripleSwitch that accepts three arguments a,b,c \n",
    "#and returns a tuple of the form (c,a,b) .\n",
    "#So for example tripleSwitch(0,'a','2') returns ('2',0,'a')\n",
    "\n",
    "def tripleSwitch(a,b,c):\n",
    "   \"\"\"\n",
    "      input: a,b,c variables\n",
    "      output: (c,a,b)\n",
    "   \"\"\" \n",
    "   return((c,a,b))\n",
    "print(tripleSwitch(10,20,30))\n",
    "print(len(tripleSwitch('gg',20,30)))\n",
    "print(type(tripleSwitch(1,2,5)))"
   ]
  },
  {
   "cell_type": "markdown",
   "metadata": {},
   "source": [
    "### 2. Lists\n",
    "\n",
    "- Ordered sequence of data, accessible by index \n",
    "- A list is denoted by square brackets, []\n",
    "- A list contains elements\n",
    "   - usually homogeneous (i.e., all integers) \n",
    "   - can contain mixed types\n",
    "- A list is mutable:\n",
    "    - List elements can be changed in place"
   ]
  },
  {
   "cell_type": "markdown",
   "metadata": {},
   "source": [
    "#### List indexing"
   ]
  },
  {
   "cell_type": "code",
   "execution_count": 21,
   "metadata": {},
   "outputs": [
    {
     "data": {
      "text/plain": [
       "[]"
      ]
     },
     "execution_count": 21,
     "metadata": {},
     "output_type": "execute_result"
    }
   ],
   "source": [
    "# assign a_list to empty list\n",
    "A_list = [] \n",
    "A_list"
   ]
  },
  {
   "cell_type": "code",
   "execution_count": 22,
   "metadata": {},
   "outputs": [
    {
     "data": {
      "text/plain": [
       "4"
      ]
     },
     "execution_count": 22,
     "metadata": {},
     "output_type": "execute_result"
    }
   ],
   "source": [
    "L = [2, 'a', 4, [1, 2]]\n",
    "len(L)"
   ]
  },
  {
   "cell_type": "code",
   "execution_count": 23,
   "metadata": {},
   "outputs": [
    {
     "data": {
      "text/plain": [
       "2"
      ]
     },
     "execution_count": 23,
     "metadata": {},
     "output_type": "execute_result"
    }
   ],
   "source": [
    "L[0]"
   ]
  },
  {
   "cell_type": "code",
   "execution_count": 24,
   "metadata": {},
   "outputs": [
    {
     "data": {
      "text/plain": [
       "[1, 2]"
      ]
     },
     "execution_count": 24,
     "metadata": {},
     "output_type": "execute_result"
    }
   ],
   "source": [
    "L[3]"
   ]
  },
  {
   "cell_type": "code",
   "execution_count": 25,
   "metadata": {},
   "outputs": [
    {
     "ename": "IndexError",
     "evalue": "list index out of range",
     "output_type": "error",
     "traceback": [
      "\u001b[1;31m---------------------------------------------------------------------------\u001b[0m",
      "\u001b[1;31mIndexError\u001b[0m                                Traceback (most recent call last)",
      "\u001b[1;32m<ipython-input-25-864adae45962>\u001b[0m in \u001b[0;36m<module>\u001b[1;34m\u001b[0m\n\u001b[0;32m      1\u001b[0m \u001b[1;31m# error (out of range)\u001b[0m\u001b[1;33m\u001b[0m\u001b[1;33m\u001b[0m\u001b[1;33m\u001b[0m\u001b[0m\n\u001b[1;32m----> 2\u001b[1;33m \u001b[0mL\u001b[0m\u001b[1;33m[\u001b[0m\u001b[1;36m4\u001b[0m\u001b[1;33m]\u001b[0m\u001b[1;33m\u001b[0m\u001b[1;33m\u001b[0m\u001b[0m\n\u001b[0m",
      "\u001b[1;31mIndexError\u001b[0m: list index out of range"
     ]
    }
   ],
   "source": [
    "# error (out of range)\n",
    "L[4]"
   ]
  },
  {
   "cell_type": "code",
   "execution_count": 26,
   "metadata": {},
   "outputs": [
    {
     "data": {
      "text/plain": [
       "'a'"
      ]
     },
     "execution_count": 26,
     "metadata": {},
     "output_type": "execute_result"
    }
   ],
   "source": [
    "# evaluates to 'a' since L[1]='a' above\n",
    "i = 2\n",
    "L[i-1]"
   ]
  },
  {
   "cell_type": "markdown",
   "metadata": {},
   "source": [
    "#### Changing elements\n",
    "\n",
    "- Lists are mutable\n",
    "- Assigning to an element at an index changes the value"
   ]
  },
  {
   "cell_type": "code",
   "execution_count": 27,
   "metadata": {},
   "outputs": [
    {
     "data": {
      "text/plain": [
       "[2, 5, 3]"
      ]
     },
     "execution_count": 27,
     "metadata": {},
     "output_type": "execute_result"
    }
   ],
   "source": [
    "L = [2, 1, 3]\n",
    "L[1] = 5\n",
    "L"
   ]
  },
  {
   "cell_type": "markdown",
   "metadata": {},
   "source": [
    "### Quiz -- Lists 1"
   ]
  },
  {
   "cell_type": "code",
   "execution_count": 28,
   "metadata": {},
   "outputs": [
    {
     "data": {
      "text/plain": [
       "['universe', 'everything', 42, 0]"
      ]
     },
     "execution_count": 28,
     "metadata": {},
     "output_type": "execute_result"
    }
   ],
   "source": [
    "# Question 1\n",
    "# What is the value of L after you run the code below?\n",
    "L = [\"life\", \"answer\", 42, 0]\n",
    "for thing in L:\n",
    "    if thing == 0:\n",
    "        L[thing] = \"universe\"\n",
    "    elif thing == 42:\n",
    "        L[1] = \"everything\"\n",
    "L"
   ]
  },
  {
   "cell_type": "markdown",
   "metadata": {},
   "source": [
    "### Iterating over a list\n",
    "\n",
    "- Compute the sum of elements of a list \n",
    "- Common iteration patterns: "
   ]
  },
  {
   "cell_type": "code",
   "execution_count": 29,
   "metadata": {},
   "outputs": [
    {
     "name": "stdout",
     "output_type": "stream",
     "text": [
      "22\n"
     ]
    }
   ],
   "source": [
    "L = [4, 8, 10]\n",
    "total = 0 \n",
    "for i in range(len(L)): \n",
    "    total += L[i] \n",
    "print(total)\n",
    "# List elements are indexed from 0 to len(L) - 1"
   ]
  },
  {
   "cell_type": "code",
   "execution_count": 30,
   "metadata": {},
   "outputs": [
    {
     "name": "stdout",
     "output_type": "stream",
     "text": [
      "22\n"
     ]
    }
   ],
   "source": [
    "L = [4, 8, 10]\n",
    "total = 0 \n",
    "for elem in L: \n",
    "    total += elem \n",
    "print(total)"
   ]
  },
  {
   "cell_type": "markdown",
   "metadata": {},
   "source": [
    "#### Operation on lists : Add\n",
    "\n",
    "- Add elements to end of list with\n",
    "- Mutates the list!"
   ]
  },
  {
   "cell_type": "code",
   "execution_count": 31,
   "metadata": {},
   "outputs": [
    {
     "data": {
      "text/plain": [
       "[4, 8, 10, 45]"
      ]
     },
     "execution_count": 31,
     "metadata": {},
     "output_type": "execute_result"
    }
   ],
   "source": [
    "L = [4, 8, 10]\n",
    "L.append(45)\n",
    "L"
   ]
  },
  {
   "cell_type": "markdown",
   "metadata": {},
   "source": [
    "- To combine lists together use concatenation, + operator\n",
    "  - Creates a new list\n",
    "- Extend list \"in place\" with L.extend(some_list)\n",
    "  - Mutates the list"
   ]
  },
  {
   "cell_type": "code",
   "execution_count": 32,
   "metadata": {},
   "outputs": [
    {
     "data": {
      "text/plain": [
       "[2, 1, 3, 4, 5, 6]"
      ]
     },
     "execution_count": 32,
     "metadata": {},
     "output_type": "execute_result"
    }
   ],
   "source": [
    "L1 = [2, 1, 3] \n",
    "L2 = [4, 5, 6] \n",
    "L3 = L1 + L2 \n",
    "L3\n",
    "#L1, L2 unchanged"
   ]
  },
  {
   "cell_type": "code",
   "execution_count": 33,
   "metadata": {},
   "outputs": [
    {
     "data": {
      "text/plain": [
       "[2, 1, 3, 0, 6]"
      ]
     },
     "execution_count": 33,
     "metadata": {},
     "output_type": "execute_result"
    }
   ],
   "source": [
    "L1.extend([0, 6])\n",
    "L1\n",
    "# Mutated L1 to [2, 1, 3, 0, 6]"
   ]
  },
  {
   "cell_type": "markdown",
   "metadata": {},
   "source": [
    "#### Operations on lists: Remove"
   ]
  },
  {
   "cell_type": "markdown",
   "metadata": {},
   "source": [
    "- del(L[index]): Delete element at a specific index \n",
    "- L.pop(): Remove element at the end of list with, returns the removed element\n",
    "- L.pop(i): remove and return element at index i\n",
    "- L.remove(element): remove the first occurrence of a specific element, error if element not in list"
   ]
  },
  {
   "cell_type": "code",
   "execution_count": 34,
   "metadata": {},
   "outputs": [
    {
     "data": {
      "text/plain": [
       "[1, 3, 6, 3, 7, 0]"
      ]
     },
     "execution_count": 34,
     "metadata": {},
     "output_type": "execute_result"
    }
   ],
   "source": [
    "L = [2,1,3,6,3,7,0]  \n",
    "L.remove(2) \n",
    "L"
   ]
  },
  {
   "cell_type": "code",
   "execution_count": 35,
   "metadata": {},
   "outputs": [
    {
     "data": {
      "text/plain": [
       "[1, 6, 3, 7, 0]"
      ]
     },
     "execution_count": 35,
     "metadata": {},
     "output_type": "execute_result"
    }
   ],
   "source": [
    "L.remove(3) \n",
    "L"
   ]
  },
  {
   "cell_type": "code",
   "execution_count": 36,
   "metadata": {},
   "outputs": [
    {
     "data": {
      "text/plain": [
       "[1, 3, 7, 0]"
      ]
     },
     "execution_count": 36,
     "metadata": {},
     "output_type": "execute_result"
    }
   ],
   "source": [
    "del(L[1]) \n",
    "L"
   ]
  },
  {
   "cell_type": "code",
   "execution_count": 37,
   "metadata": {},
   "outputs": [
    {
     "data": {
      "text/plain": [
       "[1, 3, 7]"
      ]
     },
     "execution_count": 37,
     "metadata": {},
     "output_type": "execute_result"
    }
   ],
   "source": [
    "L.pop()\n",
    "L"
   ]
  },
  {
   "cell_type": "code",
   "execution_count": 38,
   "metadata": {},
   "outputs": [
    {
     "data": {
      "text/plain": [
       "[1, 7]"
      ]
     },
     "execution_count": 38,
     "metadata": {},
     "output_type": "execute_result"
    }
   ],
   "source": [
    "L.pop(1)\n",
    "L"
   ]
  },
  {
   "cell_type": "markdown",
   "metadata": {},
   "source": [
    "### Convert lists to strings\n",
    "\n",
    "- ('string'.join(L)): convert list of strings into a string\n",
    "- (string) is added between every element"
   ]
  },
  {
   "cell_type": "code",
   "execution_count": 39,
   "metadata": {},
   "outputs": [
    {
     "data": {
      "text/plain": [
       "'abcdef'"
      ]
     },
     "execution_count": 39,
     "metadata": {},
     "output_type": "execute_result"
    }
   ],
   "source": [
    "L = ['a','bc','d','ef'] \n",
    "''.join(L) "
   ]
  },
  {
   "cell_type": "code",
   "execution_count": 40,
   "metadata": {},
   "outputs": [
    {
     "data": {
      "text/plain": [
       "'a_bc_d_ef'"
      ]
     },
     "execution_count": 40,
     "metadata": {},
     "output_type": "execute_result"
    }
   ],
   "source": [
    "'_'.join(L)"
   ]
  },
  {
   "cell_type": "code",
   "execution_count": 41,
   "metadata": {},
   "outputs": [
    {
     "data": {
      "text/plain": [
       "'aXYZbcXYZdXYZef'"
      ]
     },
     "execution_count": 41,
     "metadata": {},
     "output_type": "execute_result"
    }
   ],
   "source": [
    "'XYZ'.join(L)"
   ]
  },
  {
   "cell_type": "markdown",
   "metadata": {},
   "source": [
    "### Quiz -- Lists 2"
   ]
  },
  {
   "cell_type": "code",
   "execution_count": 42,
   "metadata": {},
   "outputs": [
    {
     "data": {
      "text/plain": [
       "['mi', 're', ['fa', 'la']]"
      ]
     },
     "execution_count": 42,
     "metadata": {},
     "output_type": "execute_result"
    }
   ],
   "source": [
    "# Question 1\n",
    "# What is the value of L3 after you execute all the operations in the code below?\n",
    "L1 = ['re']\n",
    "L2 = ['mi']\n",
    "L3 = ['do']\n",
    "L4 = L1 + L2\n",
    "L3.extend(L4)\n",
    "L3.sort()\n",
    "del(L3[0])\n",
    "L3.append(['fa','la'])\n",
    "L3\n",
    "# Finally ['fa','la'] is appended to L3. Note that append treats ['fa','la'] as one element. "
   ]
  },
  {
   "cell_type": "markdown",
   "metadata": {},
   "source": [
    "### Convert strings to lists\n",
    "\n",
    "- list(s): convert string to list, returns a list L with every character from s an element in L\n",
    "- s.split(string): split a string on a string parameter, splits on spaces if called without a parameter"
   ]
  },
  {
   "cell_type": "code",
   "execution_count": 43,
   "metadata": {},
   "outputs": [
    {
     "data": {
      "text/plain": [
       "['H', 'e', 'l', 'l', 'o', ' ', 't', 'h', 'e', 'r', 'e']"
      ]
     },
     "execution_count": 43,
     "metadata": {},
     "output_type": "execute_result"
    }
   ],
   "source": [
    "s = \"Hello there\"\n",
    "list(s)"
   ]
  },
  {
   "cell_type": "code",
   "execution_count": 44,
   "metadata": {},
   "outputs": [
    {
     "data": {
      "text/plain": [
       "['I', '<', '3', ' ', 'c', 's']"
      ]
     },
     "execution_count": 44,
     "metadata": {},
     "output_type": "execute_result"
    }
   ],
   "source": [
    "s = \"I<3 cs\" \n",
    "list(s) "
   ]
  },
  {
   "cell_type": "code",
   "execution_count": 45,
   "metadata": {},
   "outputs": [
    {
     "data": {
      "text/plain": [
       "['I', '3 cs']"
      ]
     },
     "execution_count": 45,
     "metadata": {},
     "output_type": "execute_result"
    }
   ],
   "source": [
    "s.split('<')"
   ]
  },
  {
   "cell_type": "code",
   "execution_count": 46,
   "metadata": {},
   "outputs": [
    {
     "data": {
      "text/plain": [
       "['I<3', 'cs']"
      ]
     },
     "execution_count": 46,
     "metadata": {},
     "output_type": "execute_result"
    }
   ],
   "source": [
    "s.split()"
   ]
  },
  {
   "cell_type": "markdown",
   "metadata": {},
   "source": [
    "#### Other list operations\n",
    "- sort() and sorted()"
   ]
  },
  {
   "cell_type": "code",
   "execution_count": 47,
   "metadata": {},
   "outputs": [
    {
     "data": {
      "text/plain": [
       "[9, 6, 0, 3]"
      ]
     },
     "execution_count": 47,
     "metadata": {},
     "output_type": "execute_result"
    }
   ],
   "source": [
    "L = [9,6,0,3] \n",
    "sorted(L) \n",
    "L\n",
    "# returns sorted list, does not mutate L"
   ]
  },
  {
   "cell_type": "code",
   "execution_count": 48,
   "metadata": {},
   "outputs": [
    {
     "data": {
      "text/plain": [
       "[0, 3, 6, 9]"
      ]
     },
     "execution_count": 48,
     "metadata": {},
     "output_type": "execute_result"
    }
   ],
   "source": [
    "L.sort() \n",
    "L\n",
    "# mutates L = [0, 3, 6, 9]"
   ]
  },
  {
   "cell_type": "code",
   "execution_count": 49,
   "metadata": {},
   "outputs": [
    {
     "data": {
      "text/plain": [
       "[9, 6, 3, 0]"
      ]
     },
     "execution_count": 49,
     "metadata": {},
     "output_type": "execute_result"
    }
   ],
   "source": [
    "L.reverse()\n",
    "L\n",
    "# mutates L = [9, 6, 3, 0]"
   ]
  },
  {
   "cell_type": "markdown",
   "metadata": {},
   "source": [
    "#### Lists in memory\n",
    "\n",
    "- List is an object in memory\n",
    "- Variable name points to object\n",
    "- Multiple variables can point to the same object (aliasing)\n",
    "- Mutability and aliasing lead to subtle side-effects\n",
    "  - Any variable pointing to the same object is affected by mutations\n",
    "- Be aware of side-effects when working with lists!"
   ]
  },
  {
   "cell_type": "markdown",
   "metadata": {},
   "source": [
    "### Aliases\n",
    "\n",
    "- hot is an alias for warm – changing one changes \n",
    "the other! \n",
    "- append() has a side effect"
   ]
  },
  {
   "cell_type": "code",
   "execution_count": 50,
   "metadata": {},
   "outputs": [
    {
     "name": "stdout",
     "output_type": "stream",
     "text": [
      "1\n",
      "1\n",
      "['red', 'yellow', 'green', 'pink']\n",
      "['red', 'yellow', 'green', 'pink']\n"
     ]
    }
   ],
   "source": [
    "a = 1\n",
    "b = a\n",
    "print(a)\n",
    "print(b)\n",
    "\n",
    "warm = ['red', 'yellow', 'green']\n",
    "hot = warm\n",
    "\n",
    "hot.append('pink')\n",
    "print(hot)\n",
    "print(warm)"
   ]
  },
  {
   "cell_type": "markdown",
   "metadata": {},
   "source": [
    "### Quiz -- Lists 3"
   ]
  },
  {
   "cell_type": "code",
   "execution_count": 51,
   "metadata": {},
   "outputs": [
    {
     "data": {
      "text/plain": [
       "['bacon', 'eggs', 'juice', 'toast', 'jam']"
      ]
     },
     "execution_count": 51,
     "metadata": {},
     "output_type": "execute_result"
    }
   ],
   "source": [
    "# Question 1\n",
    "# What is the value of brunch after you execute all the operations in the code below?\n",
    "\n",
    "L1 = [\"bacon\", \"eggs\"]\n",
    "L2 = [\"toast\", \"jam\"]\n",
    "brunch = L1\n",
    "L1.append(\"juice\")\n",
    "brunch.extend(L2)\n",
    "brunch"
   ]
  },
  {
   "cell_type": "code",
   "execution_count": 52,
   "metadata": {},
   "outputs": [
    {
     "data": {
      "text/plain": [
       "['bacon', 'eggs', 'juice', ['toast', 'jam']]"
      ]
     },
     "execution_count": 52,
     "metadata": {},
     "output_type": "execute_result"
    }
   ],
   "source": [
    "# Question 2\n",
    "# Write a function builder that has three arguments \n",
    "# L1, L2 and s, where L1 and L2 are lists of strings and s is a string. \n",
    "# builder should return a list that is composed of the elements of L1 (in the same order) then s and then L2 as a single element in the list. \n",
    "# For example if \n",
    "# L1 = [\"bacon\", \"eggs\"]\n",
    "# L2 =  [\"toast\", \"jam\"]\n",
    "# s = \"juice\"\n",
    "# then builder(L1, L2, s) should return  [\"bacon\", \"eggs\",\"juice\", [\"toast\", \"jam\"]]\n",
    "def builder(L1,L2,s):\n",
    "    '''\n",
    "    Input: L1, L2 and s, \n",
    "    where L1 and L2 are lists of strings \n",
    "    and s is a string.\n",
    "    \n",
    "    Output: \n",
    "    '''\n",
    "    L1.append(s)\n",
    "    L1.append(L2)\n",
    "    return L1\n",
    "\n",
    "L1 = [\"bacon\", \"eggs\"]\n",
    "L2 =  [\"toast\", \"jam\"]\n",
    "s = \"juice\"\n",
    "builder(L1, L2, s)"
   ]
  },
  {
   "cell_type": "markdown",
   "metadata": {},
   "source": [
    "### Cloning a list\n",
    "\n",
    "- Create a new list and copy every element using \n",
    "chill = cool[:]"
   ]
  },
  {
   "cell_type": "code",
   "execution_count": 53,
   "metadata": {},
   "outputs": [
    {
     "name": "stdout",
     "output_type": "stream",
     "text": [
      "['blue', 'green', 'grey']\n",
      "['blue', 'green', 'grey', 'black']\n"
     ]
    }
   ],
   "source": [
    "cool = ['blue', 'green', 'grey']\n",
    "chill = cool[:]\n",
    "chill.append('black')\n",
    "\n",
    "print(cool)\n",
    "print(chill)"
   ]
  },
  {
   "cell_type": "markdown",
   "metadata": {},
   "source": [
    "### sort() AND sorted()"
   ]
  },
  {
   "cell_type": "code",
   "execution_count": 54,
   "metadata": {},
   "outputs": [
    {
     "name": "stdout",
     "output_type": "stream",
     "text": [
      "['orange', 'red', 'yellow']\n",
      "None\n",
      "['grey', 'green', 'blue']\n",
      "['blue', 'green', 'grey']\n"
     ]
    }
   ],
   "source": [
    "warm = ['red', 'yellow', 'orange']\n",
    "sortedwarm = warm.sort()\n",
    "print(warm)\n",
    "print(sortedwarm)\n",
    "\n",
    "cool = ['grey', 'green', 'blue']\n",
    "sortedcool = sorted(cool)\n",
    "print(cool)\n",
    "print(sortedcool)"
   ]
  },
  {
   "cell_type": "markdown",
   "metadata": {},
   "source": [
    "### Lists of Lists of Lists of . . ."
   ]
  },
  {
   "cell_type": "code",
   "execution_count": 55,
   "metadata": {},
   "outputs": [
    {
     "name": "stdout",
     "output_type": "stream",
     "text": [
      "[['yellow', 'orange'], ['red']]\n",
      "['red', 'pink']\n",
      "[['yellow', 'orange'], ['red', 'pink']]\n"
     ]
    }
   ],
   "source": [
    "warm = ['yellow', 'orange']\n",
    "hot = ['red']\n",
    "brightcolor = [warm]\n",
    "\n",
    "brightcolor.append(hot)\n",
    "print(brightcolor)\n",
    "\n",
    "hot.append('pink')\n",
    "print(hot)\n",
    "print(brightcolor)"
   ]
  },
  {
   "cell_type": "markdown",
   "metadata": {},
   "source": [
    "### Mutation and iteration"
   ]
  },
  {
   "cell_type": "code",
   "execution_count": 56,
   "metadata": {},
   "outputs": [
    {
     "name": "stdout",
     "output_type": "stream",
     "text": [
      "[2, 3, 4]\n"
     ]
    }
   ],
   "source": [
    "L1 = [1, 2, 3, 4] \n",
    "L2 = [1, 2, 5, 6] \n",
    "for e in L1: # this is doing for i in range(L1)\n",
    "    if e in L2: \n",
    "        L1.remove(e)\n",
    "        \n",
    "print(L1)"
   ]
  },
  {
   "cell_type": "markdown",
   "metadata": {},
   "source": [
    "#### L1 is [2, 3, 4], not [3, 4]!\n",
    "- Python uses an internal counter to keep track of index it is in the loop\n",
    "- mutating changes the list length but Python doesn’t update the counter \n",
    "- loop never sees element 2"
   ]
  },
  {
   "cell_type": "code",
   "execution_count": 57,
   "metadata": {},
   "outputs": [
    {
     "name": "stdout",
     "output_type": "stream",
     "text": [
      "[3, 4]\n"
     ]
    }
   ],
   "source": [
    "# colon\n",
    "L1 = [1, 2, 3, 4] \n",
    "L2 = [1, 2, 5, 6] \n",
    "for e in L1[:]: # colon : copy of L1\n",
    "    if e in L2: \n",
    "        L1.remove(e)\n",
    "print(L1)"
   ]
  },
  {
   "cell_type": "markdown",
   "metadata": {},
   "source": [
    "#### Quiz -- Lists 4"
   ]
  },
  {
   "cell_type": "code",
   "execution_count": 58,
   "metadata": {},
   "outputs": [
    {
     "name": "stdout",
     "output_type": "stream",
     "text": [
      "['bacon', 'eggs', 'juice', 'toast', 'jam']\n",
      "['bacon', 'eggs']\n"
     ]
    }
   ],
   "source": [
    "# Write a function builder2 that has three arguments \n",
    "# L1, L2 and s, where L1 and L2 are lists of strings and s is a string. \n",
    "# L1 and L2 should not be mutated.\n",
    "# builder2 should return a list that is composed of the elements of L1 (in the same order) then s and then the elements of L2 in the same order. \n",
    "#For example if \n",
    "# L1 = [\"bacon\", \"eggs\"]\n",
    "# L2 =  [\"toast\", \"jam\"]\n",
    "# s = \"juice\"\n",
    "# builder2(L1, L2, s) should return  [\"bacon\", \"eggs\",\"juice\", \"toast\", \"jam\"] and L1 and L2 should remain the same.\n",
    "def builder2(L1, L2, s):\n",
    "    \"\"\"\n",
    "    Parameters\n",
    "    ----------\n",
    "    L1 : list of strings\n",
    "    L2 : list of strings\n",
    "    s : strings\n",
    "       \n",
    "    Returns\n",
    "    -------\n",
    "    a list of the form L1,s,[L2]\n",
    "\n",
    "    \"\"\"\n",
    "    l = L1[:]\n",
    "    l.append(s)\n",
    "    l.extend(L2)\n",
    "    \n",
    "    return(l)\n",
    "\n",
    "L1 = [\"bacon\", \"eggs\"]\n",
    "L2 = [\"toast\", \"jam\"]\n",
    "s = \"juice\"\n",
    "print(builder2(L1,L2,s))\n",
    "print(L1)"
   ]
  },
  {
   "cell_type": "markdown",
   "metadata": {},
   "source": [
    "## 3. Dictionary"
   ]
  },
  {
   "cell_type": "markdown",
   "metadata": {},
   "source": [
    "### Python dictionary\n",
    "\n",
    "- Store pairs of data (mappings):\n",
    "  - Key\n",
    "  - Value\n",
    "- Mutable\n",
    "  - Can add/delete mappings"
   ]
  },
  {
   "cell_type": "code",
   "execution_count": 59,
   "metadata": {},
   "outputs": [
    {
     "data": {
      "text/plain": [
       "{}"
      ]
     },
     "execution_count": 59,
     "metadata": {},
     "output_type": "execute_result"
    }
   ],
   "source": [
    "# empty dictionary\n",
    "my_dict = {}\n",
    "my_dict"
   ]
  },
  {
   "cell_type": "markdown",
   "metadata": {},
   "source": [
    "#### How to store grocery list info?\n",
    "- A separate list for each item \n",
    "- Each list must have the same length\n",
    "- Info stored across lists at same index, each index refers to info for a different item"
   ]
  },
  {
   "cell_type": "code",
   "execution_count": 60,
   "metadata": {},
   "outputs": [
    {
     "name": "stdout",
     "output_type": "stream",
     "text": [
      "['milk', 'eggs', 'bread', 'cheese', 'jam']\n",
      "['cartons', 'count', 'loafs', 'packs', 'jars']\n",
      "[1, 12, 2, 5, 2]\n"
     ]
    }
   ],
   "source": [
    "items = ['milk', 'eggs', 'bread', 'cheese', 'jam']\n",
    "units = ['cartons', 'count', 'loafs', 'packs', 'jars']\n",
    "quant = [1, 12, 2, 5, 2]\n",
    "print(items)\n",
    "print(units)\n",
    "print(quant)"
   ]
  },
  {
   "cell_type": "markdown",
   "metadata": {},
   "source": [
    "#### How to update/retrieve grocery list info?\n",
    "- Messy if have a lot of different info to keep track of \n",
    "- Must maintain many lists and pass them as arguments \n",
    "- Must always index using integers \n",
    "- Must remember to change multiple lists"
   ]
  },
  {
   "cell_type": "code",
   "execution_count": 61,
   "metadata": {},
   "outputs": [
    {
     "ename": "ValueError",
     "evalue": "(0, 1, 2, 3, 4) is not in list",
     "output_type": "error",
     "traceback": [
      "\u001b[1;31m---------------------------------------------------------------------------\u001b[0m",
      "\u001b[1;31mValueError\u001b[0m                                Traceback (most recent call last)",
      "\u001b[1;32m<ipython-input-61-6f2e5f81ef7e>\u001b[0m in \u001b[0;36m<module>\u001b[1;34m\u001b[0m\n\u001b[0;32m      6\u001b[0m \u001b[0mquant\u001b[0m \u001b[1;33m=\u001b[0m \u001b[1;33m[\u001b[0m\u001b[1;36m1\u001b[0m\u001b[1;33m,\u001b[0m \u001b[1;36m12\u001b[0m\u001b[1;33m,\u001b[0m \u001b[1;36m2\u001b[0m\u001b[1;33m,\u001b[0m \u001b[1;36m5\u001b[0m\u001b[1;33m,\u001b[0m \u001b[1;36m2\u001b[0m\u001b[1;33m]\u001b[0m\u001b[1;33m\u001b[0m\u001b[1;33m\u001b[0m\u001b[0m\n\u001b[0;32m      7\u001b[0m \u001b[0munits\u001b[0m \u001b[1;33m=\u001b[0m \u001b[1;33m[\u001b[0m\u001b[1;34m'cartons'\u001b[0m\u001b[1;33m,\u001b[0m \u001b[1;34m'count'\u001b[0m\u001b[1;33m,\u001b[0m \u001b[1;34m'loafs'\u001b[0m\u001b[1;33m,\u001b[0m \u001b[1;34m'packs'\u001b[0m\u001b[1;33m,\u001b[0m \u001b[1;34m'jars'\u001b[0m\u001b[1;33m]\u001b[0m\u001b[1;33m\u001b[0m\u001b[1;33m\u001b[0m\u001b[0m\n\u001b[1;32m----> 8\u001b[1;33m \u001b[0mget_quantity\u001b[0m\u001b[1;33m(\u001b[0m\u001b[0mitem\u001b[0m\u001b[1;33m,\u001b[0m\u001b[0mitems\u001b[0m\u001b[1;33m,\u001b[0m \u001b[0munits\u001b[0m\u001b[1;33m,\u001b[0m \u001b[0mquant\u001b[0m\u001b[1;33m)\u001b[0m\u001b[1;33m\u001b[0m\u001b[1;33m\u001b[0m\u001b[0m\n\u001b[0m",
      "\u001b[1;32m<ipython-input-61-6f2e5f81ef7e>\u001b[0m in \u001b[0;36mget_quantity\u001b[1;34m(item, item_list, quant_list, unit_list)\u001b[0m\n\u001b[0;32m      1\u001b[0m \u001b[1;32mdef\u001b[0m \u001b[0mget_quantity\u001b[0m\u001b[1;33m(\u001b[0m\u001b[0mitem\u001b[0m\u001b[1;33m,\u001b[0m \u001b[0mitem_list\u001b[0m\u001b[1;33m,\u001b[0m \u001b[0mquant_list\u001b[0m\u001b[1;33m,\u001b[0m \u001b[0munit_list\u001b[0m\u001b[1;33m)\u001b[0m\u001b[1;33m:\u001b[0m\u001b[1;33m\u001b[0m\u001b[1;33m\u001b[0m\u001b[0m\n\u001b[1;32m----> 2\u001b[1;33m     \u001b[0mi\u001b[0m \u001b[1;33m=\u001b[0m \u001b[0mitem_list\u001b[0m\u001b[1;33m.\u001b[0m\u001b[0mindex\u001b[0m\u001b[1;33m(\u001b[0m\u001b[0mitem\u001b[0m\u001b[1;33m)\u001b[0m\u001b[1;33m\u001b[0m\u001b[1;33m\u001b[0m\u001b[0m\n\u001b[0m\u001b[0;32m      3\u001b[0m     \u001b[1;32mreturn\u001b[0m \u001b[1;33m(\u001b[0m\u001b[0mquant_list\u001b[0m\u001b[1;33m[\u001b[0m\u001b[0mi\u001b[0m\u001b[1;33m]\u001b[0m\u001b[1;33m,\u001b[0m \u001b[0munit_list\u001b[0m\u001b[1;33m[\u001b[0m\u001b[0mi\u001b[0m\u001b[1;33m]\u001b[0m\u001b[1;33m)\u001b[0m\u001b[1;33m\u001b[0m\u001b[1;33m\u001b[0m\u001b[0m\n\u001b[0;32m      4\u001b[0m \u001b[0mitem\u001b[0m \u001b[1;33m=\u001b[0m \u001b[1;33m(\u001b[0m\u001b[1;36m0\u001b[0m\u001b[1;33m,\u001b[0m \u001b[1;36m1\u001b[0m\u001b[1;33m,\u001b[0m \u001b[1;36m2\u001b[0m\u001b[1;33m,\u001b[0m \u001b[1;36m3\u001b[0m\u001b[1;33m,\u001b[0m \u001b[1;36m4\u001b[0m\u001b[1;33m)\u001b[0m\u001b[1;33m\u001b[0m\u001b[1;33m\u001b[0m\u001b[0m\n\u001b[0;32m      5\u001b[0m \u001b[0mitems\u001b[0m \u001b[1;33m=\u001b[0m \u001b[1;33m[\u001b[0m\u001b[1;34m'milk'\u001b[0m\u001b[1;33m,\u001b[0m \u001b[1;34m'eggs'\u001b[0m\u001b[1;33m,\u001b[0m \u001b[1;34m'bread'\u001b[0m\u001b[1;33m,\u001b[0m \u001b[1;34m'cheese'\u001b[0m\u001b[1;33m,\u001b[0m \u001b[1;34m'jam'\u001b[0m\u001b[1;33m]\u001b[0m\u001b[1;33m\u001b[0m\u001b[1;33m\u001b[0m\u001b[0m\n",
      "\u001b[1;31mValueError\u001b[0m: (0, 1, 2, 3, 4) is not in list"
     ]
    }
   ],
   "source": [
    "def get_quantity(item, item_list, quant_list, unit_list):\n",
    "    i = item_list.index(item)\n",
    "    return (quant_list[i], unit_list[i])\n",
    "item = (0, 1, 2, 3, 4)\n",
    "items = ['milk', 'eggs', 'bread', 'cheese', 'jam']\n",
    "quant = [1, 12, 2, 5, 2]\n",
    "units = ['cartons', 'count', 'loafs', 'packs', 'jars']\n",
    "get_quantity(item,items, units, quant)"
   ]
  },
  {
   "cell_type": "markdown",
   "metadata": {},
   "source": [
    "#### Dictionary to the rescue\n",
    "- Nice to index item of interest directly (not always int)\n",
    "- Nice to use one data structure, no separate lists"
   ]
  },
  {
   "cell_type": "code",
   "execution_count": 62,
   "metadata": {},
   "outputs": [
    {
     "name": "stdout",
     "output_type": "stream",
     "text": [
      "{'milk': 1, 'eggs': 12, 'bread': 2, 'cheese': 5, 'jam': 2}\n"
     ]
    }
   ],
   "source": [
    "# key1 -- val1\n",
    "groceries = {'milk':1, 'eggs':12, 'bread':2, 'cheese':5, 'jam':2}\n",
    "print(groceries)"
   ]
  },
  {
   "cell_type": "markdown",
   "metadata": {},
   "source": [
    "#### Dictionary lookup\n",
    "- Similar to indexing into a list \n",
    "- Looks up the key\n",
    "- Returns the value associated with the key \n",
    "- If key isn’t found, get an error"
   ]
  },
  {
   "cell_type": "code",
   "execution_count": 63,
   "metadata": {},
   "outputs": [
    {
     "data": {
      "text/plain": [
       "2"
      ]
     },
     "execution_count": 63,
     "metadata": {},
     "output_type": "execute_result"
    }
   ],
   "source": [
    "groceries['bread']"
   ]
  },
  {
   "cell_type": "code",
   "execution_count": 64,
   "metadata": {},
   "outputs": [
    {
     "ename": "KeyError",
     "evalue": "'chicken'",
     "output_type": "error",
     "traceback": [
      "\u001b[1;31m---------------------------------------------------------------------------\u001b[0m",
      "\u001b[1;31mKeyError\u001b[0m                                  Traceback (most recent call last)",
      "\u001b[1;32m<ipython-input-64-646da6f1b5ab>\u001b[0m in \u001b[0;36m<module>\u001b[1;34m\u001b[0m\n\u001b[1;32m----> 1\u001b[1;33m \u001b[0mgroceries\u001b[0m\u001b[1;33m[\u001b[0m\u001b[1;34m'chicken'\u001b[0m\u001b[1;33m]\u001b[0m\u001b[1;33m\u001b[0m\u001b[1;33m\u001b[0m\u001b[0m\n\u001b[0m\u001b[0;32m      2\u001b[0m \u001b[1;31m# gives a KeyErro\u001b[0m\u001b[1;33m\u001b[0m\u001b[1;33m\u001b[0m\u001b[1;33m\u001b[0m\u001b[0m\n",
      "\u001b[1;31mKeyError\u001b[0m: 'chicken'"
     ]
    }
   ],
   "source": [
    "groceries['chicken']\n",
    "# gives a KeyErro"
   ]
  },
  {
   "cell_type": "markdown",
   "metadata": {},
   "source": [
    "#### Dictionary operation\n",
    "- add an entry"
   ]
  },
  {
   "cell_type": "code",
   "execution_count": 65,
   "metadata": {},
   "outputs": [
    {
     "name": "stdout",
     "output_type": "stream",
     "text": [
      "{'milk': 1, 'eggs': 12, 'bread': 2, 'cheese': 5, 'jam': 2, 'chicken': 4}\n"
     ]
    }
   ],
   "source": [
    "groceries['chicken'] = 4\n",
    "print(groceries)"
   ]
  },
  {
   "cell_type": "markdown",
   "metadata": {},
   "source": [
    "- test if key in dictionary "
   ]
  },
  {
   "cell_type": "code",
   "execution_count": 66,
   "metadata": {},
   "outputs": [
    {
     "data": {
      "text/plain": [
       "True"
      ]
     },
     "execution_count": 66,
     "metadata": {},
     "output_type": "execute_result"
    }
   ],
   "source": [
    "'milk' in groceries"
   ]
  },
  {
   "cell_type": "code",
   "execution_count": 67,
   "metadata": {},
   "outputs": [
    {
     "data": {
      "text/plain": [
       "False"
      ]
     },
     "execution_count": 67,
     "metadata": {},
     "output_type": "execute_result"
    }
   ],
   "source": [
    "'butter' in groceries"
   ]
  },
  {
   "cell_type": "markdown",
   "metadata": {},
   "source": [
    "- delete entry"
   ]
  },
  {
   "cell_type": "code",
   "execution_count": 68,
   "metadata": {},
   "outputs": [
    {
     "name": "stdout",
     "output_type": "stream",
     "text": [
      "{'milk': 1, 'eggs': 12, 'bread': 2, 'jam': 2, 'chicken': 4}\n"
     ]
    }
   ],
   "source": [
    "del(groceries['cheese'])\n",
    "print(groceries)"
   ]
  },
  {
   "cell_type": "markdown",
   "metadata": {},
   "source": [
    "### Quiz -- Dictionary 1"
   ]
  },
  {
   "cell_type": "code",
   "execution_count": 69,
   "metadata": {},
   "outputs": [
    {
     "name": "stdout",
     "output_type": "stream",
     "text": [
      "This key is already in the dictionary\n",
      "{'flamingo': 'pink', 'polar bear': 'white'}\n"
     ]
    }
   ],
   "source": [
    "# Question 1\n",
    "# Write a function add that has three arguments\n",
    "# k - which can be an int or string (you don't have to check this).\n",
    "# v - a string (you don't have to check this)\n",
    "# d - a dictionary\n",
    "# add checks if k is a key in d. If it is the it prints \"This key is already in the dictionary\". \n",
    "# If it is not it adds to the dictionary the key k with value v.\n",
    "# So if\n",
    "# myD = {'flamingo':'pink','polar bear':'white'}\n",
    "# then\n",
    "# add('flamingo','blue' myD) gives the message \"This key is already in the dictionary\" and myD is not updated. \n",
    "# add('elephant','grey' myD) \n",
    "# updates myD so that it also has the key 'elephant' with the value 'grey'.\n",
    "\n",
    "def add(k,v,d):\n",
    "    \"\"\"\n",
    "    Parameters\n",
    "    ----------\n",
    "    k : \n",
    "        key to add or check for.\n",
    "    v : \n",
    "        value to add with k DESCRIPTION.\n",
    "    d :    \n",
    "        dictionary.\n",
    "\n",
    "    prints message if k is already in d. Updates d with (k,v)\n",
    "    if k is not in d.\n",
    "    Returns\n",
    "    -------\n",
    "    None\n",
    "    \"\"\"\n",
    "    if k in d:\n",
    "        print(\"This key is already in the dictionary\")\n",
    "    else:\n",
    "        d[k] = v\n",
    "    return(None)\n",
    "myD = {'flamingo':'pink','polar bear':'white'}\n",
    "add('flamingo','blue', myD)\n",
    "print(myD)"
   ]
  },
  {
   "cell_type": "code",
   "execution_count": 70,
   "metadata": {},
   "outputs": [
    {
     "name": "stdout",
     "output_type": "stream",
     "text": [
      "{'flamingo': 'pink', 'polar bear': 'white', 'elephant': 'grey'}\n"
     ]
    }
   ],
   "source": [
    "add('elephant','grey', myD)\n",
    "print(myD)"
   ]
  },
  {
   "cell_type": "code",
   "execution_count": 71,
   "metadata": {},
   "outputs": [
    {
     "name": "stdout",
     "output_type": "stream",
     "text": [
      "90\n",
      "5\n"
     ]
    }
   ],
   "source": [
    "d = {'i':52, 'j':50, 'k':61, 'l':21 }\n",
    "add('a',90,d)\n",
    "print(d['a'])\n",
    "print(len(d))"
   ]
  },
  {
   "cell_type": "code",
   "execution_count": 72,
   "metadata": {},
   "outputs": [
    {
     "name": "stdout",
     "output_type": "stream",
     "text": [
      "This key is already in the dictionary\n"
     ]
    }
   ],
   "source": [
    "d = {'i':52, 'j':50, 'k':61, 'l':21 }\n",
    "add('i',10,d)"
   ]
  },
  {
   "cell_type": "code",
   "execution_count": 73,
   "metadata": {},
   "outputs": [
    {
     "data": {
      "text/plain": [
       "True"
      ]
     },
     "execution_count": 73,
     "metadata": {},
     "output_type": "execute_result"
    }
   ],
   "source": [
    "# Question 2\n",
    "# Write a function test that has two arguments\n",
    "# k - which can be an int an string (you don't have to check this.\n",
    "# d - a dictionary\n",
    "# tests returns True is k is a key in d or False if not.\n",
    "# So if\n",
    "# myD = {'flamingo':'pink','polar bear':'white'}\n",
    "# then\n",
    "# test('flamingo',myD) returns True and\n",
    "# test('elephant,'myD') returns False \n",
    "\n",
    "def test(k,d):\n",
    "    \"\"\"\n",
    "    Parameters\n",
    "    ----------\n",
    "    k : \n",
    "        key to search for\n",
    "    d : dictionary\n",
    "    Returns\n",
    "    -------\n",
    "    True if k is a key in d, False if not.\n",
    "    Prints error message if k is not an integer\n",
    "    \"\"\"\n",
    "    isIn = k in d\n",
    "    return(isIn)\n",
    "myD = {'flamingo':'pink','polar bear':'white'}\n",
    "test('flamingo',myD)"
   ]
  },
  {
   "cell_type": "code",
   "execution_count": 74,
   "metadata": {},
   "outputs": [
    {
     "data": {
      "text/plain": [
       "False"
      ]
     },
     "execution_count": 74,
     "metadata": {},
     "output_type": "execute_result"
    }
   ],
   "source": [
    "test('elephant', myD)"
   ]
  },
  {
   "cell_type": "code",
   "execution_count": 75,
   "metadata": {},
   "outputs": [
    {
     "name": "stdout",
     "output_type": "stream",
     "text": [
      "False\n"
     ]
    }
   ],
   "source": [
    "d = {'i':52, 'j':50, 'k':61, 'l':21 }\n",
    "print(test('a',d))"
   ]
  },
  {
   "cell_type": "code",
   "execution_count": 76,
   "metadata": {},
   "outputs": [
    {
     "name": "stdout",
     "output_type": "stream",
     "text": [
      "True\n"
     ]
    }
   ],
   "source": [
    "d = {'i':52, 'j':50, 'k':61, 'l':21 }\n",
    "print(test('k',d))"
   ]
  },
  {
   "cell_type": "code",
   "execution_count": 77,
   "metadata": {},
   "outputs": [
    {
     "name": "stdout",
     "output_type": "stream",
     "text": [
      "deleting  flamingo  with value  pink\n",
      "{'polar bear': 'white'}\n"
     ]
    }
   ],
   "source": [
    "# Question 3\n",
    "# Write a function delete that has two arguments\n",
    "# k - which can be an int or string (you don't have to check this).\n",
    "# d - a dictionary\n",
    "# add checks if k is a key in d. If it is then it prints \"deleting <k> with value <value corresponding to k in d> \" and removes that entry. If it is not then prints \"This key is not in the dictionary\" .\n",
    "# So if\n",
    "# myD = {'flamingo':'pink','polar bear':'white'}\n",
    "# then\n",
    "# delete('flamingo', myD) gives the message \n",
    "# \"deleting  flamingo  with value  pink\", myD is now {'polar bear':'white'}. \n",
    "# delete('elephant', myD) gives the message \n",
    "# \"This key is not in the dictionary\" and myD is unchanged.\n",
    "\n",
    "def delete(k,d):\n",
    "    \"\"\"\n",
    "    Parameters\n",
    "    ----------\n",
    "    k : \n",
    "        key to delete or check for.\n",
    "    d :    \n",
    "        dictionary.\n",
    "    If k is in d and deletes. \n",
    "    if k is not in d then only a meesage is printed.\n",
    "    Returns\n",
    "    -------\n",
    "    None\n",
    "    \"\"\"\n",
    "    if k in d:\n",
    "        print(\"deleting \",k,\" with value \",d[k]) \n",
    "        del(d[k])      \n",
    "              \n",
    "    else:\n",
    "        print(\"This key is not in the dictionary\")\n",
    "    return(None)\n",
    "myD = {'flamingo':'pink','polar bear':'white'}\n",
    "delete('flamingo', myD)\n",
    "print(myD)"
   ]
  },
  {
   "cell_type": "code",
   "execution_count": 78,
   "metadata": {},
   "outputs": [
    {
     "name": "stdout",
     "output_type": "stream",
     "text": [
      "This key is not in the dictionary\n",
      "{'polar bear': 'white'}\n"
     ]
    }
   ],
   "source": [
    "delete('elephant', myD)\n",
    "print(myD)"
   ]
  },
  {
   "cell_type": "code",
   "execution_count": 79,
   "metadata": {},
   "outputs": [
    {
     "name": "stdout",
     "output_type": "stream",
     "text": [
      "This key is not in the dictionary\n",
      "4\n",
      "False\n"
     ]
    }
   ],
   "source": [
    "d = {'i':52, 'j':50, 'k':61, 'l':21 }\n",
    "delete('a',d)\n",
    "print(len(d))\n",
    "print('a' in d)"
   ]
  },
  {
   "cell_type": "code",
   "execution_count": 80,
   "metadata": {},
   "outputs": [
    {
     "name": "stdout",
     "output_type": "stream",
     "text": [
      "deleting  j  with value  50\n",
      "3\n",
      "False\n"
     ]
    }
   ],
   "source": [
    "d = {'i':52, 'j':50, 'k':61, 'l':21 }\n",
    "delete('j',d)\n",
    "print(len(d))\n",
    "print('a' in d)"
   ]
  },
  {
   "cell_type": "markdown",
   "metadata": {},
   "source": [
    "### Iterating over dictionary\n",
    "- Iterating over a dictionary will iterate over the keys in insertion order"
   ]
  },
  {
   "cell_type": "code",
   "execution_count": 81,
   "metadata": {},
   "outputs": [
    {
     "name": "stdout",
     "output_type": "stream",
     "text": [
      "milk 1\n",
      "eggs 12\n",
      "bread 2\n",
      "cheese 5\n",
      "jam 2\n"
     ]
    }
   ],
   "source": [
    "groceries = {'milk':1, 'eggs':12, 'bread':2, 'cheese':5, 'jam':2}\n",
    "for key in groceries: \n",
    "    print(key, groceries[key]) "
   ]
  },
  {
   "cell_type": "markdown",
   "metadata": {},
   "source": [
    "- Get an iterable that acts like a tuple of all keys in insertion order"
   ]
  },
  {
   "cell_type": "code",
   "execution_count": 82,
   "metadata": {},
   "outputs": [
    {
     "data": {
      "text/plain": [
       "dict_keys(['milk', 'eggs', 'bread', 'cheese', 'jam'])"
      ]
     },
     "execution_count": 82,
     "metadata": {},
     "output_type": "execute_result"
    }
   ],
   "source": [
    "groceries.keys()"
   ]
  },
  {
   "cell_type": "code",
   "execution_count": 83,
   "metadata": {},
   "outputs": [
    {
     "name": "stdout",
     "output_type": "stream",
     "text": [
      "milk\n",
      "eggs\n",
      "bread\n",
      "cheese\n",
      "jam\n"
     ]
    }
   ],
   "source": [
    "for key in groceries.keys(): \n",
    "    print(key)"
   ]
  },
  {
   "cell_type": "markdown",
   "metadata": {},
   "source": [
    "- Get an iterable that acts like a tuple of all values in insertion order"
   ]
  },
  {
   "cell_type": "code",
   "execution_count": 84,
   "metadata": {},
   "outputs": [
    {
     "data": {
      "text/plain": [
       "dict_values([1, 12, 2, 5, 2])"
      ]
     },
     "execution_count": 84,
     "metadata": {},
     "output_type": "execute_result"
    }
   ],
   "source": [
    "groceries.values()"
   ]
  },
  {
   "cell_type": "code",
   "execution_count": 85,
   "metadata": {},
   "outputs": [
    {
     "name": "stdout",
     "output_type": "stream",
     "text": [
      "1\n",
      "12\n",
      "2\n",
      "5\n",
      "2\n"
     ]
    }
   ],
   "source": [
    "for val in groceries.values():\n",
    "    print(val)"
   ]
  },
  {
   "cell_type": "markdown",
   "metadata": {},
   "source": [
    "- Iterating over dictionary while adding or deleting entries in the dictionary is unsafe\n",
    "  - May raise a RuntimeError or miss entries"
   ]
  },
  {
   "cell_type": "code",
   "execution_count": 86,
   "metadata": {},
   "outputs": [
    {
     "ename": "RuntimeError",
     "evalue": "dictionary changed size during iteration",
     "output_type": "error",
     "traceback": [
      "\u001b[1;31m---------------------------------------------------------------------------\u001b[0m",
      "\u001b[1;31mRuntimeError\u001b[0m                              Traceback (most recent call last)",
      "\u001b[1;32m<ipython-input-86-d2f6b927b99a>\u001b[0m in \u001b[0;36m<module>\u001b[1;34m\u001b[0m\n\u001b[0;32m      1\u001b[0m \u001b[0mgroceries\u001b[0m \u001b[1;33m=\u001b[0m \u001b[1;33m{\u001b[0m\u001b[1;34m'milk'\u001b[0m\u001b[1;33m:\u001b[0m\u001b[1;36m1\u001b[0m\u001b[1;33m,\u001b[0m \u001b[1;34m'eggs'\u001b[0m\u001b[1;33m:\u001b[0m\u001b[1;36m12\u001b[0m\u001b[1;33m,\u001b[0m \u001b[1;34m'bread'\u001b[0m\u001b[1;33m:\u001b[0m\u001b[1;36m2\u001b[0m\u001b[1;33m,\u001b[0m \u001b[1;34m'cheese'\u001b[0m\u001b[1;33m:\u001b[0m\u001b[1;36m5\u001b[0m\u001b[1;33m,\u001b[0m \u001b[1;34m'jam'\u001b[0m\u001b[1;33m:\u001b[0m\u001b[1;36m2\u001b[0m\u001b[1;33m}\u001b[0m\u001b[1;33m\u001b[0m\u001b[1;33m\u001b[0m\u001b[0m\n\u001b[0;32m      2\u001b[0m \u001b[0mL\u001b[0m \u001b[1;33m=\u001b[0m \u001b[1;33m[\u001b[0m\u001b[1;34m'bread'\u001b[0m\u001b[1;33m,\u001b[0m \u001b[1;34m'milk'\u001b[0m\u001b[1;33m]\u001b[0m\u001b[1;33m\u001b[0m\u001b[1;33m\u001b[0m\u001b[0m\n\u001b[1;32m----> 3\u001b[1;33m \u001b[1;32mfor\u001b[0m \u001b[0mk\u001b[0m \u001b[1;32min\u001b[0m \u001b[0mgroceries\u001b[0m\u001b[1;33m:\u001b[0m\u001b[1;33m\u001b[0m\u001b[1;33m\u001b[0m\u001b[0m\n\u001b[0m\u001b[0;32m      4\u001b[0m     \u001b[1;32mif\u001b[0m \u001b[0mk\u001b[0m \u001b[1;32min\u001b[0m \u001b[0mL\u001b[0m\u001b[1;33m:\u001b[0m\u001b[1;33m\u001b[0m\u001b[1;33m\u001b[0m\u001b[0m\n\u001b[0;32m      5\u001b[0m         \u001b[1;32mdel\u001b[0m\u001b[1;33m(\u001b[0m\u001b[0mgroceries\u001b[0m\u001b[1;33m[\u001b[0m\u001b[0mk\u001b[0m\u001b[1;33m]\u001b[0m\u001b[1;33m)\u001b[0m\u001b[1;33m\u001b[0m\u001b[1;33m\u001b[0m\u001b[0m\n",
      "\u001b[1;31mRuntimeError\u001b[0m: dictionary changed size during iteration"
     ]
    }
   ],
   "source": [
    "groceries = {'milk':1, 'eggs':12, 'bread':2, 'cheese':5, 'jam':2}\n",
    "L = ['bread', 'milk']\n",
    "for k in groceries:\n",
    "    if k in L:\n",
    "        del(groceries[k])\n",
    "\n",
    "print(groceries)"
   ]
  },
  {
   "cell_type": "code",
   "execution_count": 87,
   "metadata": {},
   "outputs": [
    {
     "data": {
      "text/plain": [
       "['milk', 'eggs', 'bread', 'cheese', 'jam']"
      ]
     },
     "execution_count": 87,
     "metadata": {},
     "output_type": "execute_result"
    }
   ],
   "source": [
    "groceries = {'milk':1, 'eggs':12, 'bread':2, 'cheese':5, 'jam':2}\n",
    "list(groceries)"
   ]
  },
  {
   "cell_type": "code",
   "execution_count": 88,
   "metadata": {},
   "outputs": [
    {
     "name": "stdout",
     "output_type": "stream",
     "text": [
      "{'eggs': 12, 'cheese': 5, 'jam': 2}\n"
     ]
    }
   ],
   "source": [
    "groceries = {'milk':1, 'eggs':12, 'bread':2, 'cheese':5, 'jam':2}\n",
    "L = ['bread', 'milk'] \n",
    "for k in list(groceries): # list of keys in groceries: new object\n",
    "    if k in L: \n",
    "        del(groceries[k])\n",
    "\n",
    "print(groceries)"
   ]
  },
  {
   "cell_type": "markdown",
   "metadata": {},
   "source": [
    "### Quiz -- Dictionary 2"
   ]
  },
  {
   "cell_type": "code",
   "execution_count": 89,
   "metadata": {},
   "outputs": [
    {
     "data": {
      "text/plain": [
       "-3"
      ]
     },
     "execution_count": 89,
     "metadata": {},
     "output_type": "execute_result"
    }
   ],
   "source": [
    "# Question 1\n",
    "# Write a function sumDict that has one argument\n",
    "# d - a dictionary, you can assume that all the values are integers\n",
    "# sumDict returns the sum of all the values of the dictionary.\n",
    "# So if\n",
    "# myD = {'a':2,'b':-5}\n",
    "# then\n",
    "# sumDict(myD) returns -3.\n",
    "def sumDict(d):\n",
    "    \"\"\"\n",
    "    Parameters\n",
    "    ----------\n",
    "    d : dictionary\n",
    "        all values are assumed to be integers\n",
    "    Returns\n",
    "    -------\n",
    "    sum of the values of d\n",
    "    \"\"\"\n",
    "    s=0\n",
    "    for i in d.values():\n",
    "        s += i\n",
    "    return(s)\n",
    "myD = {'a':2,'b':-5}\n",
    "sumDict(myD)"
   ]
  },
  {
   "cell_type": "code",
   "execution_count": 90,
   "metadata": {},
   "outputs": [
    {
     "name": "stdout",
     "output_type": "stream",
     "text": [
      "10\n"
     ]
    }
   ],
   "source": [
    "d = {'i':2, 'j':0, 'k':6, 'l':2 }\n",
    "print(sumDict(d))"
   ]
  },
  {
   "cell_type": "markdown",
   "metadata": {},
   "source": [
    "#### Dictionary keys and values\n",
    "- Values:\n",
    "  - Any type (immutable and mutable)\n",
    "  - Can be duplicates\n",
    "  - Can be lists or even other dictionaries!\n",
    "- Keys:\n",
    "  - Must be unique\n",
    "  - Immutable type (int, float, string, tuple, bool)\n",
    "    - Actually, hashable, but must not be mutated if used as a key\n",
    "    - All immutable types are hashable\n",
    "  - Careful with floats as keys\n",
    "- No order to keys or values\n",
    "    - {4: {1: 0}, (1, 3): 'twelve', 'const': [3.14, 2.7, 8.44]}"
   ]
  },
  {
   "cell_type": "markdown",
   "metadata": {},
   "source": [
    "#### Dictionaries\n",
    "- Matches \"keys\" to \"values\" \n",
    "- Look up one item by another item \n",
    "- No order is guaranteed \n",
    "- Key can be any immutable type"
   ]
  },
  {
   "cell_type": "markdown",
   "metadata": {},
   "source": [
    "### Quiz -- Dictionary 3"
   ]
  },
  {
   "cell_type": "code",
   "execution_count": 91,
   "metadata": {},
   "outputs": [
    {
     "name": "stdout",
     "output_type": "stream",
     "text": [
      "{'a': 1, 'b': 2, 'c': 3}\n"
     ]
    }
   ],
   "source": [
    "# Question 1\n",
    "# if \n",
    "d = { 'a':1, 'b':2, 'c':3 }\n",
    "#then what will be the output if we run \n",
    "print(d) \n",
    "# Answer\n",
    "# We don't know - it will print out all the key, value pairs but Python doesn't have to choose one.  \n",
    "# Dictionaries don't necessarily have an order. If you want an order you need to get the list of keys and then pick the order those keys come in. "
   ]
  },
  {
   "cell_type": "markdown",
   "metadata": {},
   "source": [
    "## Example: Analse song lyrics\n",
    "\n",
    "- Given song lyrics as a list of words she_loves_you ['she', 'loves', 'you', 'yeah', 'yeah', ... ]\n",
    "- Produce a distribution of word frequencies for all words occurring \"at least X times\" \n",
    "  - X is a parameter\n",
    "- Three functions:\n",
    "   - lyrics_to_frequencies(): produce frequency dictionary\n",
    "   - most_common_words(): output list of most common words in dictionary\n",
    "   - words_often(): output a list of tuples (list of words, frequency) ordered by frequency"
   ]
  },
  {
   "cell_type": "markdown",
   "metadata": {},
   "source": [
    "#### Creating a dictionary"
   ]
  },
  {
   "cell_type": "code",
   "execution_count": 95,
   "metadata": {},
   "outputs": [
    {
     "name": "stdout",
     "output_type": "stream",
     "text": [
      "{'she': 1, 'loves': 1, 'you': 1, 'yeah': 3}\n"
     ]
    }
   ],
   "source": [
    "def lyrics_to_frequencies(lyrics): \n",
    "    '''\n",
    "    Input: lyrics--list\n",
    "    Output: dictionary of frequencies\n",
    "    '''\n",
    "    myDict = {} \n",
    "    for word in lyrics: # Iterate over list\n",
    "        if word in myDict: # Test if key is in dictionary\n",
    "            myDict[word] += 1 # Update value associated with a key (mutate a value)\n",
    "        else: \n",
    "            myDict[word] = 1 # Add a new mapping to dictionary (mutate dictionary)\n",
    "    return myDict\n",
    "lyrics = ['she', 'loves', 'you', 'yeah', \n",
    "'yeah', 'yeah']\n",
    "freqs = lyrics_to_frequencies(lyrics)\n",
    "print(freqs)"
   ]
  },
  {
   "cell_type": "markdown",
   "metadata": {},
   "source": [
    "#### Using a dictionary"
   ]
  },
  {
   "cell_type": "code",
   "execution_count": 96,
   "metadata": {},
   "outputs": [
    {
     "name": "stdout",
     "output_type": "stream",
     "text": [
      "(['yeah'], 3)\n"
     ]
    }
   ],
   "source": [
    "def most_common_words(freqs): \n",
    "    '''\n",
    "    Input: freqs-- dictionary\n",
    "    Output: tuple of (list of words, highest frequency)\n",
    "    '''\n",
    "    values = freqs.values() # Get iterable over values\n",
    "    best = max(values) # Can apply max() to an iterable\n",
    "    words = [] \n",
    "    for k in freqs: # Iterate over keys in dictionary\n",
    "        if freqs[k] == best: \n",
    "            words.append(k) \n",
    "    return (words, best)\n",
    "freqs = {'she': 1, 'loves': 1, 'you': 1, 'yeah': 3}\n",
    "print(most_common_words(freqs))"
   ]
  },
  {
   "cell_type": "markdown",
   "metadata": {},
   "source": [
    "#### Exploiting dictionary properties"
   ]
  },
  {
   "cell_type": "code",
   "execution_count": 97,
   "metadata": {},
   "outputs": [
    {
     "name": "stdout",
     "output_type": "stream",
     "text": [
      "[(['yeah'], 3)]\n"
     ]
    }
   ],
   "source": [
    "def words_often(freqs, minTimes): \n",
    "    '''\n",
    "    Input: freqs -dictinary\n",
    "           minTimes - integer\n",
    "    Output: list of tuples of form (list, integer)\n",
    "    '''\n",
    "    result = [] \n",
    "    done = False \n",
    "    while not done: \n",
    "        temp = most_common_words(freqs) \n",
    "        if temp[1] >= minTimes: \n",
    "            result.append(temp) \n",
    "            for w in temp[0]: \n",
    "                del(freqs[w]) # mutate dictionary to remove the words that have been processed\n",
    "        else: \n",
    "            done = True \n",
    "    return result\n",
    "\n",
    "print(words_often(freqs, 3))"
   ]
  }
 ],
 "metadata": {
  "kernelspec": {
   "display_name": "Python 3",
   "language": "python",
   "name": "python3"
  },
  "language_info": {
   "codemirror_mode": {
    "name": "ipython",
    "version": 3
   },
   "file_extension": ".py",
   "mimetype": "text/x-python",
   "name": "python",
   "nbconvert_exporter": "python",
   "pygments_lexer": "ipython3",
   "version": "3.8.5"
  }
 },
 "nbformat": 4,
 "nbformat_minor": 4
}
