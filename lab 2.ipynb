{
 "cells": [
  {
   "cell_type": "markdown",
   "metadata": {},
   "source": [
    "# Lab 2\n",
    "\n",
    "# Python -- Basic Codes"
   ]
  },
  {
   "cell_type": "markdown",
   "metadata": {},
   "source": [
    "### 1| Simple for loops over integer ranges"
   ]
  },
  {
   "cell_type": "markdown",
   "metadata": {},
   "source": [
    "#### Exercise 1. \n",
    "\n",
    "Write a program that asks the user to enter an integer n, and, using a for loop along\n",
    "with an appropriately selected range(), computes and prints out the sum of all integers from 3\n",
    "to n. \n",
    "\n",
    "For example, if n = 10, your program must print 52. \n",
    "\n",
    "You can assume that users will enter\n",
    "valid inputs. There is no need to check for the input validity."
   ]
  },
  {
   "cell_type": "code",
   "execution_count": 1,
   "metadata": {},
   "outputs": [
    {
     "name": "stdout",
     "output_type": "stream",
     "text": [
      "Enter an integer: 10\n",
      "The sum of all integers from 3 to 10 is:  52\n"
     ]
    }
   ],
   "source": [
    "# Exercise 1\n",
    "n = int(input(\"Enter an integer: \"))\n",
    "sum = 0\n",
    "for num in range(3,n+1):\n",
    "    sum = sum + num\n",
    "print(\"The sum of all integers from 3 to\", n, \"is: \", sum)"
   ]
  },
  {
   "cell_type": "markdown",
   "metadata": {},
   "source": [
    "#### Exercise 2. \n",
    "\n",
    "Repeat Exercise 1 but sum only the odd numbers. \n",
    "\n",
    "For example, if n = 10, yourprogram must print 24."
   ]
  },
  {
   "cell_type": "code",
   "execution_count": 2,
   "metadata": {},
   "outputs": [
    {
     "name": "stdout",
     "output_type": "stream",
     "text": [
      "Enter an integer: 10\n",
      "The sum of odd numbers from 3 to 10 is:  24\n"
     ]
    }
   ],
   "source": [
    "# Exercise 2\n",
    "n = int(input(\"Enter an integer: \"))\n",
    "sum = 0\n",
    "for num in range(3,n+1):\n",
    "    if num%2 != 0:\n",
    "        sum = sum + num\n",
    "print(\"The sum of odd numbers from 3 to\", n, \"is: \", sum)"
   ]
  },
  {
   "cell_type": "markdown",
   "metadata": {},
   "source": [
    "#### Exercise 3. \n",
    "\n",
    "Repeat Exercise 1 but sum only the multiples of 3. \n",
    "\n",
    "For example, if n = 10, your program must print 18."
   ]
  },
  {
   "cell_type": "code",
   "execution_count": 3,
   "metadata": {},
   "outputs": [
    {
     "name": "stdout",
     "output_type": "stream",
     "text": [
      "Enter an integer: 10\n",
      "The sum of multiple 3 from 3 to 10 is:  18\n"
     ]
    }
   ],
   "source": [
    "# Exercise 3\n",
    "n = int(input(\"Enter an integer: \"))\n",
    "sum = 0\n",
    "for num in range(3,n+1):\n",
    "    if num%3 ==0:\n",
    "        sum = sum + num\n",
    "print(\"The sum of multiple 3 from 3 to\", n, \"is: \", sum)"
   ]
  },
  {
   "cell_type": "markdown",
   "metadata": {},
   "source": [
    "#### Exercise 4.\n",
    "\n",
    "Repeat Exercise 1, but use the Python’s built-in sum function to compute the relevant\n",
    "sums without using loops. \n",
    "\n",
    "For example, sum(range(2, 4)) evaluates to 5 (=2+3). \n",
    "\n",
    "Do the same for Exercises 2 and 3. Make sure you get the same outputs."
   ]
  },
  {
   "cell_type": "code",
   "execution_count": 4,
   "metadata": {},
   "outputs": [
    {
     "name": "stdout",
     "output_type": "stream",
     "text": [
      "Enter an integer: 10\n",
      "The sum of all integers from 3 to 10 is:  52\n"
     ]
    }
   ],
   "source": [
    "# Exercise 4\n",
    "import numpy as np \n",
    "n = int(input(\"Enter an integer: \"))\n",
    "E1 = np.sum(np.arange(3, n+1))\n",
    "print(\"The sum of all integers from 3 to\", n, \"is: \", E1)"
   ]
  },
  {
   "cell_type": "code",
   "execution_count": 5,
   "metadata": {},
   "outputs": [
    {
     "name": "stdout",
     "output_type": "stream",
     "text": [
      "Enter an integer: 10\n",
      "The sum of all integers from 3 to 10 is:  24\n"
     ]
    }
   ],
   "source": [
    "n = int(input(\"Enter an integer: \"))\n",
    "E2 = np.sum(np.arange(3, n+1, 2))\n",
    "print(\"The sum of all integers from 3 to\", n, \"is: \", E2)"
   ]
  },
  {
   "cell_type": "code",
   "execution_count": 6,
   "metadata": {},
   "outputs": [
    {
     "name": "stdout",
     "output_type": "stream",
     "text": [
      "Enter an integer: 10\n",
      "The sum of all integers from 3 to 10 is:  18\n"
     ]
    }
   ],
   "source": [
    "n = int(input(\"Enter an integer: \"))\n",
    "E3 = np.sum(np.arange(3, n+1, 3))\n",
    "print(\"The sum of all integers from 3 to\", n, \"is: \", E3)"
   ]
  },
  {
   "cell_type": "markdown",
   "metadata": {},
   "source": [
    "#### Exercise 5. \n",
    "\n",
    "Write a program that asks the user to enter an integer n and prints the countdown\n",
    "from n to 0 (including both 0 and n).\n"
   ]
  },
  {
   "cell_type": "code",
   "execution_count": 7,
   "metadata": {},
   "outputs": [
    {
     "name": "stdout",
     "output_type": "stream",
     "text": [
      "Enter an integer: 10\n",
      "10\n",
      "9\n",
      "8\n",
      "7\n",
      "6\n",
      "5\n",
      "4\n",
      "3\n",
      "2\n",
      "1\n",
      "0\n"
     ]
    }
   ],
   "source": [
    "# Exercise 5\n",
    "n = int(input(\"Enter an integer: \"))\n",
    "for num in range(n, -1,-1):\n",
    "    print(num)"
   ]
  },
  {
   "cell_type": "code",
   "execution_count": 8,
   "metadata": {},
   "outputs": [
    {
     "name": "stdout",
     "output_type": "stream",
     "text": [
      "Enter your number: 10\n",
      "10\n",
      "9\n",
      "8\n",
      "7\n",
      "6\n",
      "5\n",
      "4\n",
      "3\n",
      "2\n",
      "1\n",
      "0\n"
     ]
    }
   ],
   "source": [
    "#\n",
    "num=int(input(\"Enter your number: \"))\n",
    "while(num>=0):\n",
    "    print(num)\n",
    "    num=num-1"
   ]
  },
  {
   "cell_type": "markdown",
   "metadata": {},
   "source": [
    "#### Exercise 6. \n",
    "\n",
    "Write a program that asks the user to enter an integer n, and prints n!. Recall that\n",
    "n! stands for the factorial of n, which is 1 \n",
    "\n",
    "if n = 0, and 1 × 2 × · · · × n if n > 0. For example, if\n",
    "n = 10, your program must print\n",
    "3628800\n",
    "\n",
    "You can assume that the input is a valid positive integer, that is, n > 0.\n"
   ]
  },
  {
   "cell_type": "code",
   "execution_count": 9,
   "metadata": {},
   "outputs": [
    {
     "name": "stdout",
     "output_type": "stream",
     "text": [
      "Enter an integer: 10\n",
      "The factorial of 10 is 3628800\n"
     ]
    }
   ],
   "source": [
    "# Exercise 6\n",
    "n = int(input(\"Enter an integer: \"))\n",
    "factorial=1\n",
    "for num in range(1, n+1):   \n",
    "    factorial = factorial*num   \n",
    "print(\"The factorial of\",num,\"is\",factorial)"
   ]
  },
  {
   "cell_type": "markdown",
   "metadata": {},
   "source": [
    "### 2| Branching"
   ]
  },
  {
   "cell_type": "markdown",
   "metadata": {},
   "source": [
    "#### Exercise 7. \n",
    "\n",
    "Write a program that asks the user to enter an integer n, \n",
    "\n",
    "and prints n is positive if n > 0, n is negative if n < 0, and n is zero, in all other cases. Use an appropriate conditional\n",
    "statement (if-elif-else ). \n",
    "\n",
    "You can assume that the inputs are valid integers."
   ]
  },
  {
   "cell_type": "code",
   "execution_count": 10,
   "metadata": {},
   "outputs": [
    {
     "name": "stdout",
     "output_type": "stream",
     "text": [
      "Enter an integer: 10\n",
      "n is positive\n"
     ]
    }
   ],
   "source": [
    "# Exercise 7\n",
    "n = int(input(\"Enter an integer: \"))\n",
    "if n > 0:\n",
    "    print(\"n is positive\")\n",
    "elif n < 0:\n",
    "    print(\"n is negative\")\n",
    "else :\n",
    "    print(\"n is zero\")"
   ]
  },
  {
   "cell_type": "markdown",
   "metadata": {},
   "source": [
    "#### Exercise 8. \n",
    "\n",
    "In Python, it is possible to check if a string represents an integer by using the string\n",
    "object’s method isdigit(). For example:\n",
    "    \n",
    "- '123'.isdigit() returns True\n",
    "- '1a3'.isdigit() returns False\n",
    "\n",
    "Repeat the exercise above, but this time use isdigit to verify that the user’s input is indeed an integer. \n",
    "\n",
    "If it is, then proceed with the rest of the logic; otherwise, print 'string is not a number'\n",
    "and exit. Try to use a single conditional statement with an extra elif."
   ]
  },
  {
   "cell_type": "code",
   "execution_count": 11,
   "metadata": {},
   "outputs": [
    {
     "name": "stdout",
     "output_type": "stream",
     "text": [
      "Enter a number: 10\n",
      "n is positive\n"
     ]
    }
   ],
   "source": [
    "# Exercise 8\n",
    "n = (input('Enter a number: '))\n",
    "if n.isdigit () == True:\n",
    "    n = int(n)\n",
    "    if n > 0:\n",
    "        print('n is positive')\n",
    "    elif n < int(0):\n",
    "        print('n is negative')\n",
    "    else:\n",
    "        print('n is zero9')\n",
    "else:\n",
    "    print(\"String is not a number\")"
   ]
  },
  {
   "cell_type": "markdown",
   "metadata": {},
   "source": [
    "#### Exercise 9. \n",
    "\n",
    "Write a program that asks the user to enter two integers a and b, initialises an integer\n",
    "variable secret to store your ”secret” number, and prints\n",
    "\n",
    "- 'both numbers are positive', if a > 0 and b > 0,\n",
    "- 'both numbers are negative', if a < 0 and b < 0,\n",
    "- 'one number is 0', if either a = 0 or b = 0, and\n",
    "- 'numbers have opposite signs', in all other cases.\n",
    "\n",
    "In addition, your program must also print\n",
    "'you also guessed my secret number!' if either a or b is equal to your secret number, and 'no luck this time', otherwise.\n",
    "For example, if a = 5, b = −3, and the secret number is 5, your program must print \n",
    "\n",
    "- numbers have opposite signs\n",
    "- you also guessed my secret number!\n",
    "\n",
    "You can assume that the inputs are valid integers. There is no need to check the input validity.\n"
   ]
  },
  {
   "cell_type": "code",
   "execution_count": 12,
   "metadata": {},
   "outputs": [
    {
     "name": "stdout",
     "output_type": "stream",
     "text": [
      "Enter a number: a = 5\n",
      "Enter a number: b = -3\n",
      "you also guessed my secret number!\n",
      "Numbers have opposite signs\n"
     ]
    }
   ],
   "source": [
    "#Exercise 9\n",
    "a = int(input(\"Enter a number: a = \"))\n",
    "b = int(input(\"Enter a number: b = \"))\n",
    "secret = 5\n",
    "if a == secret or b == secret:\n",
    "    print('you also guessed my secret number!')\n",
    "    if a > 0 and b > 0:\n",
    "        print(\"Both numbers are positive\")\n",
    "    elif a < 0 and b < 0:\n",
    "        print(\"Both numbers are negative\")\n",
    "    elif a == 0 or b == 0:\n",
    "        print(\"One number is zero\")\n",
    "    else:\n",
    "        print(\"Numbers have opposite signs\")\n",
    "else:   \n",
    "    print('no luck this time')"
   ]
  },
  {
   "cell_type": "markdown",
   "metadata": {},
   "source": [
    "#### Exercise 10. \n",
    "\n",
    "Modify the program you wrote for Exercise 6 to handle the case of n = 0 using\n",
    "an appropriate conditional statement. \n",
    "\n",
    "Test your solution on a few sample inputs to verify that it\n",
    "both continues to work correctly for n > 0, and outputs 1 for n = 0."
   ]
  },
  {
   "cell_type": "code",
   "execution_count": 13,
   "metadata": {},
   "outputs": [
    {
     "name": "stdout",
     "output_type": "stream",
     "text": [
      "Enter an integer: 10\n",
      "The factorial of 10 is 3628800\n"
     ]
    }
   ],
   "source": [
    "n = int(input(\"Enter an integer: \"))\n",
    "factorial=1\n",
    "if n == 0:\n",
    "    factorial=1\n",
    "else:\n",
    "    for num in range(1, n+1):   \n",
    "        factorial = factorial*num   \n",
    "print(\"The factorial of\",n,\"is\",factorial)"
   ]
  },
  {
   "cell_type": "code",
   "execution_count": 14,
   "metadata": {},
   "outputs": [
    {
     "name": "stdout",
     "output_type": "stream",
     "text": [
      "Enter a number: 10\n",
      "The factorial of 10 is 3628800\n"
     ]
    }
   ],
   "source": [
    "num = int(input(\"Enter a number: \"))    \n",
    "factorial = 1    \n",
    "if num < 0:    \n",
    "    print(\" Factorial does not exist for negative numbers\")    \n",
    "elif num == 0:    \n",
    "    print(\"The factorial of 0 is 1\")    \n",
    "else:    \n",
    "    for i in range(1,num + 1):    \n",
    "        factorial = factorial*i    \n",
    "    print(\"The factorial of\",num,\"is\",factorial) "
   ]
  },
  {
   "cell_type": "markdown",
   "metadata": {},
   "source": [
    "### 3| While loops"
   ]
  },
  {
   "cell_type": "markdown",
   "metadata": {},
   "source": [
    "#### Exercise 11. \n",
    "\n",
    "Write a program squareSum.py that asks the user to enter a positive integer n and, using a while loop, computes the sum 1^2 + 2^2 + . . . + n^2\n",
    "\n",
    "If you try the program with input 6 you should get 91."
   ]
  },
  {
   "cell_type": "code",
   "execution_count": 15,
   "metadata": {},
   "outputs": [
    {
     "name": "stdout",
     "output_type": "stream",
     "text": [
      "Enter a positive integer: 6\n",
      "The total sum is  91\n"
     ]
    }
   ],
   "source": [
    "# Exercise 11\n",
    "n = int(input(\"Enter a positive integer: \"))\n",
    "num = 1\n",
    "sum = 0\n",
    "while num <= n:\n",
    "    sum = sum+(num*num)\n",
    "    num = num+1\n",
    "print(\"The total sum is \" , sum)"
   ]
  },
  {
   "cell_type": "code",
   "execution_count": 16,
   "metadata": {},
   "outputs": [
    {
     "name": "stdout",
     "output_type": "stream",
     "text": [
      "Enter a positive integer: 6\n",
      "91\n"
     ]
    }
   ],
   "source": [
    "n = int(input(\"Enter a positive integer: \"))\n",
    "num = 1\n",
    "summ = 0\n",
    "while num <= n:\n",
    "    summ = summ + (num**2)\n",
    "    num = num +1\n",
    "print(summ)"
   ]
  },
  {
   "cell_type": "markdown",
   "metadata": {},
   "source": [
    "#### Exercise 12. \n",
    "\n",
    "Write a program that initialises a variable secret with a secret number between 0 and 10, and then, proceeds to repeatedly ask the user to enter a number between 0 and 10 using a while loop until the secret number is correctly guessed. Once this happens, the program must \n",
    "\n",
    "print Well done! and terminate. For example, if secret=4, then a possible interaction between\n",
    "\n",
    "your program and the user may look as follows:\n",
    "- Enter a number between 0 and 10: 7\n",
    "- Enter a number between 0 and 10: 8\n",
    "- Enter a number between 0 and 10: 7\n",
    "- Enter a number between 0 and 10: 2\n",
    "- Enter a number between 0 and 10: 4\n",
    "Well done!\n",
    "Try the following two ways of implementing the above:\n",
    "1. Write a while loop that runs forever using True as the loop continuation condition, and use\n",
    "the break statement to exit the loop once the secret number is correctly guessed.\n",
    "2. Write a while loop having the comparison between the secret number and the user input as\n",
    "the loop continuation condition."
   ]
  },
  {
   "cell_type": "code",
   "execution_count": 17,
   "metadata": {},
   "outputs": [
    {
     "name": "stdout",
     "output_type": "stream",
     "text": [
      "Enter a number between 0 and 10: 7\n",
      "Enter a number between 0 and 10: 8\n",
      "Enter a number between 0 and 10: 6\n",
      "Enter a number between 0 and 10: 2\n",
      "Enter a number between 0 and 10: 3\n",
      "Enter a number between 0 and 10: 4\n",
      "Well done!\n"
     ]
    }
   ],
   "source": [
    "# Exercise 12\n",
    "secret = 4\n",
    "while True:\n",
    "    n = int(input(\"Enter a number between 0 and 10: \"))\n",
    "    if n == secret:\n",
    "        print(\"Well done!\")\n",
    "        break  "
   ]
  },
  
