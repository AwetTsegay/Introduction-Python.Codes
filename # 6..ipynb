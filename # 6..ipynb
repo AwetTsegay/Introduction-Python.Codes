{
 "cells": [
  {
   "cell_type": "markdown",
   "metadata": {},
   "source": [
    "# 6. Working with data\n",
    "\n",
    "# Python -- Basic Codes"
   ]
  },
  {
   "cell_type": "markdown",
   "metadata": {},
   "source": [
    "### Learning outcomes\n",
    "- Understand how to access, create and update multi-dimensional data.\n",
    "- Be able to use Python libraries.\n",
    "- Have an introductory understanding of data frames and the library Pandas and NumPy.\n",
    "- Be able to make use of the json data format."
   ]
  },
  {
   "cell_type": "markdown",
   "metadata": {},
   "source": [
    "## 1. Multi-dimensional data\n",
    "Much of the data you will work with is multi-dimensional.\n",
    "- Entities with multiple features - feature vectors\n",
    "- Spreadsheets\n",
    "- Databases - won’t discuss further here!\n",
    "- Matrices"
   ]
  },
  {
   "cell_type": "markdown",
   "metadata": {},
   "source": [
    "#### Reminder - Lists of Lists of Lists of . . ."
   ]
  },
  {
   "cell_type": "code",
   "execution_count": 1,
   "metadata": {},
   "outputs": [
    {
     "name": "stdout",
     "output_type": "stream",
     "text": [
      "[['yellow', 'orange'], ['red']]\n",
      "['red', 'pink']\n",
      "[['yellow', 'orange'], ['red', 'pink']]\n"
     ]
    }
   ],
   "source": [
    "warm = ['yellow', 'orange']\n",
    "hot = ['red']\n",
    "brightcolor = [warm]\n",
    "\n",
    "brightcolor.append(hot)\n",
    "print(brightcolor)\n",
    "\n",
    "hot.append('pink')\n",
    "print(hot)\n",
    "print(brightcolor)"
   ]
  },
  {
   "cell_type": "markdown",
   "metadata": {},
   "source": [
    "#### Accessing list of lists"
   ]
  },
  {
   "cell_type": "code",
   "execution_count": 2,
   "metadata": {},
   "outputs": [
    {
     "data": {
      "text/plain": [
       "list"
      ]
     },
     "execution_count": 2,
     "metadata": {},
     "output_type": "execute_result"
    }
   ],
   "source": [
    "type(warm) "
   ]
  },
  {
   "cell_type": "code",
   "execution_count": 3,
   "metadata": {},
   "outputs": [
    {
     "data": {
      "text/plain": [
       "list"
      ]
     },
     "execution_count": 3,
     "metadata": {},
     "output_type": "execute_result"
    }
   ],
   "source": [
    "type(brightcolor) "
   ]
  },
  {
   "cell_type": "markdown",
   "metadata": {},
   "source": [
    "How do we access warm and hot from brightcolor?"
   ]
  },
  {
   "cell_type": "code",
   "execution_count": 4,
   "metadata": {},
   "outputs": [
    {
     "name": "stdout",
     "output_type": "stream",
     "text": [
      "['yellow', 'orange']\n"
     ]
    }
   ],
   "source": [
    "print(brightcolor[0])"
   ]
  },
  {
   "cell_type": "code",
   "execution_count": 5,
   "metadata": {},
   "outputs": [
    {
     "name": "stdout",
     "output_type": "stream",
     "text": [
      "['red', 'pink']\n"
     ]
    }
   ],
   "source": [
    "print(brightcolor[1])"
   ]
  },
  {
   "cell_type": "markdown",
   "metadata": {},
   "source": [
    "#### Accessing individual entries"
   ]
  },
  {
   "cell_type": "markdown",
   "metadata": {},
   "source": [
    "How do we access individual colours from brightcolor?"
   ]
  },
  {
   "cell_type": "code",
   "execution_count": 6,
   "metadata": {},
   "outputs": [
    {
     "data": {
      "text/plain": [
       "'yellow'"
      ]
     },
     "execution_count": 6,
     "metadata": {},
     "output_type": "execute_result"
    }
   ],
   "source": [
    "(brightcolor[0])[0]"
   ]
  },
  {
   "cell_type": "code",
   "execution_count": 7,
   "metadata": {},
   "outputs": [
    {
     "data": {
      "text/plain": [
       "'pink'"
      ]
     },
     "execution_count": 7,
     "metadata": {},
     "output_type": "execute_result"
    }
   ],
   "source": [
    "(brightcolor[1])[1]"
   ]
  },
  {
   "cell_type": "markdown",
   "metadata": {},
   "source": [
    "#### Creating from scratch"
   ]
  },
  {
   "cell_type": "code",
   "execution_count": 8,
   "metadata": {},
   "outputs": [
    {
     "name": "stdout",
     "output_type": "stream",
     "text": [
      "orange\n"
     ]
    }
   ],
   "source": [
    "brightcolor = [['yellow', 'orange'], ['red', 'pink']]\n",
    "print(brightcolor[0][1])"
   ]
  },
  {
   "cell_type": "markdown",
   "metadata": {},
   "source": [
    "#### Updating"
   ]
  },
  {
   "cell_type": "code",
   "execution_count": 9,
   "metadata": {},
   "outputs": [],
   "source": [
    "brightcolor[1][0] = 'white'\n",
    "brightcolor[1].append('blue')\n",
    "brightcolor.append(['grey','green','purple','mauve'])"
   ]
  },
  {
   "cell_type": "code",
   "execution_count": 10,
   "metadata": {},
   "outputs": [
    {
     "data": {
      "text/plain": [
       "[['yellow', 'orange'],\n",
       " ['white', 'pink', 'blue'],\n",
       " ['grey', 'green', 'purple', 'mauve']]"
      ]
     },
     "execution_count": 10,
     "metadata": {},
     "output_type": "execute_result"
    }
   ],
   "source": [
    "brightcolor"
   ]
  },
  {
   "cell_type": "markdown",
   "metadata": {},
   "source": [
    "#### More complicated lists\n",
    "- Could have more than list of lists\n",
    "- Combine data types"
   ]
  },
  {
   "cell_type": "code",
   "execution_count": 11,
   "metadata": {},
   "outputs": [
    {
     "data": {
      "text/plain": [
       "[['yellow', 'orange'], (1, 'Seven', True), {'area': 924, 'population': 201}]"
      ]
     },
     "execution_count": 11,
     "metadata": {},
     "output_type": "execute_result"
    }
   ],
   "source": [
    "B = [ ['yellow','orange'],(1,'Seven',True),{'area' : 924, 'population' : 201 }]\n",
    "B"
   ]
  },
  {
   "cell_type": "markdown",
   "metadata": {},
   "source": [
    "#### Can do similar with dictionaries and tuples"
   ]
  },
  {
   "cell_type": "code",
   "execution_count": 12,
   "metadata": {},
   "outputs": [
    {
     "data": {
      "text/plain": [
       "{'India': {'area': 3287, 'population': 1366},\n",
       " 'Pakistan': {'area': 908, 'population': 217},\n",
       " 'Nigeria': {'area': 924, 'population': 201},\n",
       " 'China': {'area': 9597, 'population': 1434}}"
      ]
     },
     "execution_count": 12,
     "metadata": {},
     "output_type": "execute_result"
    }
   ],
   "source": [
    "countryData = { 'India' : { 'area' : 3287, 'population' : 1366}, \\\n",
    " 'Pakistan' : { 'area' : 908, 'population' : 217}, \\\n",
    " 'Nigeria' : { 'area' : 924, 'population' : 201}, \\\n",
    " 'China' : { 'area' : 9597, 'population' : 1434} }\n",
    "countryData"
   ]
  },
  {
   "cell_type": "code",
   "execution_count": 13,
   "metadata": {},
   "outputs": [
    {
     "name": "stdout",
     "output_type": "stream",
     "text": [
      "201\n"
     ]
    }
   ],
   "source": [
    "print(countryData['Nigeria']['population'])"
   ]
  },
  {
   "cell_type": "markdown",
   "metadata": {},
   "source": [
    "### Quiz -- Multi-dimensional arrays"
   ]
  },
  {
   "cell_type": "markdown",
   "metadata": {},
   "source": [
    "#### Question 1"
   ]
  },
  {
   "cell_type": "code",
   "execution_count": 14,
   "metadata": {},
   "outputs": [
    {
     "name": "stdout",
     "output_type": "stream",
     "text": [
      "2\n"
     ]
    }
   ],
   "source": [
    "# If the following python code has been run\n",
    "A = [ [1,2,True], [\"A\",\"B\",False]]\n",
    "# then what is the output of\n",
    "print(A[0][1])  "
   ]
  },
  {
   "cell_type": "markdown",
   "metadata": {},
   "source": [
    "#### Question 2"
   ]
  },
  {
   "cell_type": "code",
   "execution_count": 15,
   "metadata": {},
   "outputs": [
    {
     "ename": "IndexError",
     "evalue": "list index out of range",
     "output_type": "error",
     "traceback": [
      "\u001b[1;31m---------------------------------------------------------------------------\u001b[0m",
      "\u001b[1;31mIndexError\u001b[0m                                Traceback (most recent call last)",
      "\u001b[1;32m<ipython-input-15-26ea97b5c868>\u001b[0m in \u001b[0;36m<module>\u001b[1;34m\u001b[0m\n\u001b[0;32m      2\u001b[0m \u001b[0mA\u001b[0m \u001b[1;33m=\u001b[0m \u001b[1;33m[\u001b[0m \u001b[1;33m[\u001b[0m\u001b[1;36m1\u001b[0m\u001b[1;33m,\u001b[0m\u001b[1;36m2\u001b[0m\u001b[1;33m,\u001b[0m\u001b[1;32mTrue\u001b[0m\u001b[1;33m]\u001b[0m\u001b[1;33m,\u001b[0m \u001b[1;33m[\u001b[0m\u001b[1;34m\"A\"\u001b[0m\u001b[1;33m,\u001b[0m\u001b[1;34m\"B\"\u001b[0m\u001b[1;33m,\u001b[0m\u001b[1;32mFalse\u001b[0m\u001b[1;33m]\u001b[0m\u001b[1;33m]\u001b[0m\u001b[1;33m\u001b[0m\u001b[1;33m\u001b[0m\u001b[0m\n\u001b[0;32m      3\u001b[0m \u001b[1;31m# then what is the output of\u001b[0m\u001b[1;33m\u001b[0m\u001b[1;33m\u001b[0m\u001b[1;33m\u001b[0m\u001b[0m\n\u001b[1;32m----> 4\u001b[1;33m \u001b[0mprint\u001b[0m\u001b[1;33m(\u001b[0m\u001b[0mA\u001b[0m\u001b[1;33m[\u001b[0m\u001b[1;36m2\u001b[0m\u001b[1;33m]\u001b[0m\u001b[1;33m[\u001b[0m\u001b[1;36m1\u001b[0m\u001b[1;33m]\u001b[0m\u001b[1;33m)\u001b[0m\u001b[1;33m\u001b[0m\u001b[1;33m\u001b[0m\u001b[0m\n\u001b[0m\u001b[0;32m      5\u001b[0m \u001b[1;31m# It will create an index out of range error.\u001b[0m\u001b[1;33m\u001b[0m\u001b[1;33m\u001b[0m\u001b[1;33m\u001b[0m\u001b[0m\n",
      "\u001b[1;31mIndexError\u001b[0m: list index out of range"
     ]
    }
   ],
   "source": [
    "# If the following python code has been run\n",
    "A = [ [1,2,True], [\"A\",\"B\",False]]\n",
    "# then what is the output of\n",
    "print(A[2][1])  \n",
    "# It will create an index out of range error."
   ]
  },
  {
   "cell_type": "markdown",
   "metadata": {},
   "source": [
    "#### Question 3"
   ]
  },
  {
   "cell_type": "code",
   "execution_count": 16,
   "metadata": {},
   "outputs": [
    {
     "name": "stdout",
     "output_type": "stream",
     "text": [
      "False\n"
     ]
    }
   ],
   "source": [
    "# If the following python code has been run\n",
    "A = [ [1,2,True], (\"A\",\"B\",False)]\n",
    "# then what is the output of\n",
    "print(A[1][2])  "
   ]
  },
  {
   "cell_type": "markdown",
   "metadata": {},
   "source": [
    "#### Question 4"
   ]
  },
  {
   "cell_type": "code",
   "execution_count": 17,
   "metadata": {},
   "outputs": [],
   "source": [
    "# If the following python code has been run\n",
    "A = { \"Square\" : { \"Side\" : 5, \"Area\" : 25 }, \"Circle\" : { \"Radius\" : 3.0, \"Area\" : 9.4247778 } }  \n",
    "# then how can you update the entry in A that has the value 3.0 to 4.0?"
   ]
  },
  {
   "cell_type": "code",
   "execution_count": 18,
   "metadata": {},
   "outputs": [
    {
     "data": {
      "text/plain": [
       "3.0"
      ]
     },
     "execution_count": 18,
     "metadata": {},
     "output_type": "execute_result"
    }
   ],
   "source": [
    "A['Circle']['Radius']"
   ]
  },
  {
   "cell_type": "code",
   "execution_count": 19,
   "metadata": {},
   "outputs": [
    {
     "data": {
      "text/plain": [
       "4.0"
      ]
     },
     "execution_count": 19,
     "metadata": {},
     "output_type": "execute_result"
    }
   ],
   "source": [
    "A['Circle']['Radius'] = 4.0\n",
    "A['Circle']['Radius']"
   ]
  },
  {
   "cell_type": "code",
   "execution_count": 20,
   "metadata": {},
   "outputs": [
    {
     "data": {
      "text/plain": [
       "{'Square': {'Side': 5, 'Area': 25},\n",
       " 'Circle': {'Radius': 4.0, 'Area': 9.4247778}}"
      ]
     },
     "execution_count": 20,
     "metadata": {},
     "output_type": "execute_result"
    }
   ],
   "source": [
    "A"
   ]
  },
  {
   "cell_type": "markdown",
   "metadata": {},
   "source": [
    "### Importing libraries\n",
    "- Python is based on a huge amount of software\n",
    "- But there is more software that is out there for you to use that is not part of standard Python.\n",
    "- There is a mechanism rather than pasting in code.\n",
    "- Use libraries.\n",
    "- Add them in your code using import command."
   ]
  },
  {
   "cell_type": "markdown",
   "metadata": {},
   "source": [
    "#### Example\n",
    "- Generating random numbers is surprisingly useful in CS\n",
    "- The library random does that.\n",
    "- import random\n",
    "- To reduce keypresses\n",
    "- import random as rd"
   ]
  },
  {
   "cell_type": "code",
   "execution_count": 21,
   "metadata": {},
   "outputs": [
    {
     "data": {
      "text/plain": [
       "5"
      ]
     },
     "execution_count": 21,
     "metadata": {},
     "output_type": "execute_result"
    }
   ],
   "source": [
    "import random\n",
    "n=random.randint(1,10)\n",
    "n"
   ]
  },
  {
   "cell_type": "code",
   "execution_count": 22,
   "metadata": {},
   "outputs": [
    {
     "data": {
      "text/plain": [
       "3"
      ]
     },
     "execution_count": 22,
     "metadata": {},
     "output_type": "execute_result"
    }
   ],
   "source": [
    "import random as rd\n",
    "n = rd.randint(1,10)\n",
    "n"
   ]
  },
  {
   "cell_type": "markdown",
   "metadata": {},
   "source": [
    "#### Technical note\n",
    "- Depending on the environment you are using to run python you may need tools to install libraries\n",
    "- Anaconda - gui\n",
    "- Pip"
   ]
  },
  {
   "cell_type": "markdown",
   "metadata": {},
   "source": [
    "## 2. Pandas\n",
    "- Library for dealing with tables of data\n",
    "- Call them 'data frames'\n",
    "- A column of a DataFrame is called a Series\n",
    "- DataFrames closely match structure of spreadsheets\n",
    "- CSV (Comma Separated Values) files "
   ]
  },
  {
   "cell_type": "markdown",
   "metadata": {},
   "source": [
    "#### Reading in files"
   ]
  },
  {
   "cell_type": "code",
   "execution_count": 23,
   "metadata": {},
   "outputs": [],
   "source": [
    "import pandas as pd\n",
    "hits=pd.read_csv('msd_bb_matches.csv')"
   ]
  },
  {
   "cell_type": "markdown",
   "metadata": {},
   "source": [
    "#### Summary of dataframe"
   ]
  },
  {
   "cell_type": "code",
   "execution_count": 24,
   "metadata": {},
   "outputs": [
    {
     "data": {
      "text/plain": [
       "pandas.core.frame.DataFrame"
      ]
     },
     "execution_count": 24,
     "metadata": {},
     "output_type": "execute_result"
    }
   ],
   "source": [
    "type(hits)"
   ]
  },
  {
   "cell_type": "code",
   "execution_count": 25,
   "metadata": {},
   "outputs": [
    {
     "name": "stdout",
     "output_type": "stream",
     "text": [
      "               msd_id        echo_nest_id                     artist  \\\n",
      "0  TRMMWJS12903CBB7F5  SOLBDWO12AB0188CC2                  Aerosmith   \n",
      "1  TRMMCDR128F423AB03  SOSZNRJ12A8AE46E38  Michael Cera & Ellen Page   \n",
      "2  TRMMRUB12903CA097C  SOGDEWJ12AB0184C06               Brook Benton   \n",
      "3  TRMMFIS128E078EDEA  SOYURIX12A6701E960                  Aerosmith   \n",
      "\n",
      "                            title  year  peak  weeks  \n",
      "0  Remember (Walking In The Sand)  1979     6     67  \n",
      "1             Anyone Else But You  2007     2     91  \n",
      "2                       Lie To Me  1986    10     13  \n",
      "3                          Cryin'  1993    26     12  \n"
     ]
    }
   ],
   "source": [
    "print(hits.head(4))"
   ]
  },
  {
   "cell_type": "code",
   "execution_count": 26,
   "metadata": {},
   "outputs": [
    {
     "name": "stdout",
     "output_type": "stream",
     "text": [
      "                  msd_id        echo_nest_id               artist  \\\n",
      "5828  TRYYQHP128F9313D41  SORLBUJ12D02195076                 P!nk   \n",
      "5829  TRYYIWA128EF347D8A  SOJROEQ12A67AD74A8              Donovan   \n",
      "5830  TRYYNAO128E0793B81  SOHVHIK12A6D4F6192                 Styx   \n",
      "5831  TRYYXQB12903D10BCC  SOGWHMA12AC468E230  Sir Douglas Quintet   \n",
      "\n",
      "                    title  year  peak  weeks  \n",
      "5828             Funhouse  2008    13     44  \n",
      "5829     Jennifer Juniper  1968     9     26  \n",
      "5830     Sing For The Day  1978     8     41  \n",
      "5831  She's About A Mover  1969    12     13  \n"
     ]
    }
   ],
   "source": [
    "print(hits.tail(4))"
   ]
  },
  {
   "cell_type": "code",
   "execution_count": 27,
   "metadata": {},
   "outputs": [
    {
     "name": "stdout",
     "output_type": "stream",
     "text": [
      "['msd_id', 'echo_nest_id', 'artist', 'title', 'year', 'peak', 'weeks']\n"
     ]
    }
   ],
   "source": [
    "print(list(hits.columns))"
   ]
  },
  {
   "cell_type": "code",
   "execution_count": 28,
   "metadata": {},
   "outputs": [
    {
     "name": "stdout",
     "output_type": "stream",
     "text": [
      "<class 'pandas.core.frame.DataFrame'>\n",
      "RangeIndex: 5832 entries, 0 to 5831\n",
      "Data columns (total 7 columns):\n",
      " #   Column        Non-Null Count  Dtype \n",
      "---  ------        --------------  ----- \n",
      " 0   msd_id        5832 non-null   object\n",
      " 1   echo_nest_id  5832 non-null   object\n",
      " 2   artist        5832 non-null   object\n",
      " 3   title         5832 non-null   object\n",
      " 4   year          5832 non-null   int64 \n",
      " 5   peak          5832 non-null   int64 \n",
      " 6   weeks         5832 non-null   int64 \n",
      "dtypes: int64(3), object(4)\n",
      "memory usage: 319.1+ KB\n",
      "None\n"
     ]
    }
   ],
   "source": [
    "print(hits.info())"
   ]
  },
  {
   "cell_type": "code",
   "execution_count": 29,
   "metadata": {},
   "outputs": [
    {
     "name": "stdout",
     "output_type": "stream",
     "text": [
      "(5832, 7)\n"
     ]
    }
   ],
   "source": [
    "print(hits.shape)"
   ]
  },
  {
   "cell_type": "code",
   "execution_count": 30,
   "metadata": {},
   "outputs": [
    {
     "name": "stdout",
     "output_type": "stream",
     "text": [
      "msd_id          object\n",
      "echo_nest_id    object\n",
      "artist          object\n",
      "title           object\n",
      "year             int64\n",
      "peak             int64\n",
      "weeks            int64\n",
      "dtype: object\n"
     ]
    }
   ],
   "source": [
    "print(hits.dtypes)"
   ]
  },
  {
   "cell_type": "markdown",
   "metadata": {},
   "source": [
    "#### Selecting columns"
   ]
  },
  {
   "cell_type": "code",
   "execution_count": 31,
   "metadata": {},
   "outputs": [
    {
     "data": {
      "text/plain": [
       "0       TRMMWJS12903CBB7F5\n",
       "1       TRMMCDR128F423AB03\n",
       "2       TRMMRUB12903CA097C\n",
       "3       TRMMFIS128E078EDEA\n",
       "4       TRMMNZH128F92CF7D0\n",
       "               ...        \n",
       "5827    TRYKULM128F425D2D4\n",
       "5828    TRYYQHP128F9313D41\n",
       "5829    TRYYIWA128EF347D8A\n",
       "5830    TRYYNAO128E0793B81\n",
       "5831    TRYYXQB12903D10BCC\n",
       "Name: msd_id, Length: 5832, dtype: object"
      ]
     },
     "execution_count": 31,
     "metadata": {},
     "output_type": "execute_result"
    }
   ],
   "source": [
    "#Single column\n",
    "msd = hits['msd_id']\n",
    "msd"
   ]
  },
  {
   "cell_type": "code",
   "execution_count": 32,
   "metadata": {},
   "outputs": [
    {
     "data": {
      "text/html": [
       "<div>\n",
       "<style scoped>\n",
       "    .dataframe tbody tr th:only-of-type {\n",
       "        vertical-align: middle;\n",
       "    }\n",
       "\n",
       "    .dataframe tbody tr th {\n",
       "        vertical-align: top;\n",
       "    }\n",
       "\n",
       "    .dataframe thead th {\n",
       "        text-align: right;\n",
       "    }\n",
       "</style>\n",
       "<table border=\"1\" class=\"dataframe\">\n",
       "  <thead>\n",
       "    <tr style=\"text-align: right;\">\n",
       "      <th></th>\n",
       "      <th>artist</th>\n",
       "      <th>title</th>\n",
       "    </tr>\n",
       "  </thead>\n",
       "  <tbody>\n",
       "    <tr>\n",
       "      <th>0</th>\n",
       "      <td>Aerosmith</td>\n",
       "      <td>Remember (Walking In The Sand)</td>\n",
       "    </tr>\n",
       "    <tr>\n",
       "      <th>1</th>\n",
       "      <td>Michael Cera &amp; Ellen Page</td>\n",
       "      <td>Anyone Else But You</td>\n",
       "    </tr>\n",
       "    <tr>\n",
       "      <th>2</th>\n",
       "      <td>Brook Benton</td>\n",
       "      <td>Lie To Me</td>\n",
       "    </tr>\n",
       "    <tr>\n",
       "      <th>3</th>\n",
       "      <td>Aerosmith</td>\n",
       "      <td>Cryin'</td>\n",
       "    </tr>\n",
       "    <tr>\n",
       "      <th>4</th>\n",
       "      <td>Buster Brown</td>\n",
       "      <td>Sugar Babe</td>\n",
       "    </tr>\n",
       "    <tr>\n",
       "      <th>...</th>\n",
       "      <td>...</td>\n",
       "      <td>...</td>\n",
       "    </tr>\n",
       "    <tr>\n",
       "      <th>5827</th>\n",
       "      <td>John Fogerty</td>\n",
       "      <td>Eye Of The Zombie</td>\n",
       "    </tr>\n",
       "    <tr>\n",
       "      <th>5828</th>\n",
       "      <td>P!nk</td>\n",
       "      <td>Funhouse</td>\n",
       "    </tr>\n",
       "    <tr>\n",
       "      <th>5829</th>\n",
       "      <td>Donovan</td>\n",
       "      <td>Jennifer Juniper</td>\n",
       "    </tr>\n",
       "    <tr>\n",
       "      <th>5830</th>\n",
       "      <td>Styx</td>\n",
       "      <td>Sing For The Day</td>\n",
       "    </tr>\n",
       "    <tr>\n",
       "      <th>5831</th>\n",
       "      <td>Sir Douglas Quintet</td>\n",
       "      <td>She's About A Mover</td>\n",
       "    </tr>\n",
       "  </tbody>\n",
       "</table>\n",
       "<p>5832 rows × 2 columns</p>\n",
       "</div>"
      ],
      "text/plain": [
       "                         artist                           title\n",
       "0                     Aerosmith  Remember (Walking In The Sand)\n",
       "1     Michael Cera & Ellen Page             Anyone Else But You\n",
       "2                  Brook Benton                       Lie To Me\n",
       "3                     Aerosmith                          Cryin'\n",
       "4                  Buster Brown                      Sugar Babe\n",
       "...                         ...                             ...\n",
       "5827               John Fogerty               Eye Of The Zombie\n",
       "5828                       P!nk                        Funhouse\n",
       "5829                    Donovan                Jennifer Juniper\n",
       "5830                       Styx                Sing For The Day\n",
       "5831        Sir Douglas Quintet             She's About A Mover\n",
       "\n",
       "[5832 rows x 2 columns]"
      ]
     },
     "execution_count": 32,
     "metadata": {},
     "output_type": "execute_result"
    }
   ],
   "source": [
    "#Multiple columns\n",
    "artistTitle = hits[['artist','title']]\n",
    "artistTitle"
   ]
  },
  {
   "cell_type": "markdown",
   "metadata": {},
   "source": [
    "#### Selecting rows"
   ]
  },
  {
   "cell_type": "code",
   "execution_count": 33,
   "metadata": {},
   "outputs": [
    {
     "data": {
      "text/html": [
       "<div>\n",
       "<style scoped>\n",
       "    .dataframe tbody tr th:only-of-type {\n",
       "        vertical-align: middle;\n",
       "    }\n",
       "\n",
       "    .dataframe tbody tr th {\n",
       "        vertical-align: top;\n",
       "    }\n",
       "\n",
       "    .dataframe thead th {\n",
       "        text-align: right;\n",
       "    }\n",
       "</style>\n",
       "<table border=\"1\" class=\"dataframe\">\n",
       "  <thead>\n",
       "    <tr style=\"text-align: right;\">\n",
       "      <th></th>\n",
       "      <th>msd_id</th>\n",
       "      <th>echo_nest_id</th>\n",
       "      <th>artist</th>\n",
       "      <th>title</th>\n",
       "      <th>year</th>\n",
       "      <th>peak</th>\n",
       "      <th>weeks</th>\n",
       "    </tr>\n",
       "  </thead>\n",
       "  <tbody>\n",
       "    <tr>\n",
       "      <th>1</th>\n",
       "      <td>TRMMCDR128F423AB03</td>\n",
       "      <td>SOSZNRJ12A8AE46E38</td>\n",
       "      <td>Michael Cera &amp; Ellen Page</td>\n",
       "      <td>Anyone Else But You</td>\n",
       "      <td>2007</td>\n",
       "      <td>2</td>\n",
       "      <td>91</td>\n",
       "    </tr>\n",
       "    <tr>\n",
       "      <th>4</th>\n",
       "      <td>TRMMNZH128F92CF7D0</td>\n",
       "      <td>SOXCAWC12A8C144428</td>\n",
       "      <td>Buster Brown</td>\n",
       "      <td>Sugar Babe</td>\n",
       "      <td>2002</td>\n",
       "      <td>2</td>\n",
       "      <td>99</td>\n",
       "    </tr>\n",
       "    <tr>\n",
       "      <th>18</th>\n",
       "      <td>TRMWUXD128E0794FA9</td>\n",
       "      <td>SODKTBI12AF72A495A</td>\n",
       "      <td>Sting</td>\n",
       "      <td>Englishman In New York</td>\n",
       "      <td>1987</td>\n",
       "      <td>4</td>\n",
       "      <td>84</td>\n",
       "    </tr>\n",
       "    <tr>\n",
       "      <th>21</th>\n",
       "      <td>TRMWOJA128F148C010</td>\n",
       "      <td>SOBMXKJ12A6D4F8297</td>\n",
       "      <td>Onyx</td>\n",
       "      <td>Throw Ya Gunz</td>\n",
       "      <td>1993</td>\n",
       "      <td>3</td>\n",
       "      <td>81</td>\n",
       "    </tr>\n",
       "    <tr>\n",
       "      <th>23</th>\n",
       "      <td>TRMWXEM128F429D851</td>\n",
       "      <td>SOYNWBC12A8C13E6AD</td>\n",
       "      <td>The Mamas &amp; The Papas</td>\n",
       "      <td>Do You Wanna Dance</td>\n",
       "      <td>1966</td>\n",
       "      <td>5</td>\n",
       "      <td>76</td>\n",
       "    </tr>\n",
       "    <tr>\n",
       "      <th>...</th>\n",
       "      <td>...</td>\n",
       "      <td>...</td>\n",
       "      <td>...</td>\n",
       "      <td>...</td>\n",
       "      <td>...</td>\n",
       "      <td>...</td>\n",
       "      <td>...</td>\n",
       "    </tr>\n",
       "    <tr>\n",
       "      <th>5822</th>\n",
       "      <td>TRYXEQE128F42B2FFD</td>\n",
       "      <td>SOGMEKK12A8C13F38C</td>\n",
       "      <td>Sarah McLachlan</td>\n",
       "      <td>River</td>\n",
       "      <td>2006</td>\n",
       "      <td>3</td>\n",
       "      <td>71</td>\n",
       "    </tr>\n",
       "    <tr>\n",
       "      <th>5823</th>\n",
       "      <td>TRYXEWC128F1496088</td>\n",
       "      <td>SOTFLDB12A6D4FA89B</td>\n",
       "      <td>The Ronettes</td>\n",
       "      <td>Sleigh Ride</td>\n",
       "      <td>1963</td>\n",
       "      <td>2</td>\n",
       "      <td>33</td>\n",
       "    </tr>\n",
       "    <tr>\n",
       "      <th>5824</th>\n",
       "      <td>TRYXVJO128F14A3A77</td>\n",
       "      <td>SOPOKQX12A6D4FC618</td>\n",
       "      <td>Bobbie Gentry</td>\n",
       "      <td>Okolona River Bottom Band</td>\n",
       "      <td>1968</td>\n",
       "      <td>4</td>\n",
       "      <td>54</td>\n",
       "    </tr>\n",
       "    <tr>\n",
       "      <th>5825</th>\n",
       "      <td>TRYKCYB128F4291982</td>\n",
       "      <td>SOOZIKI12A8C1397E3</td>\n",
       "      <td>50 Cent</td>\n",
       "      <td>Straight To The Bank</td>\n",
       "      <td>2007</td>\n",
       "      <td>3</td>\n",
       "      <td>32</td>\n",
       "    </tr>\n",
       "    <tr>\n",
       "      <th>5827</th>\n",
       "      <td>TRYKULM128F425D2D4</td>\n",
       "      <td>SOKDYBG12A8C136FA5</td>\n",
       "      <td>John Fogerty</td>\n",
       "      <td>Eye Of The Zombie</td>\n",
       "      <td>1986</td>\n",
       "      <td>4</td>\n",
       "      <td>81</td>\n",
       "    </tr>\n",
       "  </tbody>\n",
       "</table>\n",
       "<p>720 rows × 7 columns</p>\n",
       "</div>"
      ],
      "text/plain": [
       "                  msd_id        echo_nest_id                     artist  \\\n",
       "1     TRMMCDR128F423AB03  SOSZNRJ12A8AE46E38  Michael Cera & Ellen Page   \n",
       "4     TRMMNZH128F92CF7D0  SOXCAWC12A8C144428               Buster Brown   \n",
       "18    TRMWUXD128E0794FA9  SODKTBI12AF72A495A                      Sting   \n",
       "21    TRMWOJA128F148C010  SOBMXKJ12A6D4F8297                       Onyx   \n",
       "23    TRMWXEM128F429D851  SOYNWBC12A8C13E6AD      The Mamas & The Papas   \n",
       "...                  ...                 ...                        ...   \n",
       "5822  TRYXEQE128F42B2FFD  SOGMEKK12A8C13F38C            Sarah McLachlan   \n",
       "5823  TRYXEWC128F1496088  SOTFLDB12A6D4FA89B               The Ronettes   \n",
       "5824  TRYXVJO128F14A3A77  SOPOKQX12A6D4FC618              Bobbie Gentry   \n",
       "5825  TRYKCYB128F4291982  SOOZIKI12A8C1397E3                    50 Cent   \n",
       "5827  TRYKULM128F425D2D4  SOKDYBG12A8C136FA5               John Fogerty   \n",
       "\n",
       "                          title  year  peak  weeks  \n",
       "1           Anyone Else But You  2007     2     91  \n",
       "4                    Sugar Babe  2002     2     99  \n",
       "18       Englishman In New York  1987     4     84  \n",
       "21                Throw Ya Gunz  1993     3     81  \n",
       "23           Do You Wanna Dance  1966     5     76  \n",
       "...                         ...   ...   ...    ...  \n",
       "5822                      River  2006     3     71  \n",
       "5823                Sleigh Ride  1963     2     33  \n",
       "5824  Okolona River Bottom Band  1968     4     54  \n",
       "5825       Straight To The Bank  2007     3     32  \n",
       "5827          Eye Of The Zombie  1986     4     81  \n",
       "\n",
       "[720 rows x 7 columns]"
      ]
     },
     "execution_count": 33,
     "metadata": {},
     "output_type": "execute_result"
    }
   ],
   "source": [
    "# Rows where the peak was less than 6\n",
    "tops=hits[hits['peak'] < 6]\n",
    "tops"
   ]
  },
  {
   "cell_type": "markdown",
   "metadata": {},
   "source": [
    "### Cleaning up data"
   ]
  },
  {
   "cell_type": "code",
   "execution_count": 34,
   "metadata": {},
   "outputs": [
    {
     "data": {
      "text/html": [
       "<div>\n",
       "<style scoped>\n",
       "    .dataframe tbody tr th:only-of-type {\n",
       "        vertical-align: middle;\n",
       "    }\n",
       "\n",
       "    .dataframe tbody tr th {\n",
       "        vertical-align: top;\n",
       "    }\n",
       "\n",
       "    .dataframe thead th {\n",
       "        text-align: right;\n",
       "    }\n",
       "</style>\n",
       "<table border=\"1\" class=\"dataframe\">\n",
       "  <thead>\n",
       "    <tr style=\"text-align: right;\">\n",
       "      <th></th>\n",
       "      <th>Family</th>\n",
       "      <th>Genus</th>\n",
       "      <th>CommonName</th>\n",
       "      <th>Species</th>\n",
       "      <th>Species (ITIS)</th>\n",
       "      <th>BodyMass_kg</th>\n",
       "      <th>BodyMassMale_kg</th>\n",
       "      <th>BodyMassFemale_kg</th>\n",
       "      <th>Refs1</th>\n",
       "    </tr>\n",
       "  </thead>\n",
       "  <tbody>\n",
       "    <tr>\n",
       "      <th>0</th>\n",
       "      <td>Cercopithecidae</td>\n",
       "      <td>Allenopithecus</td>\n",
       "      <td>Allen_s_Swamp_Monkey</td>\n",
       "      <td>Allenopithecus_nigroviridis</td>\n",
       "      <td>Allenopithecus_nigroviridis</td>\n",
       "      <td>4.65</td>\n",
       "      <td>6.130</td>\n",
       "      <td>3.180</td>\n",
       "      <td>210</td>\n",
       "    </tr>\n",
       "    <tr>\n",
       "      <th>2</th>\n",
       "      <td>Cheirogaleidae</td>\n",
       "      <td>Allocebus</td>\n",
       "      <td>Hairy_eared_Dwarf_Lemur</td>\n",
       "      <td>Allocebus_trichotis</td>\n",
       "      <td>Allocebus_trichotis</td>\n",
       "      <td>0.08</td>\n",
       "      <td>0.092</td>\n",
       "      <td>0.084</td>\n",
       "      <td>315</td>\n",
       "    </tr>\n",
       "    <tr>\n",
       "      <th>4</th>\n",
       "      <td>Cercopithecidae</td>\n",
       "      <td>Allochrocebus</td>\n",
       "      <td>L_Hoest_s_Monkey</td>\n",
       "      <td>Allochrocebus_lhoesti</td>\n",
       "      <td>Allochrocebus_lhoesti</td>\n",
       "      <td>5.00</td>\n",
       "      <td>7.000</td>\n",
       "      <td>3.000</td>\n",
       "      <td>155</td>\n",
       "    </tr>\n",
       "    <tr>\n",
       "      <th>6</th>\n",
       "      <td>Cercopithecidae</td>\n",
       "      <td>Allochrocebus</td>\n",
       "      <td>Preuss_s_Monkey</td>\n",
       "      <td>Allochrocebus_preussi</td>\n",
       "      <td>Allochrocebus_preussi</td>\n",
       "      <td>3.80</td>\n",
       "      <td>4.700</td>\n",
       "      <td>2.900</td>\n",
       "      <td>333</td>\n",
       "    </tr>\n",
       "    <tr>\n",
       "      <th>8</th>\n",
       "      <td>Cercopithecidae</td>\n",
       "      <td>Allochrocebus</td>\n",
       "      <td>Sun_tailed_Monkey</td>\n",
       "      <td>Allochrocebus_solatus</td>\n",
       "      <td>Allochrocebus_solatus</td>\n",
       "      <td>5.40</td>\n",
       "      <td>6.890</td>\n",
       "      <td>3.920</td>\n",
       "      <td>326</td>\n",
       "    </tr>\n",
       "    <tr>\n",
       "      <th>...</th>\n",
       "      <td>...</td>\n",
       "      <td>...</td>\n",
       "      <td>...</td>\n",
       "      <td>...</td>\n",
       "      <td>...</td>\n",
       "      <td>...</td>\n",
       "      <td>...</td>\n",
       "      <td>...</td>\n",
       "      <td>...</td>\n",
       "    </tr>\n",
       "    <tr>\n",
       "      <th>619</th>\n",
       "      <td>Cercopithecidae</td>\n",
       "      <td>Trachypithecus</td>\n",
       "      <td>Phayre_s_Langur</td>\n",
       "      <td>Trachypithecus_phayrei</td>\n",
       "      <td>Trachypithecus_phayrei</td>\n",
       "      <td>7.44</td>\n",
       "      <td>7.930</td>\n",
       "      <td>6.950</td>\n",
       "      <td>312</td>\n",
       "    </tr>\n",
       "    <tr>\n",
       "      <th>620</th>\n",
       "      <td>Cercopithecidae</td>\n",
       "      <td>Trachypithecus</td>\n",
       "      <td>Capped_Langur</td>\n",
       "      <td>Trachypithecus_pileatus</td>\n",
       "      <td>Trachypithecus_pileatus</td>\n",
       "      <td>10.93</td>\n",
       "      <td>12.000</td>\n",
       "      <td>9.860</td>\n",
       "      <td>210</td>\n",
       "    </tr>\n",
       "    <tr>\n",
       "      <th>621</th>\n",
       "      <td>Cercopithecidae</td>\n",
       "      <td>Trachypithecus</td>\n",
       "      <td>Cat_Ba_Langur</td>\n",
       "      <td>Trachypithecus_poliocephalus</td>\n",
       "      <td>Trachypithecus_poliocephalus</td>\n",
       "      <td>8.05</td>\n",
       "      <td>8.750</td>\n",
       "      <td>7.350</td>\n",
       "      <td>1134</td>\n",
       "    </tr>\n",
       "    <tr>\n",
       "      <th>625</th>\n",
       "      <td>Lemuridae</td>\n",
       "      <td>Varecia</td>\n",
       "      <td>Red_Ruffed_Lemur</td>\n",
       "      <td>Varecia_rubra</td>\n",
       "      <td>Varecia_rubra</td>\n",
       "      <td>3.51</td>\n",
       "      <td>3.550</td>\n",
       "      <td>3.470</td>\n",
       "      <td>290</td>\n",
       "    </tr>\n",
       "    <tr>\n",
       "      <th>627</th>\n",
       "      <td>Lemuridae</td>\n",
       "      <td>Varecia</td>\n",
       "      <td>Black_and_white_Ruffed_Lemur</td>\n",
       "      <td>Varecia_variegata</td>\n",
       "      <td>Varecia_variegata</td>\n",
       "      <td>3.58</td>\n",
       "      <td>3.630</td>\n",
       "      <td>3.520</td>\n",
       "      <td>285</td>\n",
       "    </tr>\n",
       "  </tbody>\n",
       "</table>\n",
       "<p>370 rows × 9 columns</p>\n",
       "</div>"
      ],
      "text/plain": [
       "              Family           Genus                    CommonName  \\\n",
       "0    Cercopithecidae  Allenopithecus          Allen_s_Swamp_Monkey   \n",
       "2     Cheirogaleidae       Allocebus       Hairy_eared_Dwarf_Lemur   \n",
       "4    Cercopithecidae   Allochrocebus              L_Hoest_s_Monkey   \n",
       "6    Cercopithecidae   Allochrocebus               Preuss_s_Monkey   \n",
       "8    Cercopithecidae   Allochrocebus             Sun_tailed_Monkey   \n",
       "..               ...             ...                           ...   \n",
       "619  Cercopithecidae  Trachypithecus               Phayre_s_Langur   \n",
       "620  Cercopithecidae  Trachypithecus                 Capped_Langur   \n",
       "621  Cercopithecidae  Trachypithecus                 Cat_Ba_Langur   \n",
       "625        Lemuridae         Varecia              Red_Ruffed_Lemur   \n",
       "627        Lemuridae         Varecia  Black_and_white_Ruffed_Lemur   \n",
       "\n",
       "                          Species                Species (ITIS)  BodyMass_kg  \\\n",
       "0     Allenopithecus_nigroviridis   Allenopithecus_nigroviridis         4.65   \n",
       "2             Allocebus_trichotis           Allocebus_trichotis         0.08   \n",
       "4           Allochrocebus_lhoesti         Allochrocebus_lhoesti         5.00   \n",
       "6           Allochrocebus_preussi         Allochrocebus_preussi         3.80   \n",
       "8           Allochrocebus_solatus         Allochrocebus_solatus         5.40   \n",
       "..                            ...                           ...          ...   \n",
       "619        Trachypithecus_phayrei        Trachypithecus_phayrei         7.44   \n",
       "620       Trachypithecus_pileatus       Trachypithecus_pileatus        10.93   \n",
       "621  Trachypithecus_poliocephalus  Trachypithecus_poliocephalus         8.05   \n",
       "625                 Varecia_rubra                 Varecia_rubra         3.51   \n",
       "627             Varecia_variegata             Varecia_variegata         3.58   \n",
       "\n",
       "     BodyMassMale_kg  BodyMassFemale_kg Refs1  \n",
       "0              6.130              3.180   210  \n",
       "2              0.092              0.084   315  \n",
       "4              7.000              3.000   155  \n",
       "6              4.700              2.900   333  \n",
       "8              6.890              3.920   326  \n",
       "..               ...                ...   ...  \n",
       "619            7.930              6.950   312  \n",
       "620           12.000              9.860   210  \n",
       "621            8.750              7.350  1134  \n",
       "625            3.550              3.470   290  \n",
       "627            3.630              3.520   285  \n",
       "\n",
       "[370 rows x 9 columns]"
      ]
     },
     "execution_count": 34,
     "metadata": {},
     "output_type": "execute_result"
    }
   ],
   "source": [
    "# Can remove rows where data is missing\n",
    "# (Primate data set - many NaNs)\n",
    "import pandas as np\n",
    "masses = pd.read_csv('BodyMass_.csv', encoding='ISO-8859-1')\n",
    "noNA = masses[masses['BodyMassFemale_kg'].notna()]\n",
    "noNA"
   ]
  },
  {
   "cell_type": "markdown",
   "metadata": {},
   "source": [
    "#### Selecting rows and columns"
   ]
  },
  {
   "cell_type": "code",
   "execution_count": 35,
   "metadata": {},
   "outputs": [
    {
     "data": {
      "text/html": [
       "<div>\n",
       "<style scoped>\n",
       "    .dataframe tbody tr th:only-of-type {\n",
       "        vertical-align: middle;\n",
       "    }\n",
       "\n",
       "    .dataframe tbody tr th {\n",
       "        vertical-align: top;\n",
       "    }\n",
       "\n",
       "    .dataframe thead th {\n",
       "        text-align: right;\n",
       "    }\n",
       "</style>\n",
       "<table border=\"1\" class=\"dataframe\">\n",
       "  <thead>\n",
       "    <tr style=\"text-align: right;\">\n",
       "      <th></th>\n",
       "      <th>artist</th>\n",
       "      <th>title</th>\n",
       "    </tr>\n",
       "  </thead>\n",
       "  <tbody>\n",
       "    <tr>\n",
       "      <th>1</th>\n",
       "      <td>Michael Cera &amp; Ellen Page</td>\n",
       "      <td>Anyone Else But You</td>\n",
       "    </tr>\n",
       "    <tr>\n",
       "      <th>28</th>\n",
       "      <td>Britney Spears</td>\n",
       "      <td>Break The Ice</td>\n",
       "    </tr>\n",
       "    <tr>\n",
       "      <th>53</th>\n",
       "      <td>Kanye West</td>\n",
       "      <td>Stronger</td>\n",
       "    </tr>\n",
       "    <tr>\n",
       "      <th>58</th>\n",
       "      <td>Ashley Tisdale</td>\n",
       "      <td>He Said She Said</td>\n",
       "    </tr>\n",
       "    <tr>\n",
       "      <th>197</th>\n",
       "      <td>Juanes</td>\n",
       "      <td>Me Enamora</td>\n",
       "    </tr>\n",
       "    <tr>\n",
       "      <th>...</th>\n",
       "      <td>...</td>\n",
       "      <td>...</td>\n",
       "    </tr>\n",
       "    <tr>\n",
       "      <th>5391</th>\n",
       "      <td>Brad Paisley</td>\n",
       "      <td>I'm Still A Guy</td>\n",
       "    </tr>\n",
       "    <tr>\n",
       "      <th>5537</th>\n",
       "      <td>The Elgins</td>\n",
       "      <td>It's Been A Long Long Time</td>\n",
       "    </tr>\n",
       "    <tr>\n",
       "      <th>5705</th>\n",
       "      <td>Gary Allan</td>\n",
       "      <td>Learning How To Bend</td>\n",
       "    </tr>\n",
       "    <tr>\n",
       "      <th>5794</th>\n",
       "      <td>The White Stripes</td>\n",
       "      <td>Icky Thump</td>\n",
       "    </tr>\n",
       "    <tr>\n",
       "      <th>5825</th>\n",
       "      <td>50 Cent</td>\n",
       "      <td>Straight To The Bank</td>\n",
       "    </tr>\n",
       "  </tbody>\n",
       "</table>\n",
       "<p>114 rows × 2 columns</p>\n",
       "</div>"
      ],
      "text/plain": [
       "                         artist                       title\n",
       "1     Michael Cera & Ellen Page         Anyone Else But You\n",
       "28               Britney Spears               Break The Ice\n",
       "53                   Kanye West                    Stronger\n",
       "58               Ashley Tisdale            He Said She Said\n",
       "197                      Juanes                  Me Enamora\n",
       "...                         ...                         ...\n",
       "5391               Brad Paisley             I'm Still A Guy\n",
       "5537                 The Elgins  It's Been A Long Long Time\n",
       "5705                 Gary Allan        Learning How To Bend\n",
       "5794          The White Stripes                  Icky Thump\n",
       "5825                    50 Cent        Straight To The Bank\n",
       "\n",
       "[114 rows x 2 columns]"
      ]
     },
     "execution_count": 35,
     "metadata": {},
     "output_type": "execute_result"
    }
   ],
   "source": [
    "# List Artist and Title when the year is 2007\n",
    "aT2007 = hits.loc[hits['year'] == 2007, ['artist','title']] \n",
    "aT2007"
   ]
  },
  {
   "cell_type": "code",
   "execution_count": 36,
   "metadata": {},
   "outputs": [
    {
     "data": {
      "text/html": [
       "<div>\n",
       "<style scoped>\n",
       "    .dataframe tbody tr th:only-of-type {\n",
       "        vertical-align: middle;\n",
       "    }\n",
       "\n",
       "    .dataframe tbody tr th {\n",
       "        vertical-align: top;\n",
       "    }\n",
       "\n",
       "    .dataframe thead th {\n",
       "        text-align: right;\n",
       "    }\n",
       "</style>\n",
       "<table border=\"1\" class=\"dataframe\">\n",
       "  <thead>\n",
       "    <tr style=\"text-align: right;\">\n",
       "      <th></th>\n",
       "      <th>title</th>\n",
       "      <th>year</th>\n",
       "    </tr>\n",
       "  </thead>\n",
       "  <tbody>\n",
       "    <tr>\n",
       "      <th>5</th>\n",
       "      <td>Help Is On Its Way</td>\n",
       "      <td>1980</td>\n",
       "    </tr>\n",
       "    <tr>\n",
       "      <th>6</th>\n",
       "      <td>After Midnight</td>\n",
       "      <td>1970</td>\n",
       "    </tr>\n",
       "    <tr>\n",
       "      <th>7</th>\n",
       "      <td>Walk On The Wild Side</td>\n",
       "      <td>1972</td>\n",
       "    </tr>\n",
       "    <tr>\n",
       "      <th>8</th>\n",
       "      <td>Redneck Yacht Club</td>\n",
       "      <td>2005</td>\n",
       "    </tr>\n",
       "    <tr>\n",
       "      <th>9</th>\n",
       "      <td>Don't Leave Me This Way</td>\n",
       "      <td>1976</td>\n",
       "    </tr>\n",
       "    <tr>\n",
       "      <th>...</th>\n",
       "      <td>...</td>\n",
       "      <td>...</td>\n",
       "    </tr>\n",
       "    <tr>\n",
       "      <th>95</th>\n",
       "      <td>What Kinda Gone</td>\n",
       "      <td>2008</td>\n",
       "    </tr>\n",
       "    <tr>\n",
       "      <th>96</th>\n",
       "      <td>What Am I Gonna Do With You</td>\n",
       "      <td>1975</td>\n",
       "    </tr>\n",
       "    <tr>\n",
       "      <th>97</th>\n",
       "      <td>Juicebox</td>\n",
       "      <td>2005</td>\n",
       "    </tr>\n",
       "    <tr>\n",
       "      <th>98</th>\n",
       "      <td>Europa And The Pirate Twins</td>\n",
       "      <td>1982</td>\n",
       "    </tr>\n",
       "    <tr>\n",
       "      <th>99</th>\n",
       "      <td>I'll Never Break Your Heart</td>\n",
       "      <td>1996</td>\n",
       "    </tr>\n",
       "  </tbody>\n",
       "</table>\n",
       "<p>95 rows × 2 columns</p>\n",
       "</div>"
      ],
      "text/plain": [
       "                          title  year\n",
       "5            Help Is On Its Way  1980\n",
       "6                After Midnight  1970\n",
       "7         Walk On The Wild Side  1972\n",
       "8            Redneck Yacht Club  2005\n",
       "9       Don't Leave Me This Way  1976\n",
       "..                          ...   ...\n",
       "95              What Kinda Gone  2008\n",
       "96  What Am I Gonna Do With You  1975\n",
       "97                     Juicebox  2005\n",
       "98  Europa And The Pirate Twins  1982\n",
       "99  I'll Never Break Your Heart  1996\n",
       "\n",
       "[95 rows x 2 columns]"
      ]
     },
     "execution_count": 36,
     "metadata": {},
     "output_type": "execute_result"
    }
   ],
   "source": [
    "# Can also use indices\n",
    "aT = hits.iloc[5:100,3:5]\n",
    "aT"
   ]
  },
  {
   "cell_type": "markdown",
   "metadata": {},
   "source": [
    "#### Quiz -- Pandas"
   ]
  },
  {
   "cell_type": "code",
   "execution_count": 37,
   "metadata": {},
   "outputs": [
    {
     "data": {
      "text/html": [
       "<div>\n",
       "<style scoped>\n",
       "    .dataframe tbody tr th:only-of-type {\n",
       "        vertical-align: middle;\n",
       "    }\n",
       "\n",
       "    .dataframe tbody tr th {\n",
       "        vertical-align: top;\n",
       "    }\n",
       "\n",
       "    .dataframe thead th {\n",
       "        text-align: right;\n",
       "    }\n",
       "</style>\n",
       "<table border=\"1\" class=\"dataframe\">\n",
       "  <thead>\n",
       "    <tr style=\"text-align: right;\">\n",
       "      <th></th>\n",
       "      <th>Name</th>\n",
       "      <th>Age</th>\n",
       "      <th>Sex</th>\n",
       "    </tr>\n",
       "  </thead>\n",
       "  <tbody>\n",
       "    <tr>\n",
       "      <th>0</th>\n",
       "      <td>Braund, Mr. Owen Harris</td>\n",
       "      <td>22</td>\n",
       "      <td>male</td>\n",
       "    </tr>\n",
       "    <tr>\n",
       "      <th>1</th>\n",
       "      <td>Allen, Mr. William Henry</td>\n",
       "      <td>35</td>\n",
       "      <td>male</td>\n",
       "    </tr>\n",
       "    <tr>\n",
       "      <th>2</th>\n",
       "      <td>Bonnell, Miss. Elizabeth</td>\n",
       "      <td>58</td>\n",
       "      <td>female</td>\n",
       "    </tr>\n",
       "  </tbody>\n",
       "</table>\n",
       "</div>"
      ],
      "text/plain": [
       "                       Name  Age     Sex\n",
       "0   Braund, Mr. Owen Harris   22    male\n",
       "1  Allen, Mr. William Henry   35    male\n",
       "2  Bonnell, Miss. Elizabeth   58  female"
      ]
     },
     "execution_count": 37,
     "metadata": {},
     "output_type": "execute_result"
    }
   ],
   "source": [
    "# Question 1\n",
    "\n",
    "# Suppose I have the following dataframe (called df)\n",
    "\n",
    "#                       Name  Age     Sex\n",
    "#0   Braund, Mr. Owen Harris   22    male\n",
    "#1  Allen, Mr. William Henry   35    male\n",
    "#2  Bonnell, Miss. Elizabeth   58  female\n",
    "# How do I create a DataFrame with just the Age and Sex?\n",
    "d = {'Name': ['Braund, Mr. Owen Harris', 'Allen, Mr. William Henry', 'Bonnell, Miss. Elizabeth'], \n",
    "                            'Age':[22, 35, 58], 'Sex': ['male', 'male', 'female']}\n",
    "df = pd.DataFrame(data=d)\n",
    "df"
   ]
  },
  {
   "cell_type": "code",
   "execution_count": 38,
   "metadata": {},
   "outputs": [
    {
     "data": {
      "text/html": [
       "<div>\n",
       "<style scoped>\n",
       "    .dataframe tbody tr th:only-of-type {\n",
       "        vertical-align: middle;\n",
       "    }\n",
       "\n",
       "    .dataframe tbody tr th {\n",
       "        vertical-align: top;\n",
       "    }\n",
       "\n",
       "    .dataframe thead th {\n",
       "        text-align: right;\n",
       "    }\n",
       "</style>\n",
       "<table border=\"1\" class=\"dataframe\">\n",
       "  <thead>\n",
       "    <tr style=\"text-align: right;\">\n",
       "      <th></th>\n",
       "      <th>Age</th>\n",
       "      <th>Sex</th>\n",
       "    </tr>\n",
       "  </thead>\n",
       "  <tbody>\n",
       "    <tr>\n",
       "      <th>0</th>\n",
       "      <td>22</td>\n",
       "      <td>male</td>\n",
       "    </tr>\n",
       "    <tr>\n",
       "      <th>1</th>\n",
       "      <td>35</td>\n",
       "      <td>male</td>\n",
       "    </tr>\n",
       "    <tr>\n",
       "      <th>2</th>\n",
       "      <td>58</td>\n",
       "      <td>female</td>\n",
       "    </tr>\n",
       "  </tbody>\n",
       "</table>\n",
       "</div>"
      ],
      "text/plain": [
       "   Age     Sex\n",
       "0   22    male\n",
       "1   35    male\n",
       "2   58  female"
      ]
     },
     "execution_count": 38,
     "metadata": {},
     "output_type": "execute_result"
    }
   ],
   "source": [
    "# # How do I create a DataFrame with just the Age and Sex?\n",
    "#df[\"Age\",\"Sex\"]\n",
    "#df(\"Age\",\"Sex\")\n",
    "#df == [\"Age\",\"Sex\"]\n",
    "df[[\"Age\",\"Sex\"]]"
   ]
  },
  {
   "cell_type": "code",
   "execution_count": 39,
   "metadata": {},
   "outputs": [
    {
     "data": {
      "text/html": [
       "<div>\n",
       "<style scoped>\n",
       "    .dataframe tbody tr th:only-of-type {\n",
       "        vertical-align: middle;\n",
       "    }\n",
       "\n",
       "    .dataframe tbody tr th {\n",
       "        vertical-align: top;\n",
       "    }\n",
       "\n",
       "    .dataframe thead th {\n",
       "        text-align: right;\n",
       "    }\n",
       "</style>\n",
       "<table border=\"1\" class=\"dataframe\">\n",
       "  <thead>\n",
       "    <tr style=\"text-align: right;\">\n",
       "      <th></th>\n",
       "      <th>Name</th>\n",
       "      <th>Age</th>\n",
       "      <th>Sex</th>\n",
       "    </tr>\n",
       "  </thead>\n",
       "  <tbody>\n",
       "    <tr>\n",
       "      <th>0</th>\n",
       "      <td>Braund, Mr. Owen Harris</td>\n",
       "      <td>22</td>\n",
       "      <td>male</td>\n",
       "    </tr>\n",
       "    <tr>\n",
       "      <th>1</th>\n",
       "      <td>Allen, Mr. William Henry</td>\n",
       "      <td>35</td>\n",
       "      <td>male</td>\n",
       "    </tr>\n",
       "  </tbody>\n",
       "</table>\n",
       "</div>"
      ],
      "text/plain": [
       "                       Name  Age   Sex\n",
       "0   Braund, Mr. Owen Harris   22  male\n",
       "1  Allen, Mr. William Henry   35  male"
      ]
     },
     "execution_count": 39,
     "metadata": {},
     "output_type": "execute_result"
    }
   ],
   "source": [
    "# Question 2\n",
    "# How do I select all the rows where the Sex is male?\n",
    "#df[\"Sex\"] == \"male\"\n",
    "#df == \"male\"\n",
    "#df[\"male\"]\n",
    "df[df[\"Sex\"] == \"male\"]"
   ]
  },
  {
   "cell_type": "markdown",
   "metadata": {},
   "source": [
    "#### Summary statistics\n",
    "- Can compute max, min, mean, median, … of columns"
   ]
  },
  {
   "cell_type": "code",
   "execution_count": 40,
   "metadata": {},
   "outputs": [
    {
     "name": "stdout",
     "output_type": "stream",
     "text": [
      "year    1987.0\n",
      "peak      13.0\n",
      "dtype: float64\n"
     ]
    }
   ],
   "source": [
    "print(hits[['year','peak']].median())"
   ]
  },
  {
   "cell_type": "code",
   "execution_count": 41,
   "metadata": {},
   "outputs": [
    {
     "name": "stdout",
     "output_type": "stream",
     "text": [
      "              year         peak\n",
      "count  5832.000000  5832.000000\n",
      "mean   1985.966907    15.299040\n",
      "std      13.979593    13.065922\n",
      "min    1942.000000     2.000000\n",
      "25%    1974.000000     8.000000\n",
      "50%    1987.000000    13.000000\n",
      "75%    1998.000000    19.000000\n",
      "max    2010.000000   100.000000\n"
     ]
    }
   ],
   "source": [
    "# For full statistical description\n",
    "print(hits[['year','peak']].describe())"
   ]
  },
  {
   "cell_type": "code",
   "execution_count": 42,
   "metadata": {},
   "outputs": [],
   "source": [
    "# Save to file\n",
    "aT2007.to_csv(\"aT2007.csv\")"
   ]
  },
  {
   "cell_type": "markdown",
   "metadata": {},
   "source": [
    "## 3. Numpy\n",
    "- DataFrames allow different data types in each cell. \n",
    "- If we only allow integers/floats then DataFrame is a Matrix\n",
    "- Tools of linear algebra to make use of\n",
    "- Separate library numpy"
   ]
  },
  {
   "cell_type": "code",
   "execution_count": 44,
   "metadata": {
    "scrolled": true
   },
   "outputs": [
    {
     "name": "stdout",
     "output_type": "stream",
     "text": [
      "[[1979    6   67]\n",
      " [2007    2   91]\n",
      " [1986   10   13]\n",
      " ...\n",
      " [1968    9   26]\n",
      " [1978    8   41]\n",
      " [1969   12   13]]\n"
     ]
    }
   ],
   "source": [
    "import numpy as np\n",
    "# Convert DataFrame to Numpy array\n",
    "numbers = hits[['year', 'peak', 'weeks']]\n",
    "hitData = numbers.to_numpy()\n",
    "print(hitData)"
   ]
  },
  {
   "cell_type": "code",
   "execution_count": 45,
   "metadata": {},
   "outputs": [
    {
     "name": "stdout",
     "output_type": "stream",
     "text": [
      "(5832, 3)\n"
     ]
    }
   ],
   "source": [
    "print(hitData.shape)"
   ]
  },
  {
   "cell_type": "markdown",
   "metadata": {},
   "source": [
    "#### Converting back"
   ]
  },
  {
   "cell_type": "code",
   "execution_count": 46,
   "metadata": {},
   "outputs": [
    {
     "data": {
      "text/html": [
       "<div>\n",
       "<style scoped>\n",
       "    .dataframe tbody tr th:only-of-type {\n",
       "        vertical-align: middle;\n",
       "    }\n",
       "\n",
       "    .dataframe tbody tr th {\n",
       "        vertical-align: top;\n",
       "    }\n",
       "\n",
       "    .dataframe thead th {\n",
       "        text-align: right;\n",
       "    }\n",
       "</style>\n",
       "<table border=\"1\" class=\"dataframe\">\n",
       "  <thead>\n",
       "    <tr style=\"text-align: right;\">\n",
       "      <th></th>\n",
       "      <th>year</th>\n",
       "      <th>peak</th>\n",
       "      <th>weeks</th>\n",
       "    </tr>\n",
       "  </thead>\n",
       "  <tbody>\n",
       "    <tr>\n",
       "      <th>0</th>\n",
       "      <td>1979</td>\n",
       "      <td>6</td>\n",
       "      <td>67</td>\n",
       "    </tr>\n",
       "    <tr>\n",
       "      <th>1</th>\n",
       "      <td>2007</td>\n",
       "      <td>2</td>\n",
       "      <td>91</td>\n",
       "    </tr>\n",
       "    <tr>\n",
       "      <th>2</th>\n",
       "      <td>1986</td>\n",
       "      <td>10</td>\n",
       "      <td>13</td>\n",
       "    </tr>\n",
       "    <tr>\n",
       "      <th>3</th>\n",
       "      <td>1993</td>\n",
       "      <td>26</td>\n",
       "      <td>12</td>\n",
       "    </tr>\n",
       "    <tr>\n",
       "      <th>4</th>\n",
       "      <td>2002</td>\n",
       "      <td>2</td>\n",
       "      <td>99</td>\n",
       "    </tr>\n",
       "    <tr>\n",
       "      <th>...</th>\n",
       "      <td>...</td>\n",
       "      <td>...</td>\n",
       "      <td>...</td>\n",
       "    </tr>\n",
       "    <tr>\n",
       "      <th>5827</th>\n",
       "      <td>1986</td>\n",
       "      <td>4</td>\n",
       "      <td>81</td>\n",
       "    </tr>\n",
       "    <tr>\n",
       "      <th>5828</th>\n",
       "      <td>2008</td>\n",
       "      <td>13</td>\n",
       "      <td>44</td>\n",
       "    </tr>\n",
       "    <tr>\n",
       "      <th>5829</th>\n",
       "      <td>1968</td>\n",
       "      <td>9</td>\n",
       "      <td>26</td>\n",
       "    </tr>\n",
       "    <tr>\n",
       "      <th>5830</th>\n",
       "      <td>1978</td>\n",
       "      <td>8</td>\n",
       "      <td>41</td>\n",
       "    </tr>\n",
       "    <tr>\n",
       "      <th>5831</th>\n",
       "      <td>1969</td>\n",
       "      <td>12</td>\n",
       "      <td>13</td>\n",
       "    </tr>\n",
       "  </tbody>\n",
       "</table>\n",
       "<p>5832 rows × 3 columns</p>\n",
       "</div>"
      ],
      "text/plain": [
       "      year  peak  weeks\n",
       "0     1979     6     67\n",
       "1     2007     2     91\n",
       "2     1986    10     13\n",
       "3     1993    26     12\n",
       "4     2002     2     99\n",
       "...    ...   ...    ...\n",
       "5827  1986     4     81\n",
       "5828  2008    13     44\n",
       "5829  1968     9     26\n",
       "5830  1978     8     41\n",
       "5831  1969    12     13\n",
       "\n",
       "[5832 rows x 3 columns]"
      ]
     },
     "execution_count": 46,
     "metadata": {},
     "output_type": "execute_result"
    }
   ],
   "source": [
    "A = pd.DataFrame(hitData)\n",
    "# No column data\n",
    "A = pd.DataFrame(hitData, columns=['year','peak','weeks'])\n",
    "A"
   ]
  },
  {
   "cell_type": "code",
   "execution_count": 48,
   "metadata": {},
   "outputs": [
    {
     "data": {
      "text/plain": [
       "array([[ 1.,  2.,  3.],\n",
       "       [-1.,  1.,  3.]])"
      ]
     },
     "execution_count": 48,
     "metadata": {},
     "output_type": "execute_result"
    }
   ],
   "source": [
    "# (Like DataFrames) can build arrays from scratch\n",
    "A = np.array([[1.0,2.0,3.0],[-1.0,1.0,3.0]])\n",
    "A"
   ]
  },
  {
   "cell_type": "code",
   "execution_count": 49,
   "metadata": {},
   "outputs": [
    {
     "data": {
      "text/plain": [
       "array([ 1.5, -2. , -1.9])"
      ]
     },
     "execution_count": 49,
     "metadata": {},
     "output_type": "execute_result"
    }
   ],
   "source": [
    "# One dimensional arrays (vectors)\n",
    "v = np.array([1.5,-2.0,-1.9]) \n",
    "v"
   ]
  },
  {
   "cell_type": "markdown",
   "metadata": {},
   "source": [
    "#### Operations"
   ]
  },
  {
   "cell_type": "code",
   "execution_count": 50,
   "metadata": {},
   "outputs": [
    {
     "data": {
      "text/plain": [
       "array([[ 2.,  5.,  8.],\n",
       "       [-4.,  2.,  8.]])"
      ]
     },
     "execution_count": 50,
     "metadata": {},
     "output_type": "execute_result"
    }
   ],
   "source": [
    "# Can do scalar multiplication\n",
    "A = A * 3.0\n",
    "B = A + A\n",
    "C = A - 1.0\n",
    "C"
   ]
  },
  {
   "cell_type": "code",
   "execution_count": 51,
   "metadata": {},
   "outputs": [
    {
     "data": {
      "text/plain": [
       "array([-24.6, -27.6])"
      ]
     },
     "execution_count": 51,
     "metadata": {},
     "output_type": "execute_result"
    }
   ],
   "source": [
    "#Can do matrix-vector multiplication\n",
    "A.dot(v)"
   ]
  },
  {
   "cell_type": "code",
   "execution_count": 53,
   "metadata": {},
   "outputs": [
    {
     "data": {
      "text/plain": [
       "array([[1979, 2007, 1986, ..., 1968, 1978, 1969],\n",
       "       [   6,    2,   10, ...,    9,    8,   12],\n",
       "       [  67,   91,   13, ...,   26,   41,   13]], dtype=int64)"
      ]
     },
     "execution_count": 53,
     "metadata": {},
     "output_type": "execute_result"
    }
   ],
   "source": [
    "# Matrix transpose\n",
    "hDT = hitData.transpose()\n",
    "hDT"
   ]
  },
  {
   "cell_type": "code",
   "execution_count": 54,
   "metadata": {},
   "outputs": [
    {
     "data": {
      "text/plain": [
       "array([[23002924029,   177416002,   415992178],\n",
       "       [  177416002,     2360500,     2871070],\n",
       "       [  415992178,     2871070,    12553321]], dtype=int64)"
      ]
     },
     "execution_count": 54,
     "metadata": {},
     "output_type": "execute_result"
    }
   ],
   "source": [
    "# Matrix-matrix multiplication\n",
    "Hsq= hDT.dot(hitData)\n",
    "Hsq"
   ]
  },
  {
   "cell_type": "markdown",
   "metadata": {},
   "source": [
    "#### Linear algebra\n",
    "\n",
    "Sub-library numpy.linalg\n",
    "\n",
    "Linear algebra operations\n",
    "- Eigen-values\n",
    "- SVD"
   ]
  },
  {
   "cell_type": "markdown",
   "metadata": {},
   "source": [
    "#### Example"
   ]
  },
  {
   "cell_type": "code",
   "execution_count": 55,
   "metadata": {},
   "outputs": [
    {
     "name": "stdout",
     "output_type": "stream",
     "text": [
      "(array([[-0.99980672,  0.01738404,  0.00918232],\n",
      "       [-0.00771134,  0.08287014, -0.99653052],\n",
      "       [-0.01808466, -0.99640872, -0.08272007]]), array([151696.46317611,   2248.74414242,    981.86538839]), array([[-1.30515597e-02, -1.32387610e-02, -1.30914612e-02, ...,\n",
      "        -1.29743251e-02, -1.30419709e-02, -1.29795186e-02],\n",
      "       [-1.41675329e-02, -2.47327797e-02,  9.96115233e-03, ...,\n",
      "         4.02490735e-03, -2.58107343e-03,  9.90343641e-03],\n",
      "       [ 6.77321348e-03,  9.07286203e-03,  7.32831815e-03, ...,\n",
      "         7.07969732e-03,  6.92443433e-03,  5.13946364e-03],\n",
      "       ...,\n",
      "       [-1.28104755e-02, -6.09905221e-03, -5.76601252e-03, ...,\n",
      "         9.99769631e-01, -2.01766970e-04, -2.42309531e-04],\n",
      "       [-1.30374214e-02, -7.36039005e-03,  7.18553283e-04, ...,\n",
      "        -2.05068680e-04,  9.99780481e-01, -1.78954433e-04],\n",
      "       [-1.26927201e-02, -2.94712505e-03, -1.10944791e-02, ...,\n",
      "        -2.39388607e-04, -1.73093187e-04,  9.99711074e-01]]))\n"
     ]
    }
   ],
   "source": [
    "# Singular Value Decomposition\n",
    "X = np.linalg.svd(hDT)\n",
    "print(X)"
   ]
  },
  {
   "cell_type": "code",
   "execution_count": 57,
   "metadata": {},
   "outputs": [
    {
     "data": {
      "text/plain": [
       "(array([203.50686787,  21.49313213]),\n",
       " array([[ 0.75774021, -0.65255634],\n",
       "        [ 0.65255634,  0.75774021]]))"
      ]
     },
     "execution_count": 57,
     "metadata": {},
     "output_type": "execute_result"
    }
   ],
   "source": [
    "Y = np.linalg.eig(A.dot(A.transpose()))\n",
    "Y"
   ]
  },
  {
   "cell_type": "code",
   "execution_count": 66,
   "metadata": {},
   "outputs": [
    {
     "data": {
      "text/plain": [
       "(array([203.50686787+0.j,  21.49313213+0.j]),\n",
       " array([[ 0.75774021, -0.65255634],\n",
       "        [ 0.65255634,  0.75774021]]))"
      ]
     },
     "execution_count": 66,
     "metadata": {},
     "output_type": "execute_result"
    }
   ],
   "source": [
    "# Variation on import statement\n",
    "#from numpy import lining\n",
    "from scipy import linalg\n",
    "Y = linalg.eig(A.dot(A.transpose()))  \n",
    "Y"
   ]
  },
  {
   "cell_type": "markdown",
   "metadata": {},
   "source": [
    "#### Quiz -- Numpy\n",
    "#### Question 1"
   ]
  },
  {
   "cell_type": "markdown",
   "metadata": {},
   "source": [
    "Write a function matrixVectorMult which accepts two arguments - a NumPy matrix M and a Numpy vector v.\n",
    "matrixVectorMult returns the vector corresponding to M v. matrixVectorMult should check if\n",
    "- M is a two dimensional matrix\n",
    "- v is a one dimensional vector\n",
    "- M and v have the right dimensions to be multipled together\n",
    "(hint use the shape command).\n",
    "If it does not satisfy the requirements then it should return the string \"Error!\".\n",
    "\n",
    "If\n",
    "\n",
    "M=(1 3 \n",
    "   \n",
    "   2 4)\n",
    "\n",
    "and\n",
    "\n",
    "v=(−1 \n",
    "\n",
    "1)\n",
    "\n",
    "then \n",
    "\n",
    "matrixVectorMult(M,v) returns a Numpy matrix corresponding to\n",
    "\n",
    "(−1 \n",
    "\n",
    "−1) .\n",
    "\n",
    "matrixVectorMult(v,M) and matrixVectorMult(v,v) return \"Error!\""
   ]
  },
  {
   "cell_type": "code",
   "execution_count": 160,
   "metadata": {},
   "outputs": [
    {
     "name": "stdout",
     "output_type": "stream",
     "text": [
      "M =  [[1 2]\n",
      " [3 4]]\n",
      "v =  [[ 1]\n",
      " [-1]]\n"
     ]
    }
   ],
   "source": [
    "M = np.array([[1,2],[3,4]])\n",
    "v = np.array([[1], [-1]])\n",
    "print(\"M = \", M)\n",
    "print(\"v = \", v)"
   ]
  },
  {
   "cell_type": "code",
   "execution_count": 161,
   "metadata": {},
   "outputs": [
    {
     "data": {
      "text/plain": [
       "array([[-1],\n",
       "       [-1]])"
      ]
     },
     "execution_count": 161,
     "metadata": {},
     "output_type": "execute_result"
    }
   ],
   "source": [
    "M.dot(v)"
   ]
  },
  {
   "cell_type": "code",
   "execution_count": 162,
   "metadata": {},
   "outputs": [],
   "source": [
    "#v.transpose()\n",
    "#v"
   ]
  },
  {
   "cell_type": "code",
   "execution_count": 163,
   "metadata": {},
   "outputs": [
    {
     "name": "stdout",
     "output_type": "stream",
     "text": [
      "M.shape =  (2, 2)\n",
      "v.shape =  (2, 1)\n"
     ]
    }
   ],
   "source": [
    "print(\"M.shape = \", M.shape)\n",
    "print(\"v.shape = \", v.shape)"
   ]
  },
  {
   "cell_type": "code",
   "execution_count": 164,
   "metadata": {},
   "outputs": [
    {
     "name": "stdout",
     "output_type": "stream",
     "text": [
      "M.shape[1] =  2\n",
      "v.shape[0] =  2\n",
      "v.shape[1] =  1\n"
     ]
    }
   ],
   "source": [
    "print(\"M.shape[1] = \", M.shape[1])\n",
    "print(\"v.shape[0] = \", v.shape[0])\n",
    "print(\"v.shape[1] = \", v.shape[1])"
   ]
  },
  {
   "cell_type": "code",
   "execution_count": 184,
   "metadata": {},
   "outputs": [
    {
     "name": "stdout",
     "output_type": "stream",
     "text": [
      "[-1 -1]\n"
     ]
    },
    {
     "ename": "IndexError",
     "evalue": "tuple index out of range",
     "output_type": "error",
     "traceback": [
      "\u001b[1;31m---------------------------------------------------------------------------\u001b[0m",
      "\u001b[1;31mIndexError\u001b[0m                                Traceback (most recent call last)",
      "\u001b[1;32m<ipython-input-184-83ffd7b3e2bb>\u001b[0m in \u001b[0;36m<module>\u001b[1;34m\u001b[0m\n\u001b[0;32m     14\u001b[0m \u001b[1;31m#v = np.array([[1], [-1]])\u001b[0m\u001b[1;33m\u001b[0m\u001b[1;33m\u001b[0m\u001b[1;33m\u001b[0m\u001b[0m\n\u001b[0;32m     15\u001b[0m \u001b[0mprint\u001b[0m\u001b[1;33m(\u001b[0m\u001b[0mmatrixVectorMult\u001b[0m\u001b[1;33m(\u001b[0m\u001b[0mM\u001b[0m\u001b[1;33m,\u001b[0m\u001b[0mv\u001b[0m\u001b[1;33m)\u001b[0m\u001b[1;33m)\u001b[0m\u001b[1;33m\u001b[0m\u001b[1;33m\u001b[0m\u001b[0m\n\u001b[1;32m---> 16\u001b[1;33m \u001b[0mprint\u001b[0m\u001b[1;33m(\u001b[0m\u001b[0mmatrixVectorMult\u001b[0m\u001b[1;33m(\u001b[0m\u001b[0mv\u001b[0m\u001b[1;33m,\u001b[0m\u001b[0mM\u001b[0m\u001b[1;33m)\u001b[0m\u001b[1;33m)\u001b[0m\u001b[1;33m\u001b[0m\u001b[1;33m\u001b[0m\u001b[0m\n\u001b[0m\u001b[0;32m     17\u001b[0m \u001b[0mprint\u001b[0m\u001b[1;33m(\u001b[0m\u001b[0mmatrixVectorMult\u001b[0m\u001b[1;33m(\u001b[0m\u001b[0mv\u001b[0m\u001b[1;33m,\u001b[0m\u001b[0mv\u001b[0m\u001b[1;33m)\u001b[0m\u001b[1;33m)\u001b[0m\u001b[1;33m\u001b[0m\u001b[1;33m\u001b[0m\u001b[0m\n",
      "\u001b[1;32m<ipython-input-184-83ffd7b3e2bb>\u001b[0m in \u001b[0;36mmatrixVectorMult\u001b[1;34m(M, v)\u001b[0m\n\u001b[0;32m      1\u001b[0m \u001b[1;32mdef\u001b[0m \u001b[0mmatrixVectorMult\u001b[0m\u001b[1;33m(\u001b[0m\u001b[0mM\u001b[0m\u001b[1;33m,\u001b[0m \u001b[0mv\u001b[0m\u001b[1;33m)\u001b[0m\u001b[1;33m:\u001b[0m\u001b[1;33m\u001b[0m\u001b[1;33m\u001b[0m\u001b[0m\n\u001b[1;32m----> 2\u001b[1;33m     \u001b[1;32mif\u001b[0m \u001b[0mM\u001b[0m\u001b[1;33m.\u001b[0m\u001b[0mshape\u001b[0m\u001b[1;33m[\u001b[0m\u001b[1;36m0\u001b[0m\u001b[1;33m]\u001b[0m\u001b[1;33m==\u001b[0m\u001b[1;36m2\u001b[0m \u001b[1;33m&\u001b[0m \u001b[0mM\u001b[0m\u001b[1;33m.\u001b[0m\u001b[0mshape\u001b[0m\u001b[1;33m[\u001b[0m\u001b[1;36m1\u001b[0m\u001b[1;33m]\u001b[0m \u001b[1;33m==\u001b[0m \u001b[1;36m2\u001b[0m\u001b[1;33m:\u001b[0m\u001b[1;33m\u001b[0m\u001b[1;33m\u001b[0m\u001b[0m\n\u001b[0m\u001b[0;32m      3\u001b[0m         \u001b[1;32mif\u001b[0m \u001b[0mv\u001b[0m\u001b[1;33m.\u001b[0m\u001b[0mshape\u001b[0m\u001b[1;33m[\u001b[0m\u001b[1;36m0\u001b[0m\u001b[1;33m]\u001b[0m \u001b[1;33m==\u001b[0m \u001b[1;36m2\u001b[0m\u001b[1;33m:\u001b[0m\u001b[1;33m\u001b[0m\u001b[1;33m\u001b[0m\u001b[0m\n\u001b[0;32m      4\u001b[0m             \u001b[1;32mif\u001b[0m \u001b[0mM\u001b[0m\u001b[1;33m.\u001b[0m\u001b[0mshape\u001b[0m\u001b[1;33m[\u001b[0m\u001b[1;36m1\u001b[0m\u001b[1;33m]\u001b[0m \u001b[1;33m==\u001b[0m \u001b[0mv\u001b[0m\u001b[1;33m.\u001b[0m\u001b[0mshape\u001b[0m\u001b[1;33m[\u001b[0m\u001b[1;36m0\u001b[0m\u001b[1;33m]\u001b[0m\u001b[1;33m:\u001b[0m\u001b[1;33m\u001b[0m\u001b[1;33m\u001b[0m\u001b[0m\n\u001b[0;32m      5\u001b[0m                 \u001b[1;31m#v.transpose()\u001b[0m\u001b[1;33m\u001b[0m\u001b[1;33m\u001b[0m\u001b[1;33m\u001b[0m\u001b[0m\n",
      "\u001b[1;31mIndexError\u001b[0m: tuple index out of range"
     ]
    }
   ],
   "source": [
    "def matrixVectorMult(M, v):\n",
    "    if M.shape[0]==2 & M.shape[1] == 2:\n",
    "        if v.shape[0] == 2:\n",
    "            if M.shape[1] == v.shape[0]:\n",
    "                #v.transpose()\n",
    "                return (M.dot(v))\n",
    "            else:\n",
    "                  print(\"ErrOR!\")\n",
    "   \n",
    "            \n",
    "        \n",
    "M = np.array([[1,2],[3,4]])\n",
    "v = np.array([1,-1])\n",
    "#v = np.array([[1], [-1]])\n",
    "print(matrixVectorMult(M,v))\n",
    "#print(matrixVectorMult(v,M))\n",
    "#print(matrixVectorMult(v,v))"
   ]
  },
  {
   "cell_type": "markdown",
   "metadata": {},
   "source": [
    "## 4. Json\n",
    "- So far - regular data structures\n",
    "- But what about data structures that are not regular\n",
    "- Dictionaries?\n",
    "- JSON (JavaScript Object Notation) designed for lightweight storage/reading such structures."
   ]
  },
  {
   "cell_type": "markdown",
   "metadata": {},
   "source": [
    "#### Saving"
   ]
  },
  {
   "cell_type": "code",
   "execution_count": 4,
   "metadata": {},
   "outputs": [],
   "source": [
    "import json\n",
    "myD = { 'red' : (0,1,0), 'green' : 'hello', 'blue' : \n",
    "[-1,2.0] }\n",
    "fn= \"myD.json\"\n",
    "fp= open(fn,'w')\n",
    "json.dump(myD,fp)\n",
    "fp.close()"
   ]
  },
  {
   "cell_type": "markdown",
   "metadata": {},
   "source": [
    "#### Loading"
   ]
  },
  {
   "cell_type": "code",
   "execution_count": 9,
   "metadata": {},
   "outputs": [],
   "source": [
    "fn = 'myD.json'\n",
    "fp = open(fn)\n",
    "X = json.load(fp)\n",
    "fp.close()"
   ]
  }
 ],
 "metadata": {
  "kernelspec": {
   "display_name": "Python 3",
   "language": "python",
   "name": "python3"
  },
  "language_info": {
   "codemirror_mode": {
    "name": "ipython",
    "version": 3
   },
   "file_extension": ".py",
   "mimetype": "text/x-python",
   "name": "python",
   "nbconvert_exporter": "python",
   "pygments_lexer": "ipython3",
   "version": "3.8.5"
  }
 },
 "nbformat": 4,
 "nbformat_minor": 4
}
